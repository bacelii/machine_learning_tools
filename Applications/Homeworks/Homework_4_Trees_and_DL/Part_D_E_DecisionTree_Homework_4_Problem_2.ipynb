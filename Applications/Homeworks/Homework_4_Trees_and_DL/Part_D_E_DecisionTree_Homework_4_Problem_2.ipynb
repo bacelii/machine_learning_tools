{
 "cells": [
  {
   "cell_type": "code",
   "execution_count": null,
   "metadata": {},
   "outputs": [],
   "source": [
    "\"\"\"\n",
    "11/23\n",
    "Purpose: To analyze the fashion dataset using tree based methods\n",
    "\n",
    "\"\"\""
   ]
  },
  {
   "cell_type": "code",
   "execution_count": 1,
   "metadata": {},
   "outputs": [],
   "source": [
    "%load_ext autoreload\n",
    "%autoreload 2"
   ]
  },
  {
   "cell_type": "code",
   "execution_count": 2,
   "metadata": {},
   "outputs": [],
   "source": [
    "#!git clone https://github.com/celiibrendan/fashion-mnist.git"
   ]
  },
  {
   "cell_type": "code",
   "execution_count": 3,
   "metadata": {},
   "outputs": [],
   "source": [
    "from os import sys\n",
    "sys.path.append(\"/fashion-mnist/utils/\")\n",
    "sys.path.append(\"../../../machine_learning_tools/\")"
   ]
  },
  {
   "cell_type": "code",
   "execution_count": 4,
   "metadata": {},
   "outputs": [],
   "source": [
    "import sklearn_models as sklm\n",
    "import sklearn_utils as sklu\n",
    "import numpy_ml as nu\n",
    "import general_utils as gu"
   ]
  },
  {
   "cell_type": "markdown",
   "metadata": {},
   "source": [
    "# loads the fashion dataset"
   ]
  },
  {
   "cell_type": "code",
   "execution_count": 5,
   "metadata": {},
   "outputs": [],
   "source": [
    "import mnist_reader\n",
    "X_train, y_train = mnist_reader.load_mnist('/fashion-mnist/data/fashion', kind='train')\n",
    "X_test, y_test = mnist_reader.load_mnist('/fashion-mnist/data/fashion', kind='t10k')"
   ]
  },
  {
   "cell_type": "code",
   "execution_count": 6,
   "metadata": {},
   "outputs": [
    {
     "data": {
      "text/plain": [
       "(60000, 784)"
      ]
     },
     "execution_count": 6,
     "metadata": {},
     "output_type": "execute_result"
    }
   ],
   "source": [
    "X_train.shape"
   ]
  },
  {
   "cell_type": "code",
   "execution_count": 8,
   "metadata": {},
   "outputs": [
    {
     "data": {
      "text/plain": [
       "<matplotlib.image.AxesImage at 0x7f4ed989cd68>"
      ]
     },
     "execution_count": 8,
     "metadata": {},
     "output_type": "execute_result"
    },
    {
     "data": {
      "image/png": "[encoded data removed]",
      "text/plain": [
       "<Figure size 432x288 with 1 Axes>"
      ]
     },
     "metadata": {
      "needs_background": "light"
     },
     "output_type": "display_data"
    }
   ],
   "source": [
    "import matplotlib.pyplot as plt\n",
    "plt.imshow(X_train[0].reshape(28,28))"
   ]
  },
  {
   "cell_type": "markdown",
   "metadata": {},
   "source": [
    "# Part D: Trying to Tune Models for Accuracy (Decision Tree)"
   ]
  },
  {
   "cell_type": "code",
   "execution_count": 9,
   "metadata": {},
   "outputs": [
    {
     "data": {
      "text/plain": [
       "'\\nPurpose:  \\nAccuracy. Now properly tune each approach and compare and contrast the test accuracy of each\\nmethod. Which performs best? Why? What hyperparameters led to the best test error? How\\nlong did each approach take to train? (Note: If you did the Deep Learning problem, also compare\\nyour accuracy and timing to that of the Deep Learning methods above.)\\n\\nPseudocode: \\n0) Determine all parameters we want to set or inspect over and define\\n1) Define the RandomizedSearchCV for the models\\n2) Run the RandomizedSearchCV: \\n- record the testing error\\n- record the time it took\\n3) Compare the \\n\\n'"
      ]
     },
     "execution_count": 9,
     "metadata": {},
     "output_type": "execute_result"
    }
   ],
   "source": [
    " \"\"\"\n",
    "Purpose:  \n",
    "Accuracy. Now properly tune each approach and compare and contrast the test accuracy of each\n",
    "method. Which performs best? Why? What hyperparameters led to the best test error? How\n",
    "long did each approach take to train? (Note: If you did the Deep Learning problem, also compare\n",
    "your accuracy and timing to that of the Deep Learning methods above.)\n",
    "\n",
    "Pseudocode: \n",
    "0) Determine all parameters we want to set or inspect over and define\n",
    "1) Define the RandomizedSearchCV for the models\n",
    "2) Run the RandomizedSearchCV: \n",
    "- record the testing error\n",
    "- record the time it took\n",
    "3) Compare the \n",
    "\n",
    "\"\"\"\n"
   ]
  },
  {
   "cell_type": "code",
   "execution_count": 67,
   "metadata": {},
   "outputs": [],
   "source": [
    "param_dict = {\n",
    "    \"max_depth\": np.linspace(5,40,100).astype('int'),\n",
    "}\n",
    "\n",
    "model_name = \"DecisionTreeClassifier\"\n",
    "\n",
    "clf = sklm.DecisionTreeClassifier()"
   ]
  },
  {
   "cell_type": "code",
   "execution_count": 39,
   "metadata": {},
   "outputs": [
    {
     "name": "stdout",
     "output_type": "stream",
     "text": [
      "RandomizedSearchCV took 948.74 seconds for 10 candidates parameter settings.\n",
      "Model with rank: 1\n",
      "Mean validation score: 0.815 (std: 0.003)\n",
      "Parameters: {'max_depth': 13}\n",
      "\n",
      "Model with rank: 2\n",
      "Mean validation score: 0.810 (std: 0.004)\n",
      "Parameters: {'max_depth': 11}\n",
      "\n",
      "Model with rank: 3\n",
      "Mean validation score: 0.810 (std: 0.005)\n",
      "Parameters: {'max_depth': 16}\n",
      "\n"
     ]
    }
   ],
   "source": [
    "import hyperparameters_ml as hml\n",
    "best_param, cv_results = hml.best_hyperparams_RandomizedSearchCV(\n",
    "    clf,\n",
    "    parameter_dict=param_dict,\n",
    "    X = X_train,\n",
    "    y = y_train,\n",
    "    n_iter_search=10,\n",
    "    verbose = True\n",
    ")"
   ]
  },
  {
   "cell_type": "markdown",
   "metadata": {},
   "source": [
    "# Getting the Testing Accuracy"
   ]
  },
  {
   "cell_type": "code",
   "execution_count": 41,
   "metadata": {},
   "outputs": [],
   "source": [
    "best_parameters = dict(max_depth = 13)"
   ]
  },
  {
   "cell_type": "code",
   "execution_count": 45,
   "metadata": {},
   "outputs": [
    {
     "name": "stdout",
     "output_type": "stream",
     "text": [
      "Accuracy of Best Model on Test Data = 0.8088\n"
     ]
    }
   ],
   "source": [
    "clf_best = cv_results.best_estimator_\n",
    "print(f\"Accuracy of Best Model on Test Data = {sklu.accuracy(clf_best,X_test,y_test)}\")"
   ]
  },
  {
   "cell_type": "markdown",
   "metadata": {},
   "source": [
    "# Visualizing the Results"
   ]
  },
  {
   "cell_type": "code",
   "execution_count": 63,
   "metadata": {},
   "outputs": [],
   "source": [
    "feature_names =  np.array([f\"p{i}\" for i in range(clf_best.n_features_in_)])"
   ]
  },
  {
   "cell_type": "code",
   "execution_count": 64,
   "metadata": {},
   "outputs": [],
   "source": [
    "clf_best.classes_ = [f\"{k}\" for k in clf_best.classes_]"
   ]
  },
  {
   "cell_type": "code",
   "execution_count": 65,
   "metadata": {
    "scrolled": false
   },
   "outputs": [
    {
     "name": "stdout",
     "output_type": "stream",
     "text": [
      "clf.classes_ = ['0', '1', '2', '3', '4', '5', '6', '7', '8', '9']\n"
     ]
    },
    {
     "data": {
      "image/svg+xml": [
       "<svg height=\"446pt\" viewBox=\"0.00 0.00 1707.00 446.00\" width=\"1707pt\" xmlns=\"http://www.w3.org/2000/svg\" xmlns:xlink=\"http://www.w3.org/1999/xlink\">\n",
       "<g class=\"graph\" id=\"graph0\" transform=\"scale(1 1) rotate(0) translate(4 442)\">\n",
       "<title>Tree</title>\n",
       "<polygon fill=\"#ffffff\" points=\"-4,4 -4,-442 1703,-442 1703,4 -4,4\" stroke=\"transparent\"/>\n",
       "<!-- 0 -->\n",
       "<g class=\"node\" id=\"node1\">\n",
       "<title>0</title>\n",
       "<polygon fill=\"#ffffff\" points=\"1083,-438 606,-438 606,-340 1083,-340 1083,-438\" stroke=\"#000000\"/>\n",
       "<text fill=\"#000000\" font-family=\"Times,serif\" font-size=\"14.00\" text-anchor=\"middle\" x=\"844.5\" y=\"-422.8\">p207 &lt;= 7.5</text>\n",
       "<text fill=\"#000000\" font-family=\"Times,serif\" font-size=\"14.00\" text-anchor=\"middle\" x=\"844.5\" y=\"-407.8\">gini = 0.9</text>\n",
       "<text fill=\"#000000\" font-family=\"Times,serif\" font-size=\"14.00\" text-anchor=\"middle\" x=\"844.5\" y=\"-392.8\">samples = 60000</text>\n",
       "<text fill=\"#000000\" font-family=\"Times,serif\" font-size=\"14.00\" text-anchor=\"middle\" x=\"844.5\" y=\"-377.8\">value = [6000, 6000, 6000, 6000, 6000, 6000, 6000, 6000, 6000</text>\n",
       "<text fill=\"#000000\" font-family=\"Times,serif\" font-size=\"14.00\" text-anchor=\"middle\" x=\"844.5\" y=\"-362.8\">6000]</text>\n",
       "<text fill=\"#000000\" font-family=\"Times,serif\" font-size=\"14.00\" text-anchor=\"middle\" x=\"844.5\" y=\"-347.8\">class = 0</text>\n",
       "</g>\n",
       "<!-- 1 -->\n",
       "<g class=\"node\" id=\"node2\">\n",
       "<title>1</title>\n",
       "<polygon fill=\"#fdfbfe\" points=\"832,-296.5 395,-296.5 395,-213.5 832,-213.5 832,-296.5\" stroke=\"#000000\"/>\n",
       "<text fill=\"#000000\" font-family=\"Times,serif\" font-size=\"14.00\" text-anchor=\"middle\" x=\"613.5\" y=\"-281.3\">p599 &lt;= 82.5</text>\n",
       "<text fill=\"#000000\" font-family=\"Times,serif\" font-size=\"14.00\" text-anchor=\"middle\" x=\"613.5\" y=\"-266.3\">gini = 0.731893</text>\n",
       "<text fill=\"#000000\" font-family=\"Times,serif\" font-size=\"14.00\" text-anchor=\"middle\" x=\"613.5\" y=\"-251.3\">samples = 19593</text>\n",
       "<text fill=\"#000000\" font-family=\"Times,serif\" font-size=\"14.00\" text-anchor=\"middle\" x=\"613.5\" y=\"-236.3\">value = [135, 28, 77, 142, 31, 5614, 86, 5982, 1818, 5680]</text>\n",
       "<text fill=\"#000000\" font-family=\"Times,serif\" font-size=\"14.00\" text-anchor=\"middle\" x=\"613.5\" y=\"-221.3\">class = 7</text>\n",
       "</g>\n",
       "<!-- 0&#45;&gt;1 -->\n",
       "<g class=\"edge\" id=\"edge1\">\n",
       "<title>0-&gt;1</title>\n",
       "<path d=\"M759.7958,-339.8642C738.2932,-327.3909 715.2543,-314.0263 693.9688,-301.6788\" fill=\"none\" stroke=\"#000000\"/>\n",
       "<polygon fill=\"#000000\" points=\"695.6854,-298.6284 685.2792,-296.6381 692.1729,-304.6834 695.6854,-298.6284\" stroke=\"#000000\"/>\n",
       "<text fill=\"#000000\" font-family=\"Times,serif\" font-size=\"14.00\" text-anchor=\"middle\" x=\"691.7001\" y=\"-317.0995\">True</text>\n",
       "</g>\n",
       "<!-- 1036 -->\n",
       "<g class=\"node\" id=\"node9\">\n",
       "<title>1036</title>\n",
       "<polygon fill=\"#ffffff\" points=\"1300.5,-304 850.5,-304 850.5,-206 1300.5,-206 1300.5,-304\" stroke=\"#000000\"/>\n",
       "<text fill=\"#000000\" font-family=\"Times,serif\" font-size=\"14.00\" text-anchor=\"middle\" x=\"1075.5\" y=\"-288.8\">p546 &lt;= 6.5</text>\n",
       "<text fill=\"#000000\" font-family=\"Times,serif\" font-size=\"14.00\" text-anchor=\"middle\" x=\"1075.5\" y=\"-273.8\">gini = 0.860475</text>\n",
       "<text fill=\"#000000\" font-family=\"Times,serif\" font-size=\"14.00\" text-anchor=\"middle\" x=\"1075.5\" y=\"-258.8\">samples = 40407</text>\n",
       "<text fill=\"#000000\" font-family=\"Times,serif\" font-size=\"14.00\" text-anchor=\"middle\" x=\"1075.5\" y=\"-243.8\">value = [5865, 5972, 5923, 5858, 5969, 386, 5914, 18, 4182</text>\n",
       "<text fill=\"#000000\" font-family=\"Times,serif\" font-size=\"14.00\" text-anchor=\"middle\" x=\"1075.5\" y=\"-228.8\">320]</text>\n",
       "<text fill=\"#000000\" font-family=\"Times,serif\" font-size=\"14.00\" text-anchor=\"middle\" x=\"1075.5\" y=\"-213.8\">class = 1</text>\n",
       "</g>\n",
       "<!-- 0&#45;&gt;1036 -->\n",
       "<g class=\"edge\" id=\"edge8\">\n",
       "<title>0-&gt;1036</title>\n",
       "<path d=\"M929.2042,-339.8642C946.3097,-329.9416 964.3874,-319.4549 981.7813,-309.365\" fill=\"none\" stroke=\"#000000\"/>\n",
       "<polygon fill=\"#000000\" points=\"983.9123,-312.1751 990.806,-304.1298 980.3998,-306.1201 983.9123,-312.1751\" stroke=\"#000000\"/>\n",
       "<text fill=\"#000000\" font-family=\"Times,serif\" font-size=\"14.00\" text-anchor=\"middle\" x=\"984.3851\" y=\"-324.5912\">False</text>\n",
       "</g>\n",
       "<!-- 2 -->\n",
       "<g class=\"node\" id=\"node3\">\n",
       "<title>2</title>\n",
       "<polygon fill=\"#efdcfa\" points=\"401,-162.5 0,-162.5 0,-79.5 401,-79.5 401,-162.5\" stroke=\"#000000\"/>\n",
       "<text fill=\"#000000\" font-family=\"Times,serif\" font-size=\"14.00\" text-anchor=\"middle\" x=\"200.5\" y=\"-147.3\">p405 &lt;= 12.5</text>\n",
       "<text fill=\"#000000\" font-family=\"Times,serif\" font-size=\"14.00\" text-anchor=\"middle\" x=\"200.5\" y=\"-132.3\">gini = 0.578603</text>\n",
       "<text fill=\"#000000\" font-family=\"Times,serif\" font-size=\"14.00\" text-anchor=\"middle\" x=\"200.5\" y=\"-117.3\">samples = 10540</text>\n",
       "<text fill=\"#000000\" font-family=\"Times,serif\" font-size=\"14.00\" text-anchor=\"middle\" x=\"200.5\" y=\"-102.3\">value = [46, 11, 21, 27, 18, 4230, 53, 5344, 247, 543]</text>\n",
       "<text fill=\"#000000\" font-family=\"Times,serif\" font-size=\"14.00\" text-anchor=\"middle\" x=\"200.5\" y=\"-87.3\">class = 7</text>\n",
       "</g>\n",
       "<!-- 1&#45;&gt;2 -->\n",
       "<g class=\"edge\" id=\"edge2\">\n",
       "<title>1-&gt;2</title>\n",
       "<path d=\"M485.3704,-213.4277C438.7275,-198.2942 385.8208,-181.1283 338.3694,-165.7324\" fill=\"none\" stroke=\"#000000\"/>\n",
       "<polygon fill=\"#000000\" points=\"339.2357,-162.334 328.6436,-162.5769 337.0753,-168.9923 339.2357,-162.334\" stroke=\"#000000\"/>\n",
       "</g>\n",
       "<!-- 551 -->\n",
       "<g class=\"node\" id=\"node6\">\n",
       "<title>551</title>\n",
       "<polygon fill=\"#f3a1af\" points=\"838,-162.5 419,-162.5 419,-79.5 838,-79.5 838,-162.5\" stroke=\"#000000\"/>\n",
       "<text fill=\"#000000\" font-family=\"Times,serif\" font-size=\"14.00\" text-anchor=\"middle\" x=\"628.5\" y=\"-147.3\">p371 &lt;= 13.5</text>\n",
       "<text fill=\"#000000\" font-family=\"Times,serif\" font-size=\"14.00\" text-anchor=\"middle\" x=\"628.5\" y=\"-132.3\">gini = 0.619249</text>\n",
       "<text fill=\"#000000\" font-family=\"Times,serif\" font-size=\"14.00\" text-anchor=\"middle\" x=\"628.5\" y=\"-117.3\">samples = 9053</text>\n",
       "<text fill=\"#000000\" font-family=\"Times,serif\" font-size=\"14.00\" text-anchor=\"middle\" x=\"628.5\" y=\"-102.3\">value = [89, 17, 56, 115, 13, 1384, 33, 638, 1571, 5137]</text>\n",
       "<text fill=\"#000000\" font-family=\"Times,serif\" font-size=\"14.00\" text-anchor=\"middle\" x=\"628.5\" y=\"-87.3\">class = 9</text>\n",
       "</g>\n",
       "<!-- 1&#45;&gt;551 -->\n",
       "<g class=\"edge\" id=\"edge5\">\n",
       "<title>1-&gt;551</title>\n",
       "<path d=\"M618.1639,-213.3361C619.6031,-200.4794 621.2056,-186.163 622.7111,-172.7145\" fill=\"none\" stroke=\"#000000\"/>\n",
       "<polygon fill=\"#000000\" points=\"626.2047,-172.9655 623.839,-162.6381 619.2482,-172.1867 626.2047,-172.9655\" stroke=\"#000000\"/>\n",
       "</g>\n",
       "<!-- 3 -->\n",
       "<g class=\"node\" id=\"node4\">\n",
       "<title>3</title>\n",
       "<polygon fill=\"#c0c0c0\" points=\"191.5,-36 137.5,-36 137.5,0 191.5,0 191.5,-36\" stroke=\"#000000\"/>\n",
       "<text fill=\"#000000\" font-family=\"Times,serif\" font-size=\"14.00\" text-anchor=\"middle\" x=\"164.5\" y=\"-14.3\">(...)</text>\n",
       "</g>\n",
       "<!-- 2&#45;&gt;3 -->\n",
       "<g class=\"edge\" id=\"edge3\">\n",
       "<title>2-&gt;3</title>\n",
       "<path d=\"M185.9612,-79.4029C182.0095,-68.0967 177.8266,-56.1289 174.2135,-45.7914\" fill=\"none\" stroke=\"#000000\"/>\n",
       "<polygon fill=\"#000000\" points=\"177.4235,-44.3673 170.82,-36.0821 170.8155,-46.677 177.4235,-44.3673\" stroke=\"#000000\"/>\n",
       "</g>\n",
       "<!-- 108 -->\n",
       "<g class=\"node\" id=\"node5\">\n",
       "<title>108</title>\n",
       "<polygon fill=\"#c0c0c0\" points=\"263.5,-36 209.5,-36 209.5,0 263.5,0 263.5,-36\" stroke=\"#000000\"/>\n",
       "<text fill=\"#000000\" font-family=\"Times,serif\" font-size=\"14.00\" text-anchor=\"middle\" x=\"236.5\" y=\"-14.3\">(...)</text>\n",
       "</g>\n",
       "<!-- 2&#45;&gt;108 -->\n",
       "<g class=\"edge\" id=\"edge4\">\n",
       "<title>2-&gt;108</title>\n",
       "<path d=\"M215.0388,-79.4029C218.9905,-68.0967 223.1734,-56.1289 226.7865,-45.7914\" fill=\"none\" stroke=\"#000000\"/>\n",
       "<polygon fill=\"#000000\" points=\"230.1845,-46.677 230.18,-36.0821 223.5765,-44.3673 230.1845,-46.677\" stroke=\"#000000\"/>\n",
       "</g>\n",
       "<!-- 552 -->\n",
       "<g class=\"node\" id=\"node7\">\n",
       "<title>552</title>\n",
       "<polygon fill=\"#c0c0c0\" points=\"619.5,-36 565.5,-36 565.5,0 619.5,0 619.5,-36\" stroke=\"#000000\"/>\n",
       "<text fill=\"#000000\" font-family=\"Times,serif\" font-size=\"14.00\" text-anchor=\"middle\" x=\"592.5\" y=\"-14.3\">(...)</text>\n",
       "</g>\n",
       "<!-- 551&#45;&gt;552 -->\n",
       "<g class=\"edge\" id=\"edge6\">\n",
       "<title>551-&gt;552</title>\n",
       "<path d=\"M613.9612,-79.4029C610.0095,-68.0967 605.8266,-56.1289 602.2135,-45.7914\" fill=\"none\" stroke=\"#000000\"/>\n",
       "<polygon fill=\"#000000\" points=\"605.4235,-44.3673 598.82,-36.0821 598.8155,-46.677 605.4235,-44.3673\" stroke=\"#000000\"/>\n",
       "</g>\n",
       "<!-- 883 -->\n",
       "<g class=\"node\" id=\"node8\">\n",
       "<title>883</title>\n",
       "<polygon fill=\"#c0c0c0\" points=\"691.5,-36 637.5,-36 637.5,0 691.5,0 691.5,-36\" stroke=\"#000000\"/>\n",
       "<text fill=\"#000000\" font-family=\"Times,serif\" font-size=\"14.00\" text-anchor=\"middle\" x=\"664.5\" y=\"-14.3\">(...)</text>\n",
       "</g>\n",
       "<!-- 551&#45;&gt;883 -->\n",
       "<g class=\"edge\" id=\"edge7\">\n",
       "<title>551-&gt;883</title>\n",
       "<path d=\"M643.0388,-79.4029C646.9905,-68.0967 651.1734,-56.1289 654.7865,-45.7914\" fill=\"none\" stroke=\"#000000\"/>\n",
       "<polygon fill=\"#000000\" points=\"658.1845,-46.677 658.18,-36.0821 651.5765,-44.3673 658.1845,-46.677\" stroke=\"#000000\"/>\n",
       "</g>\n",
       "<!-- 1037 -->\n",
       "<g class=\"node\" id=\"node10\">\n",
       "<title>1037</title>\n",
       "<polygon fill=\"#e4e749\" points=\"1239.5,-162.5 883.5,-162.5 883.5,-79.5 1239.5,-79.5 1239.5,-162.5\" stroke=\"#000000\"/>\n",
       "<text fill=\"#000000\" font-family=\"Times,serif\" font-size=\"14.00\" text-anchor=\"middle\" x=\"1061.5\" y=\"-147.3\">p543 &lt;= 54.5</text>\n",
       "<text fill=\"#000000\" font-family=\"Times,serif\" font-size=\"14.00\" text-anchor=\"middle\" x=\"1061.5\" y=\"-132.3\">gini = 0.152785</text>\n",
       "<text fill=\"#000000\" font-family=\"Times,serif\" font-size=\"14.00\" text-anchor=\"middle\" x=\"1061.5\" y=\"-117.3\">samples = 5427</text>\n",
       "<text fill=\"#000000\" font-family=\"Times,serif\" font-size=\"14.00\" text-anchor=\"middle\" x=\"1061.5\" y=\"-102.3\">value = [42, 4992, 75, 40, 31, 121, 51, 2, 72, 1]</text>\n",
       "<text fill=\"#000000\" font-family=\"Times,serif\" font-size=\"14.00\" text-anchor=\"middle\" x=\"1061.5\" y=\"-87.3\">class = 1</text>\n",
       "</g>\n",
       "<!-- 1036&#45;&gt;1037 -->\n",
       "<g class=\"edge\" id=\"edge9\">\n",
       "<title>1036-&gt;1037</title>\n",
       "<path d=\"M1070.3664,-205.8642C1069.2428,-195.1094 1068.0499,-183.6921 1066.9156,-172.8354\" fill=\"none\" stroke=\"#000000\"/>\n",
       "<polygon fill=\"#000000\" points=\"1070.3705,-172.2203 1065.8503,-162.6381 1063.4084,-172.9477 1070.3705,-172.2203\" stroke=\"#000000\"/>\n",
       "</g>\n",
       "<!-- 1250 -->\n",
       "<g class=\"node\" id=\"node13\">\n",
       "<title>1250</title>\n",
       "<polygon fill=\"#feffff\" points=\"1699,-170 1258,-170 1258,-72 1699,-72 1699,-170\" stroke=\"#000000\"/>\n",
       "<text fill=\"#000000\" font-family=\"Times,serif\" font-size=\"14.00\" text-anchor=\"middle\" x=\"1478.5\" y=\"-154.8\">p498 &lt;= 10.5</text>\n",
       "<text fill=\"#000000\" font-family=\"Times,serif\" font-size=\"14.00\" text-anchor=\"middle\" x=\"1478.5\" y=\"-139.8\">gini = 0.845035</text>\n",
       "<text fill=\"#000000\" font-family=\"Times,serif\" font-size=\"14.00\" text-anchor=\"middle\" x=\"1478.5\" y=\"-124.8\">samples = 34980</text>\n",
       "<text fill=\"#000000\" font-family=\"Times,serif\" font-size=\"14.00\" text-anchor=\"middle\" x=\"1478.5\" y=\"-109.8\">value = [5823, 980, 5848, 5818, 5938, 265, 5863, 16, 4110</text>\n",
       "<text fill=\"#000000\" font-family=\"Times,serif\" font-size=\"14.00\" text-anchor=\"middle\" x=\"1478.5\" y=\"-94.8\">319]</text>\n",
       "<text fill=\"#000000\" font-family=\"Times,serif\" font-size=\"14.00\" text-anchor=\"middle\" x=\"1478.5\" y=\"-79.8\">class = 4</text>\n",
       "</g>\n",
       "<!-- 1036&#45;&gt;1250 -->\n",
       "<g class=\"edge\" id=\"edge12\">\n",
       "<title>1036-&gt;1250</title>\n",
       "<path d=\"M1222.9884,-205.9592C1255.0009,-195.3148 1288.9772,-184.0175 1321.347,-173.2543\" fill=\"none\" stroke=\"#000000\"/>\n",
       "<polygon fill=\"#000000\" points=\"1322.4977,-176.5602 1330.8825,-170.0837 1320.289,-169.9178 1322.4977,-176.5602\" stroke=\"#000000\"/>\n",
       "</g>\n",
       "<!-- 1038 -->\n",
       "<g class=\"node\" id=\"node11\">\n",
       "<title>1038</title>\n",
       "<polygon fill=\"#c0c0c0\" points=\"1052.5,-36 998.5,-36 998.5,0 1052.5,0 1052.5,-36\" stroke=\"#000000\"/>\n",
       "<text fill=\"#000000\" font-family=\"Times,serif\" font-size=\"14.00\" text-anchor=\"middle\" x=\"1025.5\" y=\"-14.3\">(...)</text>\n",
       "</g>\n",
       "<!-- 1037&#45;&gt;1038 -->\n",
       "<g class=\"edge\" id=\"edge10\">\n",
       "<title>1037-&gt;1038</title>\n",
       "<path d=\"M1046.9612,-79.4029C1043.0095,-68.0967 1038.8266,-56.1289 1035.2135,-45.7914\" fill=\"none\" stroke=\"#000000\"/>\n",
       "<polygon fill=\"#000000\" points=\"1038.4235,-44.3673 1031.82,-36.0821 1031.8155,-46.677 1038.4235,-44.3673\" stroke=\"#000000\"/>\n",
       "</g>\n",
       "<!-- 1159 -->\n",
       "<g class=\"node\" id=\"node12\">\n",
       "<title>1159</title>\n",
       "<polygon fill=\"#c0c0c0\" points=\"1124.5,-36 1070.5,-36 1070.5,0 1124.5,0 1124.5,-36\" stroke=\"#000000\"/>\n",
       "<text fill=\"#000000\" font-family=\"Times,serif\" font-size=\"14.00\" text-anchor=\"middle\" x=\"1097.5\" y=\"-14.3\">(...)</text>\n",
       "</g>\n",
       "<!-- 1037&#45;&gt;1159 -->\n",
       "<g class=\"edge\" id=\"edge11\">\n",
       "<title>1037-&gt;1159</title>\n",
       "<path d=\"M1076.0388,-79.4029C1079.9905,-68.0967 1084.1734,-56.1289 1087.7865,-45.7914\" fill=\"none\" stroke=\"#000000\"/>\n",
       "<polygon fill=\"#000000\" points=\"1091.1845,-46.677 1091.18,-36.0821 1084.5765,-44.3673 1091.1845,-46.677\" stroke=\"#000000\"/>\n",
       "</g>\n",
       "<!-- 1251 -->\n",
       "<g class=\"node\" id=\"node14\">\n",
       "<title>1251</title>\n",
       "<polygon fill=\"#c0c0c0\" points=\"1469.5,-36 1415.5,-36 1415.5,0 1469.5,0 1469.5,-36\" stroke=\"#000000\"/>\n",
       "<text fill=\"#000000\" font-family=\"Times,serif\" font-size=\"14.00\" text-anchor=\"middle\" x=\"1442.5\" y=\"-14.3\">(...)</text>\n",
       "</g>\n",
       "<!-- 1250&#45;&gt;1251 -->\n",
       "<g class=\"edge\" id=\"edge13\">\n",
       "<title>1250-&gt;1251</title>\n",
       "<path d=\"M1461.3435,-71.9133C1458.2365,-63.0239 1455.096,-54.0385 1452.2932,-46.0195\" fill=\"none\" stroke=\"#000000\"/>\n",
       "<polygon fill=\"#000000\" points=\"1455.5552,-44.7441 1448.9517,-36.4589 1448.9471,-47.0538 1455.5552,-44.7441\" stroke=\"#000000\"/>\n",
       "</g>\n",
       "<!-- 2186 -->\n",
       "<g class=\"node\" id=\"node15\">\n",
       "<title>2186</title>\n",
       "<polygon fill=\"#c0c0c0\" points=\"1541.5,-36 1487.5,-36 1487.5,0 1541.5,0 1541.5,-36\" stroke=\"#000000\"/>\n",
       "<text fill=\"#000000\" font-family=\"Times,serif\" font-size=\"14.00\" text-anchor=\"middle\" x=\"1514.5\" y=\"-14.3\">(...)</text>\n",
       "</g>\n",
       "<!-- 1250&#45;&gt;2186 -->\n",
       "<g class=\"edge\" id=\"edge14\">\n",
       "<title>1250-&gt;2186</title>\n",
       "<path d=\"M1495.6565,-71.9133C1498.7635,-63.0239 1501.904,-54.0385 1504.7068,-46.0195\" fill=\"none\" stroke=\"#000000\"/>\n",
       "<polygon fill=\"#000000\" points=\"1508.0529,-47.0538 1508.0483,-36.4589 1501.4448,-44.7441 1508.0529,-47.0538\" stroke=\"#000000\"/>\n",
       "</g>\n",
       "</g>\n",
       "</svg>"
      ],
      "text/plain": [
       "<IPython.core.display.SVG object>"
      ]
     },
     "metadata": {},
     "output_type": "display_data"
    }
   ],
   "source": [
    "import visualizations_ml as vml\n",
    "vml.plot_decision_tree(clf_best,\n",
    "                       feature_names=feature_names,\n",
    "                       max_depth = 2\n",
    "                      )"
   ]
  },
  {
   "cell_type": "code",
   "execution_count": 69,
   "metadata": {},
   "outputs": [
    {
     "name": "stdout",
     "output_type": "stream",
     "text": [
      "Using method: impurity_decrease\n",
      "Time for importances = 0.0010037422180175781\n"
     ]
    },
    {
     "data": {
      "image/png": "[encoded data removed]",
      "text/plain": [
       "<Figure size 432x288 with 1 Axes>"
      ]
     },
     "metadata": {
      "needs_background": "light"
     },
     "output_type": "display_data"
    }
   ],
   "source": [
    "vml.plot_feature_importance(\n",
    "    clf_best,\n",
    "    feature_names=feature_names,\n",
    "    title=f\"Feature Importance \\n {model_name}\",\n",
    "    n_features_to_plot=40\n",
    ")"
   ]
  },
  {
   "cell_type": "markdown",
   "metadata": {},
   "source": [
    "# Plotting Map of the Feature Importance"
   ]
  },
  {
   "cell_type": "code",
   "execution_count": 70,
   "metadata": {},
   "outputs": [
    {
     "name": "stdout",
     "output_type": "stream",
     "text": [
      "Using method: impurity_decrease\n",
      "Time for importances = 0.0008516311645507812\n"
     ]
    }
   ],
   "source": [
    "f_import = sklm.feature_importances(clf_best,return_std=False)"
   ]
  },
  {
   "cell_type": "code",
   "execution_count": 78,
   "metadata": {},
   "outputs": [
    {
     "data": {
      "text/plain": [
       "<AxesSubplot:title={'center':'DecisionTreeClassifier Pixel Feature Importance'}>"
      ]
     },
     "execution_count": 78,
     "metadata": {},
     "output_type": "execute_result"
    },
    {
     "data": {
      "image/png": "[encoded data removed]",
      "text/plain": [
       "<Figure size 432x288 with 2 Axes>"
      ]
     },
     "metadata": {
      "needs_background": "light"
     },
     "output_type": "display_data"
    }
   ],
   "source": [
    "import seaborn_ml as sml\n",
    "sml.heatmap(f_import.reshape(28,28),logscale=True,title=f\"{model_name} Pixel Feature Importance\")"
   ]
  },
  {
   "cell_type": "code",
   "execution_count": 80,
   "metadata": {},
   "outputs": [
    {
     "data": {
      "text/plain": [
       "array([3072, 2306, 1541,  775,   10])"
      ]
     },
     "execution_count": 80,
     "metadata": {},
     "output_type": "execute_result"
    }
   ],
   "source": [
    "n_hidden_layers = 3\n",
    "np.linspace(32 * 32 * 3, 10, n_hidden_layers + 2, dtype=int)"
   ]
  },
  {
   "cell_type": "code",
   "execution_count": null,
   "metadata": {},
   "outputs": [],
   "source": []
  }
 ],
 "metadata": {
  "kernelspec": {
   "display_name": "Python 3",
   "language": "python",
   "name": "python3"
  },
  "language_info": {
   "codemirror_mode": {
    "name": "ipython",
    "version": 3
   },
   "file_extension": ".py",
   "mimetype": "text/x-python",
   "name": "python",
   "nbconvert_exporter": "python",
   "pygments_lexer": "ipython3",
   "version": "3.6.9"
  }
 },
 "nbformat": 4,
 "nbformat_minor": 4
}
