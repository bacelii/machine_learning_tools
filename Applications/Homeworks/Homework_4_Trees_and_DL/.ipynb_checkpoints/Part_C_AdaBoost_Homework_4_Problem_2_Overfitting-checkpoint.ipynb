{
 "cells": [
  {
   "cell_type": "code",
   "execution_count": null,
   "metadata": {},
   "outputs": [],
   "source": [
    "\"\"\"\n",
    "11/23\n",
    "Purpose: To analyze the fashion dataset using tree based methods\n",
    "\n",
    "\"\"\""
   ]
  },
  {
   "cell_type": "code",
   "execution_count": 1,
   "metadata": {},
   "outputs": [],
   "source": [
    "%load_ext autoreload\n",
    "%autoreload 2"
   ]
  },
  {
   "cell_type": "code",
   "execution_count": 2,
   "metadata": {},
   "outputs": [],
   "source": [
    "#!git clone https://github.com/celiibrendan/fashion-mnist.git"
   ]
  },
  {
   "cell_type": "code",
   "execution_count": 3,
   "metadata": {},
   "outputs": [],
   "source": [
    "from os import sys\n",
    "sys.path.append(\"/fashion-mnist/utils/\")\n",
    "sys.path.append(\"../../../machine_learning_tools/\")"
   ]
  },
  {
   "cell_type": "code",
   "execution_count": 4,
   "metadata": {},
   "outputs": [],
   "source": [
    "import sklearn_models as sklm\n",
    "import sklearn_utils as sklu\n",
    "import numpy_ml as nu\n",
    "import general_utils as gu"
   ]
  },
  {
   "cell_type": "markdown",
   "metadata": {},
   "source": [
    "# loads the fashion dataset"
   ]
  },
  {
   "cell_type": "code",
   "execution_count": 5,
   "metadata": {},
   "outputs": [],
   "source": [
    "import mnist_reader\n",
    "sys.path.append(\"/fashion-mnist/utils/\")\n",
    "X_train, y_train = mnist_reader.load_mnist('/fashion-mnist/data/fashion', kind='train')\n",
    "X_test, y_test = mnist_reader.load_mnist('/fashion-mnist/data/fashion', kind='t10k')"
   ]
  },
  {
   "cell_type": "code",
   "execution_count": 6,
   "metadata": {},
   "outputs": [
    {
     "data": {
      "text/plain": [
       "(60000, 784)"
      ]
     },
     "execution_count": 6,
     "metadata": {},
     "output_type": "execute_result"
    }
   ],
   "source": [
    "X_train.shape"
   ]
  },
  {
   "cell_type": "code",
   "execution_count": 7,
   "metadata": {},
   "outputs": [
    {
     "data": {
      "text/plain": [
       "28.0"
      ]
     },
     "execution_count": 7,
     "metadata": {},
     "output_type": "execute_result"
    }
   ],
   "source": [
    "import numpy as np\n",
    "np.sqrt(784)"
   ]
  },
  {
   "cell_type": "code",
   "execution_count": 8,
   "metadata": {},
   "outputs": [
    {
     "data": {
      "text/plain": [
       "<matplotlib.image.AxesImage at 0x7f7bf6206f98>"
      ]
     },
     "execution_count": 8,
     "metadata": {},
     "output_type": "execute_result"
    },
    {
     "data": {
      "image/png": "[encoded data removed]",
      "text/plain": [
       "<Figure size 432x288 with 1 Axes>"
      ]
     },
     "metadata": {
      "needs_background": "light"
     },
     "output_type": "display_data"
    }
   ],
   "source": [
    "import matplotlib.pyplot as plt\n",
    "plt.imshow(X_train[0].reshape(28,28))"
   ]
  },
  {
   "cell_type": "markdown",
   "metadata": {},
   "source": [
    "# Part C: Try to Overfit Tree Models"
   ]
  },
  {
   "cell_type": "code",
   "execution_count": 9,
   "metadata": {},
   "outputs": [
    {
     "data": {
      "text/plain": [
       "'\\nPurpose:  \\nHyperparameters. Try to purposefully overfit each of the following approaches: trees, bagging,\\nAdaBoost, Gradient Boosting, and Random Forests. Were you able to overfit? What hyperparameters \\ndid you use to overfit these approaches? Plot the training and test error as a function of\\nsome of the hyperparameters for various approaches to show which hyperparameters can lead to\\noverfitting. You may want to try varying the tree size, number of iterations (Boosting) learning\\nrate (Boosting), and/or the number of features to consider for each split (Random Forests).\\n\\nPseudocode: \\n0) Determine feature ideas that can possibly overfit a model (could be multiple for some models):\\n1) Define base parameters for each model (just going to take regular)\\n1) Iterate through all of the models\\n   2) Iterate through the different features to try\\n       Iterate through the specific feature value\\n           1) Train\\n           2) Get the trainig score\\n           3) Get the validation score\\n           4) Store (as dict in dataframe)\\n\\nCan then plot the the train/test score for different models and different features\\n\\n'"
      ]
     },
     "execution_count": 9,
     "metadata": {},
     "output_type": "execute_result"
    }
   ],
   "source": [
    " \"\"\"\n",
    "Purpose:  \n",
    "Hyperparameters. Try to purposefully overfit each of the following approaches: trees, bagging,\n",
    "AdaBoost, Gradient Boosting, and Random Forests. Were you able to overfit? What hyperparameters \n",
    "did you use to overfit these approaches? Plot the training and test error as a function of\n",
    "some of the hyperparameters for various approaches to show which hyperparameters can lead to\n",
    "overfitting. You may want to try varying the tree size, number of iterations (Boosting) learning\n",
    "rate (Boosting), and/or the number of features to consider for each split (Random Forests).\n",
    "\n",
    "Pseudocode: \n",
    "0) Determine feature ideas that can possibly overfit a model (could be multiple for some models):\n",
    "1) Define base parameters for each model (just going to take regular)\n",
    "1) Iterate through all of the models\n",
    "    2) Iterate through the different features to try\n",
    "        Iterate through the specific feature value\n",
    "            1) Train\n",
    "            2) Get the trainig score\n",
    "            3) Get the validation score\n",
    "            4) Store (as dict in dataframe)\n",
    "\n",
    "Can then plot the the train/test score for different models and different features\n",
    "\n",
    "\"\"\"\n"
   ]
  },
  {
   "cell_type": "markdown",
   "metadata": {},
   "source": [
    "# Brainstorming the parameters that can overfit certain models"
   ]
  },
  {
   "cell_type": "code",
   "execution_count": 10,
   "metadata": {},
   "outputs": [
    {
     "data": {
      "text/plain": [
       "'\\n\\nsklm.DecisionTreeClassifier,\\n- max_depth\\n\\nsklm.BaggingClassifier\\n- max_depth\\n- max_features\\n- max_samples\\n\\nsklm.RandomForestClassifier\\n- max_depth\\n- max_features\\n- max_samples\\n-  \\n\\n\\nsklm.AdaBoostClassifier\\n- learning_rate\\n\\nsklm.GradientBoostingClassifier\\n- learning_rate\\n\\n'"
      ]
     },
     "execution_count": 10,
     "metadata": {},
     "output_type": "execute_result"
    }
   ],
   "source": [
    "\"\"\"\n",
    "\n",
    "sklm.DecisionTreeClassifier,\n",
    "- max_depth\n",
    "\n",
    "sklm.BaggingClassifier\n",
    "- max_depth\n",
    "- max_features\n",
    "- max_samples\n",
    "\n",
    "sklm.RandomForestClassifier\n",
    "- max_depth\n",
    "- max_features\n",
    "- max_samples\n",
    "-  \n",
    "\n",
    "\n",
    "sklm.AdaBoostClassifier\n",
    "- learning_rate\n",
    "\n",
    "sklm.GradientBoostingClassifier\n",
    "- learning_rate\n",
    "\n",
    "\"\"\""
   ]
  },
  {
   "cell_type": "code",
   "execution_count": 13,
   "metadata": {},
   "outputs": [
    {
     "data": {
      "text/plain": [
       "(array([0.1       , 0.19952623, 0.39810717, 0.79432823, 1.58489319]),\n",
       " array([ 2,  7, 12, 18, 23, 29, 34, 40]))"
      ]
     },
     "execution_count": 13,
     "metadata": {},
     "output_type": "execute_result"
    }
   ],
   "source": [
    "import numpy as np\n",
    "max_depth_range = np.linspace(2,40,8).astype('int')\n",
    "max_features_range = np.linspace(0.3,0.9,5)\n",
    "# max_samples_range = np.linspace(0.1,1,2)\n",
    "learning_rate_range = np.logspace(-1,0.2,5)\n",
    "# learning_rate_range = [1,2,5]\n",
    "# max_depth_range_gradient = [1,2,3]\n",
    "learning_rate_range,max_depth_range"
   ]
  },
  {
   "cell_type": "code",
   "execution_count": 20,
   "metadata": {},
   "outputs": [
    {
     "data": {
      "text/plain": [
       "{'AdaBoostClassifier': {'param_iter': {'max_depth': array([ 2,  7, 12, 18, 23, 29, 34, 40]),\n",
       "   'learning_rate': array([0.1       , 0.19952623, 0.39810717, 0.79432823, 1.58489319])},\n",
       "  'param_base': {'n_estimators': 10}}}"
      ]
     },
     "execution_count": 20,
     "metadata": {},
     "output_type": "execute_result"
    }
   ],
   "source": [
    "model_parameters = dict(\n",
    "AdaBoostClassifier = dict(param_iter=\n",
    "    dict(\n",
    "    max_depth = max_depth_range,\n",
    "    learning_rate = learning_rate_range\n",
    "    ),\n",
    "    param_base = dict(\n",
    "    n_estimators = 10\n",
    "    )\n",
    "    ),\n",
    "\n",
    "\n",
    "# BaggingClassifier = \n",
    "#     dict(\n",
    "#     max_depth = max_depth_range,\n",
    "#     max_features = max_features_range,\n",
    "#     max_samples = max_samples_range,\n",
    "#     ),\n",
    "# RandomForestClassifier = \n",
    "#     dict(\n",
    "#     max_depth = max_depth_range,\n",
    "#     max_features = max_features_range,\n",
    "#     max_samples = max_samples_range,\n",
    "#     ),\n",
    "# AdaBoostClassifier=dict(\n",
    "#     learning_rate = learning_rate_range,\n",
    "#     ), \n",
    "# GradientBoostingClassifier=dict(\n",
    "#     learning_rate = learning_rate_range,\n",
    "#     max_depth = max_depth_range_gradient,\n",
    "#     ), \n",
    "\n",
    ")\n",
    "\n",
    "model_parameters"
   ]
  },
  {
   "cell_type": "code",
   "execution_count": 21,
   "metadata": {},
   "outputs": [
    {
     "name": "stdout",
     "output_type": "stream",
     "text": [
      "Working on AdaBoostClassifier\n",
      "param_base= {'n_estimators': 10}\n",
      "Working on max_depth\n"
     ]
    },
    {
     "data": {
      "application/vnd.jupyter.widget-view+json": {
       "model_id": "6adfe448d54943d4aaabe637bf04d2e4",
       "version_major": 2,
       "version_minor": 0
      },
      "text/plain": [
       "  0%|          | 0/8 [00:00<?, ?it/s]"
      ]
     },
     "metadata": {},
     "output_type": "display_data"
    },
    {
     "name": "stdout",
     "output_type": "stream",
     "text": [
      "process_time = 1874.33\n",
      "Working on learning_rate\n"
     ]
    },
    {
     "data": {
      "application/vnd.jupyter.widget-view+json": {
       "model_id": "0fa9cd941fd348d493a71c905fcbe5cd",
       "version_major": 2,
       "version_minor": 0
      },
      "text/plain": [
       "  0%|          | 0/5 [00:00<?, ?it/s]"
      ]
     },
     "metadata": {},
     "output_type": "display_data"
    },
    {
     "name": "stdout",
     "output_type": "stream",
     "text": [
      "process_time = 101.04\n"
     ]
    }
   ],
   "source": [
    "import pandas as pd\n",
    "import general_utils as gu\n",
    "model_results = []\n",
    "verbose = True\n",
    "import time\n",
    "from tqdm.notebook import tqdm\n",
    "\n",
    "for model_name,parameter_dict in model_parameters.items():\n",
    "    param_base = parameter_dict[\"param_base\"]\n",
    "    if verbose:\n",
    "        print(f\"Working on {model_name}\")\n",
    "        print(f\"param_base= {param_base}\")\n",
    "    for param_name,param_range in parameter_dict[\"param_iter\"].items():\n",
    "        result_df_dicts = []\n",
    "        if verbose:\n",
    "            print(f\"Working on {param_name}\")\n",
    "        st = time.time()\n",
    "        for p in tqdm(param_range):\n",
    "            # 1) Train \n",
    "            comb_params = gu.merge_dicts([param_base.copy(),{param_name:p}])\n",
    "            clf = getattr(sklm,model_name)(**comb_params).fit(X_train,y_train)\n",
    "            # 2) Get the trainig score\n",
    "            score_train = sklu.accuracy(clf,X_train,y_train)\n",
    "            # 3) Get the validation score\n",
    "            score_test = sklu.accuracy(clf,X_test,y_test)\n",
    "            # 4) Store (as dict in dataframe)\n",
    "            result_df_dicts+= [\n",
    "                dict(model_name=model_name,\n",
    "                     param_name=param_name,\n",
    "                     param_value = p,\n",
    "                     score = score_train,\n",
    "                     score_type=\"train\",\n",
    "                    ),\n",
    "                dict(model_name=model_name,\n",
    "                     param_name=param_name,\n",
    "                     param_value = p,\n",
    "                     score = score_test,\n",
    "                     score_type=\"test\",\n",
    "                    ),\n",
    "                \n",
    "            ]\n",
    "        \n",
    "        result_df = pd.DataFrame.from_records(result_df_dicts)\n",
    "        process_time = np.round(time.time()-st,2)\n",
    "        if verbose:\n",
    "            print(f\"process_time = {process_time}\")\n",
    "        model_results.append(dict(model_name=model_name,param_name=param_name,df = result_df,process_time = process_time)) \n",
    "        \n",
    "model_results_df = pd.DataFrame.from_records(model_results)"
   ]
  },
  {
   "cell_type": "markdown",
   "metadata": {},
   "source": [
    "# Plotting the Results"
   ]
  },
  {
   "cell_type": "code",
   "execution_count": 23,
   "metadata": {
    "scrolled": true
   },
   "outputs": [
    {
     "data": {
      "image/png": "[encoded data removed]",
      "text/plain": [
       "<Figure size 432x288 with 1 Axes>"
      ]
     },
     "metadata": {
      "needs_background": "light"
     },
     "output_type": "display_data"
    },
    {
     "data": {
      "image/png": "[encoded data removed]",
      "text/plain": [
       "<Figure size 432x288 with 1 Axes>"
      ]
     },
     "metadata": {
      "needs_background": "light"
     },
     "output_type": "display_data"
    }
   ],
   "source": [
    "import seaborn as sns\n",
    "import matplotlib.pyplot as plt\n",
    "for param_name in parameter_dict[\"param_iter\"].keys():\n",
    "    df_to_plot = model_results_df.query(f\"param_name=='{param_name}'\")[\"df\"].to_list()[0]\n",
    "    fig,ax = plt.subplots(1,1)\n",
    "    sns.lineplot(data=df_to_plot,x=\"param_value\",y=\"score\",hue=\"score_type\",ax=ax)\n",
    "    ax.set_title(f\"{model_name} \\n{param_name} Training and Validation Scores\")\n",
    "    ax.set_xlabel(f\"{param_name}\")\n",
    "    ax.set_ylabel(f\"Accuracy\")\n",
    "    plt.show()"
   ]
  },
  {
   "cell_type": "code",
   "execution_count": null,
   "metadata": {},
   "outputs": [],
   "source": []
  }
 ],
 "metadata": {
  "kernelspec": {
   "display_name": "Python 3",
   "language": "python",
   "name": "python3"
  },
  "language_info": {
   "codemirror_mode": {
    "name": "ipython",
    "version": 3
   },
   "file_extension": ".py",
   "mimetype": "text/x-python",
   "name": "python",
   "nbconvert_exporter": "python",
   "pygments_lexer": "ipython3",
   "version": "3.6.9"
  }
 },
 "nbformat": 4,
 "nbformat_minor": 4
}
