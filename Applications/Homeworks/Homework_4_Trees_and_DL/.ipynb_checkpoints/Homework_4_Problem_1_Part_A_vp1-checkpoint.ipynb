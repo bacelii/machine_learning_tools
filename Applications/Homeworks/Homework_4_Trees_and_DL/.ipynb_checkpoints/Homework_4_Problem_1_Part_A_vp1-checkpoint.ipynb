{
 "cells": [
  {
   "cell_type": "code",
   "execution_count": null,
   "metadata": {},
   "outputs": [],
   "source": [
    "\"\"\"\n",
    "11/23\n",
    "Purpose: To analyze the fashion dataset using tree based methods\n",
    "\n",
    "\"\"\""
   ]
  },
  {
   "cell_type": "code",
   "execution_count": 16,
   "metadata": {},
   "outputs": [],
   "source": [
    "%load_ext autoreload\n",
    "%autoreload 2"
   ]
  },
  {
   "cell_type": "code",
   "execution_count": null,
   "metadata": {},
   "outputs": [],
   "source": [
    "#!git clone https://github.com/celiibrendan/fashion-mnist.git"
   ]
  },
  {
   "cell_type": "code",
   "execution_count": 13,
   "metadata": {},
   "outputs": [],
   "source": [
    "from os import sys\n",
    "sys.path.append(\"/fashion-mnist/utils/\")\n",
    "sys.path.append(\"../../../machine_learning_tools/\")"
   ]
  },
  {
   "cell_type": "code",
   "execution_count": 18,
   "metadata": {},
   "outputs": [],
   "source": [
    "import sklearn_models as sklm\n",
    "import sklearn_utils as sklu"
   ]
  },
  {
   "cell_type": "markdown",
   "metadata": {},
   "source": [
    "# loads the fashion dataset"
   ]
  },
  {
   "cell_type": "code",
   "execution_count": 3,
   "metadata": {},
   "outputs": [],
   "source": [
    "import mnist_reader\n",
    "X_train, y_train = mnist_reader.load_mnist('/fashion-mnist/data/fashion', kind='train')\n",
    "X_test, y_test = mnist_reader.load_mnist('/fashion-mnist/data/fashion', kind='t10k')"
   ]
  },
  {
   "cell_type": "code",
   "execution_count": 5,
   "metadata": {},
   "outputs": [
    {
     "data": {
      "text/plain": [
       "(60000, 784)"
      ]
     },
     "execution_count": 5,
     "metadata": {},
     "output_type": "execute_result"
    }
   ],
   "source": [
    "X_train.shape"
   ]
  },
  {
   "cell_type": "code",
   "execution_count": 7,
   "metadata": {},
   "outputs": [
    {
     "data": {
      "text/plain": [
       "28.0"
      ]
     },
     "execution_count": 7,
     "metadata": {},
     "output_type": "execute_result"
    }
   ],
   "source": [
    "import numpy as np\n",
    "np.sqrt(784)"
   ]
  },
  {
   "cell_type": "code",
   "execution_count": 8,
   "metadata": {},
   "outputs": [
    {
     "data": {
      "text/plain": [
       "<matplotlib.image.AxesImage at 0x7f807b768470>"
      ]
     },
     "execution_count": 8,
     "metadata": {},
     "output_type": "execute_result"
    },
    {
     "data": {
      "image/png": "[encoded data removed]",
      "text/plain": [
       "<Figure size 432x288 with 1 Axes>"
      ]
     },
     "metadata": {
      "needs_background": "light"
     },
     "output_type": "display_data"
    }
   ],
   "source": [
    "import matplotlib.pyplot as plt\n",
    "plt.imshow(X_train[0].reshape(28,28))"
   ]
  },
  {
   "cell_type": "markdown",
   "metadata": {},
   "source": [
    "# Part A: Comparing different tree methods"
   ]
  },
  {
   "cell_type": "code",
   "execution_count": 87,
   "metadata": {},
   "outputs": [
    {
     "data": {
      "text/plain": [
       "'\\nPurpose:  \\nLoss Functions. Compare and contrast trees, bagging, and Random Forests using \\nthe Gini indexverses the cross entropy loss. Which performs better? Why?\\n\\nPseudocode: \\nFor each model\\n1) Define a parameter space to search over\\n   Iterating over the parameter space:\\n       Iterate over Gini and Cross Entropy loss:\\n           Train the model\\n           Test the model\\n           Save the score (can plot them later)\\n           \\n'"
      ]
     },
     "execution_count": 87,
     "metadata": {},
     "output_type": "execute_result"
    }
   ],
   "source": [
    " \"\"\"\n",
    "Purpose:  \n",
    "Loss Functions. Compare and contrast trees, bagging, and Random Forests using \n",
    "the Gini indexverses the cross entropy loss. Which performs better? Why?\n",
    "\n",
    "Pseudocode: \n",
    "For each model\n",
    "1) Define a parameter space to search over\n",
    "    Iterating over the parameter space:\n",
    "        Iterate over Gini and Cross Entropy loss:\n",
    "            Train the model\n",
    "            Test the model\n",
    "            Save the score (can plot them later)\n",
    "            \n",
    "\"\"\""
   ]
  },
  {
   "cell_type": "code",
   "execution_count": 116,
   "metadata": {},
   "outputs": [],
   "source": [
    "clf_dict_options = dict(\n",
    "# DecisionTreeClassifier = \n",
    "#     dict(\n",
    "#     model = sklm.DecisionTreeClassifier,\n",
    "#     parameters = dict(\n",
    "#         max_depth = [1,3,5,7,10],\n",
    "#         random_state = 10,\n",
    "        \n",
    "#     ),\n",
    "#     results = None\n",
    "#     ),\n",
    "BaggingClassifier = \n",
    "        dict(\n",
    "    model = sklm.BaggingClassifier,\n",
    "    parameters = dict(\n",
    "        n_estimators = [10,20],\n",
    "        max_samples = [0.5,1.0],\n",
    "        random_state = 10,\n",
    "        \n",
    "    ),\n",
    "    tree_parameters = dict(\n",
    "        max_depth = [1,10],\n",
    "    ),\n",
    "    results = None\n",
    "    ),\n",
    "    \n",
    "RandomForestClassifier = \n",
    "        dict(\n",
    "    model = sklm.RandomForestClassifier,\n",
    "    parameters = dict(\n",
    "        n_estimators = [10,20],\n",
    "        max_samples = [0.5,1.0],\n",
    "        random_state = 10,\n",
    "        \n",
    "    ),\n",
    "    tree_parameters = dict(\n",
    "        max_depth = [1,10],\n",
    "    ),\n",
    "    results = None\n",
    "    ),\n",
    "\n",
    ")"
   ]
  },
  {
   "cell_type": "code",
   "execution_count": null,
   "metadata": {
    "scrolled": true
   },
   "outputs": [
    {
     "name": "stdout",
     "output_type": "stream",
     "text": [
      "clf_name= BaggingClassifier\n",
      "# of combinations = 4\n",
      "Working on param 1/4\n",
      "# of combinations = 2\n",
      "     Working on tree param 1/2\n"
     ]
    },
    {
     "name": "stderr",
     "output_type": "stream",
     "text": [
      "[Parallel(n_jobs=1)]: Using backend SequentialBackend with 1 concurrent workers.\n",
      "[Parallel(n_jobs=1)]: Done   1 out of   1 | elapsed:   12.1s finished\n",
      "[Parallel(n_jobs=1)]: Using backend SequentialBackend with 1 concurrent workers.\n",
      "[Parallel(n_jobs=1)]: Done   1 out of   1 | elapsed:    0.2s finished\n",
      "[Parallel(n_jobs=1)]: Using backend SequentialBackend with 1 concurrent workers.\n"
     ]
    },
    {
     "name": "stdout",
     "output_type": "stream",
     "text": [
      "     Working on tree param 2/2\n"
     ]
    },
    {
     "name": "stderr",
     "output_type": "stream",
     "text": [
      "[Parallel(n_jobs=1)]: Done   1 out of   1 | elapsed:  1.7min finished\n",
      "[Parallel(n_jobs=1)]: Using backend SequentialBackend with 1 concurrent workers.\n",
      "[Parallel(n_jobs=1)]: Done   1 out of   1 | elapsed:    0.2s finished\n",
      "[Parallel(n_jobs=1)]: Using backend SequentialBackend with 1 concurrent workers.\n"
     ]
    },
    {
     "name": "stdout",
     "output_type": "stream",
     "text": [
      "# of combinations = 2\n",
      "     Working on tree param 1/2\n"
     ]
    },
    {
     "name": "stderr",
     "output_type": "stream",
     "text": [
      "[Parallel(n_jobs=1)]: Done   1 out of   1 | elapsed:   11.9s finished\n",
      "[Parallel(n_jobs=1)]: Using backend SequentialBackend with 1 concurrent workers.\n",
      "[Parallel(n_jobs=1)]: Done   1 out of   1 | elapsed:    0.2s finished\n",
      "[Parallel(n_jobs=1)]: Using backend SequentialBackend with 1 concurrent workers.\n"
     ]
    },
    {
     "name": "stdout",
     "output_type": "stream",
     "text": [
      "     Working on tree param 2/2\n"
     ]
    }
   ],
   "source": [
    "import pandas as pd\n",
    "import general_utils as gu\n",
    "verbose = True\n",
    "\n",
    "for clf_name,clf_dict in clf_dict_options.items():\n",
    "    clf_df_dicts = []\n",
    "    if verbose:\n",
    "        print(f\"clf_name= {clf_name}\")\n",
    "    clf_func = clf_dict[\"model\"]\n",
    "    clf_param_dict = clf_dict[\"parameters\"].copy()\n",
    "    all_param_comb = nu.all_choose_1_combinations_form_dict_values(clf_param_dict,\n",
    "                                          verbose = True)\n",
    "    for i,p in enumerate(all_param_comb):\n",
    "        if verbose:\n",
    "            print(f\"Working on param {i+1}/{len(all_param_comb)}\")\n",
    "        for criterion in [\"gini\",\"entropy\"]:\n",
    "            if \"tree_parameters\" in clf_dict.keys():\n",
    "                clf_param_dict_tree = clf_dict[\"tree_parameters\"].copy()\n",
    "                all_param_comb_tree = nu.all_choose_1_combinations_form_dict_values(clf_param_dict_tree,\n",
    "                                          verbose = True)\n",
    "                for ii,p_tree in enumerate(all_param_comb_tree):\n",
    "                    if verbose:\n",
    "                        print(f\"     Working on tree param {ii+1}/{len(all_param_comb_tree)}\")\n",
    "                    tree_clf = sklm.DecisionTreeClassifier(criterion=criterion,\n",
    "                                                          **p_tree)\n",
    "                    clf = clf_func(base_estimator=tree_clf)\n",
    "                    clf.fit(X_train,y_train)\n",
    "                    clf_score = sklu.accuracy(clf,X_test,y_test)\n",
    "                    curr_dict = dict(name=clf_name,\n",
    "                            criterion=criterion,\n",
    "                            score = clf_score,\n",
    "                            **p)\n",
    "                    clf_df_dicts.append(gu.merge_dicts([curr_dict,p_tree]))\n",
    "                    \n",
    "            else:\n",
    "                clf = clf_func(criterion=criterion,**p)\n",
    "                clf.fit(X_train,y_train)\n",
    "                clf_score = sklu.accuracy(clf,X_test,y_test)\n",
    "                curr_dict = dict(name=clf_name,\n",
    "                            criterion=criterion,\n",
    "                            score = clf_score,\n",
    "                            **p)\n",
    "                clf_df_dicts.append(curr_dict)\n",
    "    clf_df = pd.DataFrame.from_records(clf_df_dicts)\n",
    "    clf_dict[\"results\"] = clf_df"
   ]
  },
  {
   "cell_type": "code",
   "execution_count": 85,
   "metadata": {},
   "outputs": [],
   "source": [
    "import sklearn_models as sklm"
   ]
  },
  {
   "cell_type": "code",
   "execution_count": 86,
   "metadata": {},
   "outputs": [
    {
     "data": {
      "text/plain": [
       "[<function sklearn_models.DecisionTreeClassifier(splitter='best', criterion='gini', max_depth=None, max_features=None, random_state=None, class_weight=None, **kwargs)>,\n",
       " <function sklearn_models.BaggingClassifier(base_estimator=None, n_estimators=10, max_samples=1.0, max_features=1.0, bootstrap=True, bootstrap_features=False, oob_score=False, random_state=True, verbose=True, **kwargss)>,\n",
       " <function sklearn_models.RandomForestClassifier(n_estimators=30, criterion='gini', max_depth=None, max_features='auto', bootstrap=True, oob_score=True, random_state=None, verbose=False, max_samples=None, class_weight=None, **kwargs)>,\n",
       " <function sklearn_models.AdaBoostClassifier(base_estimator=None, n_estimators=50, learning_rate=1.0, random_state=None, **kwargs)>,\n",
       " <function sklearn_models.GradientBoostingClassifier(loss='deviance', learning_rate=0.1, n_estimators=100, subsample=1.0, max_depth=3, random_state=None, max_features=None, verbose=0)>]"
      ]
     },
     "execution_count": 86,
     "metadata": {},
     "output_type": "execute_result"
    }
   ],
   "source": [
    "classifiers = [\n",
    "    sklm.DecisionTreeClassifier,\n",
    "    sklm.BaggingClassifier,\n",
    "    sklm.RandomForestClassifier,\n",
    "    sklm.AdaBoostClassifier,\n",
    "    sklm.GradientBoostingClassifier,\n",
    "]\n",
    "classifiers"
   ]
  },
  {
   "cell_type": "markdown",
   "metadata": {},
   "source": [
    "# Random Classifier"
   ]
  },
  {
   "cell_type": "code",
   "execution_count": 84,
   "metadata": {},
   "outputs": [
    {
     "data": {
      "text/plain": [
       "\"\\n    RandomForrest parameters: \\n    n_estimators: number o trees to use in the forest\\n    criterion : how the best split is determined\\n    - 'gini'\\n    - 'entropy'\\n    max_depth: int , max depth of trees\\n    max_features: number of features to look at when doing best split\\n    - 'auto':sqrt of number of n_features\\n    - 'sqrt'\\n    - log2\\n    - int: specifying the exact numbe of features\\n    - float: secifying the percentage of total n_features\\n    - None: always has maximum number of features\\n\\n    bootstrap: bool(True): whether bootstrap sapling are used to build trees\\n    (if not then the whole dataset is used)\\n\\n    oob_score: bool (False): whether to use out-of =-bag samples to estimate the generalization\\n    score\\n\\n    random_state:int  controls the randomness of boostrabbing and feature filtering\\n\\n    verbose: bool\\n    max_samples: Number of samples to draw if doing bootstrapping\\n    \\n    \\n    Example: \\n    clf = sklm.RandomForestClassifier(max_depth=5)\\n    clf.fit(X_train,y_train)\\n    print(sklu.accuracy(clf,X_test,y_test),clf.oob_score_)\\n    _ = sklm.feature_importance(clf_for,return_std=True,plot=True)\\n    \""
      ]
     },
     "execution_count": 84,
     "metadata": {},
     "output_type": "execute_result"
    }
   ],
   "source": [
    "from importlib import reload\n",
    "sklm = reload(sklm)\n",
    "sklm.RandomForestClassifier.__doc__"
   ]
  },
  {
   "cell_type": "code",
   "execution_count": 63,
   "metadata": {},
   "outputs": [
    {
     "name": "stdout",
     "output_type": "stream",
     "text": [
      "0.7681 0.76665\n"
     ]
    }
   ],
   "source": [
    "clf_for = sklm.RandomForestClassifier(max_depth=5)\n",
    "clf_for.fit(X_train,y_train)\n",
    "print(sklu.accuracy(clf_for,X_test,y_test),clf_for.oob_score_)\n",
    "_ = sklm.feature_importance(clf_for,return_std=True,plot=True)"
   ]
  },
  {
   "cell_type": "code",
   "execution_count": 51,
   "metadata": {},
   "outputs": [
    {
     "ename": "AttributeError",
     "evalue": "'DecisionTreeClassifier' object has no attribute 'oob_score_'",
     "output_type": "error",
     "traceback": [
      "\u001b[0;31m---------------------------------------------------------------------------\u001b[0m",
      "\u001b[0;31mAttributeError\u001b[0m                            Traceback (most recent call last)",
      "\u001b[0;32m<ipython-input-51-90799421e203>\u001b[0m in \u001b[0;36m<module>\u001b[0;34m\u001b[0m\n\u001b[1;32m      1\u001b[0m \u001b[0mclf\u001b[0m \u001b[0;34m=\u001b[0m \u001b[0msklm\u001b[0m\u001b[0;34m.\u001b[0m\u001b[0mtree\u001b[0m\u001b[0;34m.\u001b[0m\u001b[0mDecisionTreeClassifier\u001b[0m\u001b[0;34m(\u001b[0m\u001b[0mmax_depth\u001b[0m \u001b[0;34m=\u001b[0m \u001b[0;36m10\u001b[0m\u001b[0;34m)\u001b[0m\u001b[0;34m\u001b[0m\u001b[0;34m\u001b[0m\u001b[0m\n\u001b[1;32m      2\u001b[0m \u001b[0mclf\u001b[0m\u001b[0;34m.\u001b[0m\u001b[0mfit\u001b[0m\u001b[0;34m(\u001b[0m\u001b[0mX_train\u001b[0m\u001b[0;34m,\u001b[0m\u001b[0my_train\u001b[0m\u001b[0;34m)\u001b[0m\u001b[0;34m\u001b[0m\u001b[0;34m\u001b[0m\u001b[0m\n\u001b[0;32m----> 3\u001b[0;31m \u001b[0mprint\u001b[0m\u001b[0;34m(\u001b[0m\u001b[0msklu\u001b[0m\u001b[0;34m.\u001b[0m\u001b[0maccuracy\u001b[0m\u001b[0;34m(\u001b[0m\u001b[0mclf\u001b[0m\u001b[0;34m,\u001b[0m\u001b[0mX_test\u001b[0m\u001b[0;34m,\u001b[0m\u001b[0my_test\u001b[0m\u001b[0;34m)\u001b[0m\u001b[0;34m,\u001b[0m\u001b[0mclf\u001b[0m\u001b[0;34m.\u001b[0m\u001b[0moob_score_\u001b[0m\u001b[0;34m)\u001b[0m\u001b[0;34m\u001b[0m\u001b[0;34m\u001b[0m\u001b[0m\n\u001b[0m",
      "\u001b[0;31mAttributeError\u001b[0m: 'DecisionTreeClassifier' object has no attribute 'oob_score_'"
     ]
    }
   ],
   "source": [
    "clf = sklm.tree.DecisionTreeClassifier(max_depth = 10)\n",
    "clf.fit(X_train,y_train)"
   ]
  },
  {
   "cell_type": "code",
   "execution_count": 76,
   "metadata": {},
   "outputs": [
    {
     "name": "stdout",
     "output_type": "stream",
     "text": [
      "Using method: permutation\n",
      "Time for importances = 15.339240550994873\n"
     ]
    },
    {
     "data": {
      "image/png": "[encoded data removed]",
      "text/plain": [
       "<Figure size 432x288 with 1 Axes>"
      ]
     },
     "metadata": {
      "needs_background": "light"
     },
     "output_type": "display_data"
    },
    {
     "data": {
      "text/plain": [
       "array([ 0.000e+00,  0.000e+00,  0.000e+00,  0.000e+00,  0.000e+00,\n",
       "        0.000e+00,  0.000e+00,  0.000e+00,  0.000e+00,  0.000e+00,\n",
       "        0.000e+00,  0.000e+00,  0.000e+00,  3.400e-03,  5.000e-03,\n",
       "        8.000e-04,  1.000e-04,  8.000e-04,  0.000e+00,  0.000e+00,\n",
       "        1.000e-04,  0.000e+00,  4.000e-04,  0.000e+00,  0.000e+00,\n",
       "        0.000e+00,  0.000e+00,  0.000e+00,  0.000e+00,  0.000e+00,\n",
       "        0.000e+00,  8.000e-04,  0.000e+00,  0.000e+00,  0.000e+00,\n",
       "       -1.000e-04,  0.000e+00,  1.140e-02,  7.600e-03,  5.800e-03,\n",
       "        1.300e-03,  0.000e+00,  0.000e+00,  2.300e-03,  3.000e-04,\n",
       "        1.580e-02,  3.000e-03,  1.300e-03,  0.000e+00,  0.000e+00,\n",
       "        2.000e-04,  1.000e-04,  0.000e+00,  0.000e+00,  0.000e+00,\n",
       "        0.000e+00,  0.000e+00,  0.000e+00,  0.000e+00,  0.000e+00,\n",
       "        0.000e+00,  0.000e+00,  0.000e+00,  7.900e-03,  6.500e-03,\n",
       "        0.000e+00,  1.800e-03,  2.000e-04,  0.000e+00,  2.000e-04,\n",
       "        1.180e-02,  2.000e-04,  0.000e+00,  0.000e+00,  2.000e-04,\n",
       "        5.000e-04,  7.300e-03,  3.360e-02,  0.000e+00,  0.000e+00,\n",
       "        0.000e+00,  0.000e+00,  0.000e+00,  0.000e+00,  0.000e+00,\n",
       "        0.000e+00,  0.000e+00,  0.000e+00,  0.000e+00,  3.200e-03,\n",
       "        9.000e-04,  0.000e+00,  1.100e-03,  0.000e+00,  3.730e-02,\n",
       "        0.000e+00,  7.900e-03,  0.000e+00,  0.000e+00,  0.000e+00,\n",
       "        0.000e+00,  0.000e+00,  0.000e+00,  0.000e+00,  0.000e+00,\n",
       "        0.000e+00,  0.000e+00,  0.000e+00,  1.600e-03,  1.500e-03,\n",
       "        0.000e+00,  0.000e+00,  0.000e+00,  0.000e+00,  0.000e+00,\n",
       "        0.000e+00,  0.000e+00,  0.000e+00,  3.400e-03,  0.000e+00,\n",
       "        0.000e+00,  3.000e-04,  0.000e+00,  0.000e+00,  7.000e-04,\n",
       "        0.000e+00,  1.000e-03,  2.700e-03,  0.000e+00,  0.000e+00,\n",
       "        0.000e+00,  1.200e-03,  5.000e-04,  1.500e-03,  3.000e-04,\n",
       "        0.000e+00,  0.000e+00,  5.000e-04,  0.000e+00,  0.000e+00,\n",
       "        0.000e+00,  0.000e+00,  0.000e+00,  4.000e-04,  0.000e+00,\n",
       "        0.000e+00,  0.000e+00,  0.000e+00,  0.000e+00,  0.000e+00,\n",
       "        0.000e+00,  0.000e+00,  1.000e-04,  2.500e-03,  0.000e+00,\n",
       "        0.000e+00,  1.240e-02,  1.000e-04,  0.000e+00,  0.000e+00,\n",
       "        0.000e+00,  1.000e-04,  1.000e-04,  1.300e-03,  0.000e+00,\n",
       "        6.500e-03,  0.000e+00,  0.000e+00,  0.000e+00,  0.000e+00,\n",
       "        0.000e+00,  0.000e+00,  4.400e-03,  5.310e-02,  2.000e-04,\n",
       "        1.900e-02,  0.000e+00,  0.000e+00,  0.000e+00,  0.000e+00,\n",
       "        0.000e+00,  5.000e-04,  1.220e-02,  3.000e-04,  0.000e+00,\n",
       "        0.000e+00,  0.000e+00,  0.000e+00,  0.000e+00,  6.000e-04,\n",
       "        0.000e+00,  3.200e-03,  0.000e+00,  1.000e-04,  2.000e-04,\n",
       "        0.000e+00,  0.000e+00,  0.000e+00,  0.000e+00,  0.000e+00,\n",
       "        0.000e+00,  0.000e+00,  7.300e-03,  0.000e+00,  0.000e+00,\n",
       "        1.300e-03,  0.000e+00,  1.641e-01, -1.000e-04,  9.000e-04,\n",
       "        0.000e+00,  1.360e-02,  0.000e+00, -1.000e-04,  2.000e-04,\n",
       "        0.000e+00,  5.700e-03,  1.000e-04,  0.000e+00,  8.000e-04,\n",
       "        6.000e-03,  0.000e+00, -1.000e-04,  0.000e+00,  0.000e+00,\n",
       "        0.000e+00,  0.000e+00,  0.000e+00,  5.600e-03,  0.000e+00,\n",
       "        0.000e+00,  0.000e+00,  6.000e-03,  0.000e+00,  7.000e-04,\n",
       "        0.000e+00,  2.000e-03,  0.000e+00,  2.100e-03,  1.000e-04,\n",
       "        1.000e-04,  1.300e-03,  1.700e-03,  0.000e+00,  0.000e+00,\n",
       "        0.000e+00,  1.900e-03,  0.000e+00,  0.000e+00,  1.350e-02,\n",
       "        8.000e-04,  0.000e+00,  0.000e+00,  0.000e+00,  0.000e+00,\n",
       "        0.000e+00, -3.000e-04,  0.000e+00,  0.000e+00,  7.000e-04,\n",
       "        0.000e+00,  4.000e-04,  0.000e+00,  0.000e+00,  0.000e+00,\n",
       "        0.000e+00,  0.000e+00,  0.000e+00,  0.000e+00,  2.000e-04,\n",
       "        0.000e+00,  0.000e+00,  0.000e+00,  8.100e-03,  1.200e-03,\n",
       "        0.000e+00,  0.000e+00,  0.000e+00,  0.000e+00,  0.000e+00,\n",
       "        0.000e+00,  0.000e+00, -1.000e-04,  0.000e+00,  3.900e-03,\n",
       "        9.700e-03,  0.000e+00,  1.900e-03,  7.000e-04,  9.000e-04,\n",
       "        0.000e+00,  0.000e+00,  0.000e+00,  0.000e+00, -1.000e-04,\n",
       "        5.000e-04,  0.000e+00,  3.000e-04,  0.000e+00,  1.000e-04,\n",
       "        0.000e+00,  3.000e-04,  0.000e+00,  5.200e-03,  1.000e-04,\n",
       "        0.000e+00,  0.000e+00, -1.000e-04,  0.000e+00,  0.000e+00,\n",
       "        0.000e+00,  1.000e-04,  1.430e-02,  0.000e+00,  0.000e+00,\n",
       "        1.400e-03,  0.000e+00,  0.000e+00,  0.000e+00,  0.000e+00,\n",
       "        0.000e+00,  0.000e+00,  3.100e-03,  0.000e+00,  0.000e+00,\n",
       "        4.700e-03,  0.000e+00,  6.000e-03,  2.000e-04,  0.000e+00,\n",
       "        3.100e-03,  6.000e-04,  0.000e+00,  7.000e-04,  0.000e+00,\n",
       "        5.000e-04,  0.000e+00,  0.000e+00,  0.000e+00,  0.000e+00,\n",
       "        1.800e-03,  1.600e-03,  0.000e+00,  9.000e-04,  2.000e-04,\n",
       "        4.000e-04,  0.000e+00,  0.000e+00,  0.000e+00,  0.000e+00,\n",
       "        0.000e+00,  0.000e+00,  0.000e+00,  0.000e+00,  1.100e-03,\n",
       "        0.000e+00,  0.000e+00,  6.400e-03,  0.000e+00,  1.580e-02,\n",
       "        7.000e-04,  0.000e+00,  2.260e-02,  0.000e+00, -1.000e-04,\n",
       "        0.000e+00,  0.000e+00,  0.000e+00,  0.000e+00,  3.000e-04,\n",
       "        0.000e+00,  2.880e-02,  0.000e+00,  4.000e-04,  0.000e+00,\n",
       "        0.000e+00,  0.000e+00,  0.000e+00,  1.500e-03,  6.000e-04,\n",
       "        9.500e-03,  0.000e+00,  0.000e+00,  0.000e+00,  4.500e-03,\n",
       "        4.000e-04,  0.000e+00,  0.000e+00,  4.000e-04,  5.000e-04,\n",
       "        2.430e-02,  8.000e-04,  0.000e+00,  0.000e+00,  8.000e-04,\n",
       "        0.000e+00,  0.000e+00,  7.000e-04,  0.000e+00,  8.100e-03,\n",
       "        2.000e-04,  0.000e+00,  0.000e+00,  0.000e+00,  3.500e-03,\n",
       "        3.900e-03,  2.500e-03,  5.000e-04,  1.300e-03,  0.000e+00,\n",
       "        0.000e+00,  0.000e+00,  7.000e-04,  0.000e+00,  5.000e-04,\n",
       "        2.100e-03,  0.000e+00,  3.600e-03,  1.000e-04,  0.000e+00,\n",
       "        0.000e+00,  1.200e-03,  0.000e+00,  2.300e-03,  0.000e+00,\n",
       "        0.000e+00,  0.000e+00,  0.000e+00,  2.600e-03,  0.000e+00,\n",
       "        0.000e+00,  0.000e+00,  0.000e+00,  2.000e-04,  2.000e-04,\n",
       "        0.000e+00,  0.000e+00,  0.000e+00,  0.000e+00,  0.000e+00,\n",
       "        6.000e-04,  1.500e-03,  1.000e-04,  1.000e-03,  0.000e+00,\n",
       "        1.930e-02,  0.000e+00,  0.000e+00,  0.000e+00,  0.000e+00,\n",
       "        1.400e-03,  1.500e-03,  0.000e+00,  0.000e+00,  0.000e+00,\n",
       "        6.000e-04, -2.000e-04,  0.000e+00,  0.000e+00,  0.000e+00,\n",
       "        0.000e+00, -1.000e-04,  0.000e+00,  0.000e+00, -1.000e-04,\n",
       "        0.000e+00,  0.000e+00,  3.000e-04,  1.500e-03,  3.400e-03,\n",
       "        0.000e+00,  3.000e-04,  0.000e+00,  0.000e+00,  0.000e+00,\n",
       "        0.000e+00,  0.000e+00,  2.000e-04,  7.000e-04,  7.000e-04,\n",
       "        0.000e+00,  1.100e-03,  1.990e-02,  0.000e+00,  1.800e-03,\n",
       "        0.000e+00,  0.000e+00,  1.000e-04,  0.000e+00, -1.000e-04,\n",
       "        1.000e-03,  0.000e+00,  0.000e+00,  1.000e-04,  0.000e+00,\n",
       "        0.000e+00,  2.000e-04, -1.000e-04,  8.520e-02,  0.000e+00,\n",
       "        0.000e+00,  0.000e+00,  1.000e-04,  4.000e-04,  0.000e+00,\n",
       "        0.000e+00,  1.300e-03,  0.000e+00,  0.000e+00,  0.000e+00,\n",
       "        1.000e-04,  0.000e+00,  0.000e+00,  0.000e+00,  1.000e-04,\n",
       "        0.000e+00,  0.000e+00,  1.000e-04,  0.000e+00,  0.000e+00,\n",
       "        1.000e-04,  0.000e+00,  0.000e+00,  2.600e-03,  0.000e+00,\n",
       "        1.200e-03,  0.000e+00,  0.000e+00,  1.000e-04,  0.000e+00,\n",
       "        2.000e-04,  0.000e+00,  0.000e+00,  0.000e+00,  0.000e+00,\n",
       "        0.000e+00,  0.000e+00,  0.000e+00,  0.000e+00,  0.000e+00,\n",
       "        3.000e-03,  0.000e+00,  2.000e-04,  1.400e-03,  0.000e+00,\n",
       "        2.000e-04,  4.960e-02,  0.000e+00,  2.000e-04,  0.000e+00,\n",
       "        0.000e+00,  0.000e+00,  1.700e-03,  0.000e+00,  0.000e+00,\n",
       "        0.000e+00,  0.000e+00,  2.000e-04,  1.500e-03,  0.000e+00,\n",
       "        0.000e+00,  0.000e+00,  0.000e+00,  0.000e+00,  0.000e+00,\n",
       "        0.000e+00,  3.000e-04,  0.000e+00,  0.000e+00,  0.000e+00,\n",
       "        0.000e+00,  1.400e-03,  0.000e+00,  2.000e-04,  1.190e-02,\n",
       "        0.000e+00,  1.000e-03,  5.700e-03,  2.000e-03, -1.000e-04,\n",
       "       -1.000e-04,  0.000e+00,  0.000e+00,  0.000e+00,  1.000e-03,\n",
       "        3.900e-03,  0.000e+00,  1.000e-04,  0.000e+00,  0.000e+00,\n",
       "        0.000e+00,  0.000e+00,  0.000e+00,  0.000e+00,  0.000e+00,\n",
       "        9.000e-04,  0.000e+00, -2.000e-04,  1.000e-04,  3.070e-02,\n",
       "        0.000e+00,  2.300e-03,  3.000e-04,  1.000e-04,  2.000e-04,\n",
       "        9.000e-04,  5.000e-04,  0.000e+00,  8.100e-03,  0.000e+00,\n",
       "        0.000e+00,  0.000e+00,  0.000e+00,  0.000e+00,  0.000e+00,\n",
       "        0.000e+00,  0.000e+00,  0.000e+00,  0.000e+00,  0.000e+00,\n",
       "        0.000e+00,  8.000e-04,  2.700e-03,  1.610e-02,  0.000e+00,\n",
       "        1.000e-03,  0.000e+00,  0.000e+00,  0.000e+00,  0.000e+00,\n",
       "        1.000e-04,  0.000e+00,  0.000e+00,  0.000e+00,  1.090e-02,\n",
       "        9.000e-04,  0.000e+00,  0.000e+00,  1.730e-02,  2.900e-03,\n",
       "        0.000e+00,  0.000e+00,  0.000e+00,  0.000e+00,  0.000e+00,\n",
       "        0.000e+00,  0.000e+00,  0.000e+00,  0.000e+00,  5.000e-04,\n",
       "        1.500e-03,  0.000e+00,  0.000e+00,  5.000e-04,  0.000e+00,\n",
       "        0.000e+00,  0.000e+00,  0.000e+00,  3.000e-04,  3.000e-04,\n",
       "        0.000e+00,  0.000e+00,  6.200e-03,  0.000e+00,  0.000e+00,\n",
       "        0.000e+00,  0.000e+00,  0.000e+00,  0.000e+00,  6.000e-04,\n",
       "        0.000e+00,  0.000e+00,  0.000e+00,  0.000e+00,  0.000e+00,\n",
       "        0.000e+00,  0.000e+00,  0.000e+00,  0.000e+00,  4.000e-04,\n",
       "        0.000e+00,  0.000e+00, -2.000e-04,  1.000e-04,  0.000e+00,\n",
       "       -1.000e-04,  1.000e-04,  2.000e-04,  0.000e+00,  0.000e+00,\n",
       "        0.000e+00,  0.000e+00,  0.000e+00,  0.000e+00,  0.000e+00,\n",
       "        0.000e+00,  0.000e+00,  0.000e+00, -1.000e-04,  0.000e+00,\n",
       "        0.000e+00,  0.000e+00,  0.000e+00,  0.000e+00,  0.000e+00,\n",
       "        0.000e+00,  0.000e+00,  0.000e+00,  0.000e+00,  0.000e+00,\n",
       "        0.000e+00,  0.000e+00,  1.900e-03,  0.000e+00,  4.600e-03,\n",
       "        0.000e+00,  0.000e+00,  1.800e-03,  0.000e+00,  0.000e+00,\n",
       "        4.200e-03,  0.000e+00,  0.000e+00,  0.000e+00,  0.000e+00,\n",
       "        0.000e+00,  0.000e+00,  0.000e+00,  0.000e+00,  0.000e+00,\n",
       "        0.000e+00,  0.000e+00,  0.000e+00,  7.000e-04,  0.000e+00,\n",
       "        0.000e+00,  1.000e-03,  0.000e+00,  1.400e-03,  0.000e+00,\n",
       "        0.000e+00,  1.400e-03,  0.000e+00,  1.000e-04,  1.670e-02,\n",
       "        4.300e-03,  0.000e+00,  0.000e+00,  0.000e+00,  0.000e+00,\n",
       "        3.000e-04,  4.000e-03, -1.000e-04,  0.000e+00,  0.000e+00,\n",
       "        0.000e+00,  0.000e+00,  0.000e+00,  0.000e+00,  0.000e+00,\n",
       "        0.000e+00,  0.000e+00,  0.000e+00,  0.000e+00,  1.500e-03,\n",
       "        3.000e-04,  4.000e-04,  0.000e+00,  0.000e+00,  0.000e+00,\n",
       "        7.000e-04,  7.000e-04,  1.300e-03,  0.000e+00,  1.300e-03,\n",
       "        1.000e-04,  1.300e-03,  2.300e-03,  0.000e+00,  0.000e+00,\n",
       "        0.000e+00,  0.000e+00,  0.000e+00,  0.000e+00])"
      ]
     },
     "execution_count": 76,
     "metadata": {},
     "output_type": "execute_result"
    }
   ],
   "source": [
    "sklm.feature_importances(clf,\n",
    "                        method=\"permutation\",\n",
    "                        verbose = True,\n",
    "                        plot=True,\n",
    "                        X_permuation=X_test,\n",
    "                        y_permutation=y_test,\n",
    "                        n_repeats=1)"
   ]
  },
  {
   "cell_type": "code",
   "execution_count": 77,
   "metadata": {},
   "outputs": [
    {
     "name": "stdout",
     "output_type": "stream",
     "text": [
      "Using method: impurity_decrease\n",
      "Time for importances = 0.0009531974792480469\n"
     ]
    },
    {
     "data": {
      "image/png": "[encoded data removed]",
      "text/plain": [
       "<Figure size 432x288 with 1 Axes>"
      ]
     },
     "metadata": {
      "needs_background": "light"
     },
     "output_type": "display_data"
    },
    {
     "data": {
      "text/plain": [
       "array([0.00000000e+00, 0.00000000e+00, 0.00000000e+00, 0.00000000e+00,\n",
       "       0.00000000e+00, 0.00000000e+00, 0.00000000e+00, 0.00000000e+00,\n",
       "       0.00000000e+00, 0.00000000e+00, 0.00000000e+00, 0.00000000e+00,\n",
       "       0.00000000e+00, 3.39526958e-03, 1.49249912e-04, 8.38090699e-04,\n",
       "       1.58218185e-04, 1.08025063e-03, 0.00000000e+00, 0.00000000e+00,\n",
       "       1.02849480e-04, 0.00000000e+00, 1.37400203e-04, 0.00000000e+00,\n",
       "       0.00000000e+00, 0.00000000e+00, 0.00000000e+00, 0.00000000e+00,\n",
       "       0.00000000e+00, 0.00000000e+00, 0.00000000e+00, 1.55910308e-04,\n",
       "       0.00000000e+00, 0.00000000e+00, 0.00000000e+00, 1.49684350e-04,\n",
       "       0.00000000e+00, 1.90884292e-03, 4.92954861e-03, 8.46365583e-04,\n",
       "       1.40834673e-04, 5.09675683e-04, 0.00000000e+00, 1.23211249e-03,\n",
       "       4.22002388e-04, 1.08272793e-02, 2.74526218e-03, 1.54259489e-03,\n",
       "       4.61487914e-05, 2.45165454e-05, 1.50690731e-04, 9.25161571e-05,\n",
       "       0.00000000e+00, 0.00000000e+00, 0.00000000e+00, 0.00000000e+00,\n",
       "       0.00000000e+00, 0.00000000e+00, 0.00000000e+00, 0.00000000e+00,\n",
       "       0.00000000e+00, 9.98726640e-05, 6.51917231e-05, 6.43070293e-04,\n",
       "       4.49715554e-03, 0.00000000e+00, 1.79363047e-03, 3.33862301e-04,\n",
       "       0.00000000e+00, 5.19312114e-04, 4.94875190e-04, 1.30982355e-03,\n",
       "       0.00000000e+00, 0.00000000e+00, 6.51941808e-04, 1.09834124e-04,\n",
       "       4.18699888e-04, 3.08037486e-02, 0.00000000e+00, 0.00000000e+00,\n",
       "       0.00000000e+00, 0.00000000e+00, 4.61487914e-05, 0.00000000e+00,\n",
       "       0.00000000e+00, 0.00000000e+00, 1.07989545e-04, 0.00000000e+00,\n",
       "       0.00000000e+00, 6.82892671e-04, 9.69514909e-04, 0.00000000e+00,\n",
       "       9.76671136e-04, 0.00000000e+00, 6.20553390e-02, 0.00000000e+00,\n",
       "       7.21764648e-05, 0.00000000e+00, 7.96787726e-05, 0.00000000e+00,\n",
       "       0.00000000e+00, 0.00000000e+00, 0.00000000e+00, 5.72052727e-05,\n",
       "       0.00000000e+00, 0.00000000e+00, 0.00000000e+00, 0.00000000e+00,\n",
       "       1.74772455e-03, 1.28690088e-03, 0.00000000e+00, 0.00000000e+00,\n",
       "       0.00000000e+00, 0.00000000e+00, 0.00000000e+00, 0.00000000e+00,\n",
       "       0.00000000e+00, 0.00000000e+00, 6.75245057e-03, 0.00000000e+00,\n",
       "       0.00000000e+00, 2.75563809e-04, 0.00000000e+00, 0.00000000e+00,\n",
       "       1.89876998e-04, 0.00000000e+00, 5.94479138e-04, 1.48625676e-04,\n",
       "       0.00000000e+00, 0.00000000e+00, 3.92264727e-05, 3.18739277e-04,\n",
       "       3.42627605e-04, 6.51686884e-04, 2.74766571e-04, 0.00000000e+00,\n",
       "       0.00000000e+00, 5.04998076e-04, 0.00000000e+00, 0.00000000e+00,\n",
       "       0.00000000e+00, 0.00000000e+00, 0.00000000e+00, 1.76073372e-04,\n",
       "       0.00000000e+00, 0.00000000e+00, 0.00000000e+00, 0.00000000e+00,\n",
       "       0.00000000e+00, 1.37292654e-04, 0.00000000e+00, 1.12399100e-04,\n",
       "       1.02969491e-04, 2.55952106e-03, 0.00000000e+00, 0.00000000e+00,\n",
       "       2.36855259e-03, 3.67748181e-05, 0.00000000e+00, 0.00000000e+00,\n",
       "       0.00000000e+00, 1.71615818e-04, 1.45032744e-04, 4.42108448e-04,\n",
       "       0.00000000e+00, 3.43627953e-03, 0.00000000e+00, 0.00000000e+00,\n",
       "       0.00000000e+00, 0.00000000e+00, 0.00000000e+00, 0.00000000e+00,\n",
       "       4.86424527e-05, 6.61399682e-02, 1.17389567e-04, 7.06259409e-04,\n",
       "       6.61946726e-05, 0.00000000e+00, 0.00000000e+00, 0.00000000e+00,\n",
       "       0.00000000e+00, 1.29652313e-04, 2.64508962e-03, 9.54854927e-05,\n",
       "       0.00000000e+00, 2.31955511e-04, 1.04009587e-04, 3.67748181e-05,\n",
       "       6.97359514e-05, 4.54433085e-04, 0.00000000e+00, 1.75547558e-03,\n",
       "       0.00000000e+00, 2.58393968e-04, 1.40561527e-04, 0.00000000e+00,\n",
       "       0.00000000e+00, 0.00000000e+00, 0.00000000e+00, 0.00000000e+00,\n",
       "       0.00000000e+00, 1.17679418e-04, 4.66083229e-04, 1.05980295e-04,\n",
       "       0.00000000e+00, 2.63889787e-04, 0.00000000e+00, 1.19905692e-01,\n",
       "       5.88397090e-05, 6.88045914e-04, 0.00000000e+00, 6.28587304e-04,\n",
       "       0.00000000e+00, 2.01035672e-04, 2.06307651e-04, 0.00000000e+00,\n",
       "       1.24245708e-03, 8.54576726e-05, 1.20948291e-04, 8.28461032e-04,\n",
       "       4.40784032e-03, 0.00000000e+00, 2.42775447e-04, 0.00000000e+00,\n",
       "       0.00000000e+00, 0.00000000e+00, 0.00000000e+00, 3.67748181e-05,\n",
       "       2.27056103e-03, 0.00000000e+00, 0.00000000e+00, 0.00000000e+00,\n",
       "       2.19771595e-03, 1.42510278e-04, 7.19151999e-05, 0.00000000e+00,\n",
       "       1.70141402e-04, 0.00000000e+00, 5.16970582e-04, 7.62736969e-05,\n",
       "       4.61487914e-05, 3.41933701e-04, 4.77997910e-03, 0.00000000e+00,\n",
       "       2.07930652e-04, 0.00000000e+00, 4.60592159e-04, 6.58075693e-05,\n",
       "       0.00000000e+00, 3.47637057e-04, 4.10214769e-04, 0.00000000e+00,\n",
       "       0.00000000e+00, 0.00000000e+00, 0.00000000e+00, 0.00000000e+00,\n",
       "       2.26005079e-04, 0.00000000e+00, 0.00000000e+00, 3.22941927e-04,\n",
       "       0.00000000e+00, 3.80762889e-04, 7.40944484e-05, 4.90330909e-05,\n",
       "       8.71699393e-05, 0.00000000e+00, 1.11292213e-04, 4.81574999e-05,\n",
       "       0.00000000e+00, 4.20968314e-04, 6.57501569e-05, 0.00000000e+00,\n",
       "       0.00000000e+00, 7.15930295e-03, 1.55743157e-04, 0.00000000e+00,\n",
       "       0.00000000e+00, 0.00000000e+00, 0.00000000e+00, 0.00000000e+00,\n",
       "       0.00000000e+00, 0.00000000e+00, 1.54980102e-04, 0.00000000e+00,\n",
       "       7.43309483e-04, 3.88055027e-03, 0.00000000e+00, 1.31348460e-03,\n",
       "       3.47377423e-04, 2.02440384e-03, 0.00000000e+00, 0.00000000e+00,\n",
       "       0.00000000e+00, 0.00000000e+00, 3.26887272e-05, 4.03468210e-04,\n",
       "       0.00000000e+00, 3.80980617e-04, 0.00000000e+00, 6.97349033e-05,\n",
       "       0.00000000e+00, 3.83954437e-04, 0.00000000e+00, 9.03304600e-03,\n",
       "       2.75530718e-04, 0.00000000e+00, 0.00000000e+00, 9.08020201e-05,\n",
       "       0.00000000e+00, 0.00000000e+00, 0.00000000e+00, 4.45755371e-05,\n",
       "       6.71744782e-04, 0.00000000e+00, 0.00000000e+00, 1.22557607e-03,\n",
       "       2.45165454e-05, 4.64667602e-04, 1.60696684e-04, 0.00000000e+00,\n",
       "       0.00000000e+00, 0.00000000e+00, 2.67733661e-03, 0.00000000e+00,\n",
       "       0.00000000e+00, 2.02169212e-03, 9.86109938e-05, 1.12952527e-02,\n",
       "       1.06238364e-04, 0.00000000e+00, 1.12220908e-03, 1.58610371e-04,\n",
       "       0.00000000e+00, 3.68665624e-04, 0.00000000e+00, 4.94134117e-04,\n",
       "       0.00000000e+00, 0.00000000e+00, 0.00000000e+00, 0.00000000e+00,\n",
       "       4.89429504e-05, 6.14780009e-04, 4.41297818e-05, 2.88790260e-04,\n",
       "       9.29048037e-05, 8.39771524e-04, 6.12913636e-05, 0.00000000e+00,\n",
       "       9.57312726e-05, 0.00000000e+00, 0.00000000e+00, 0.00000000e+00,\n",
       "       0.00000000e+00, 0.00000000e+00, 1.06420275e-03, 4.50837677e-04,\n",
       "       0.00000000e+00, 3.84509401e-03, 0.00000000e+00, 6.50645071e-04,\n",
       "       3.83976602e-04, 0.00000000e+00, 5.97076640e-04, 0.00000000e+00,\n",
       "       1.36760224e-04, 0.00000000e+00, 0.00000000e+00, 0.00000000e+00,\n",
       "       0.00000000e+00, 1.55461899e-03, 5.90958882e-04, 3.93379512e-02,\n",
       "       0.00000000e+00, 2.10216336e-04, 0.00000000e+00, 0.00000000e+00,\n",
       "       3.26887272e-05, 4.20283636e-05, 1.36074489e-03, 6.88626553e-04,\n",
       "       2.87951123e-02, 0.00000000e+00, 9.10176749e-05, 3.26887272e-05,\n",
       "       8.81441844e-04, 1.04203109e-04, 0.00000000e+00, 0.00000000e+00,\n",
       "       7.85203630e-04, 4.11204714e-04, 3.01844512e-02, 9.26375133e-05,\n",
       "       0.00000000e+00, 0.00000000e+00, 2.10458465e-03, 4.41297818e-05,\n",
       "       0.00000000e+00, 4.13759192e-04, 0.00000000e+00, 8.73515735e-03,\n",
       "       7.30769798e-04, 0.00000000e+00, 0.00000000e+00, 1.18405834e-04,\n",
       "       8.59587479e-04, 4.03625035e-02, 4.48834890e-04, 2.27972666e-03,\n",
       "       8.51688231e-05, 0.00000000e+00, 0.00000000e+00, 0.00000000e+00,\n",
       "       5.49065174e-04, 5.72052727e-05, 8.11748324e-04, 1.02623924e-03,\n",
       "       0.00000000e+00, 2.58163127e-03, 2.81940571e-04, 0.00000000e+00,\n",
       "       0.00000000e+00, 4.75061832e-05, 3.45324059e-04, 3.73698989e-03,\n",
       "       0.00000000e+00, 0.00000000e+00, 0.00000000e+00, 0.00000000e+00,\n",
       "       1.21284176e-03, 0.00000000e+00, 2.46719758e-04, 6.37430181e-05,\n",
       "       0.00000000e+00, 3.33247498e-04, 2.66778907e-04, 0.00000000e+00,\n",
       "       0.00000000e+00, 0.00000000e+00, 0.00000000e+00, 0.00000000e+00,\n",
       "       3.60297074e-04, 4.82739251e-04, 4.85941624e-04, 5.45330606e-04,\n",
       "       0.00000000e+00, 1.95689290e-03, 0.00000000e+00, 0.00000000e+00,\n",
       "       0.00000000e+00, 0.00000000e+00, 4.26807903e-04, 1.49272555e-03,\n",
       "       0.00000000e+00, 4.08609090e-05, 0.00000000e+00, 1.22786841e-03,\n",
       "       3.59478962e-04, 3.88051726e-04, 0.00000000e+00, 4.81250706e-05,\n",
       "       0.00000000e+00, 1.58282258e-05, 0.00000000e+00, 0.00000000e+00,\n",
       "       3.67748181e-05, 0.00000000e+00, 0.00000000e+00, 1.57371027e-04,\n",
       "       1.57894478e-03, 2.67396247e-04, 3.26887272e-05, 2.83127749e-04,\n",
       "       0.00000000e+00, 2.54936355e-04, 8.85319696e-05, 0.00000000e+00,\n",
       "       0.00000000e+00, 8.64596756e-04, 1.24965690e-03, 5.68857583e-04,\n",
       "       0.00000000e+00, 3.84965230e-04, 5.47188716e-04, 0.00000000e+00,\n",
       "       2.28282521e-03, 0.00000000e+00, 0.00000000e+00, 1.39787320e-04,\n",
       "       0.00000000e+00, 2.66196804e-04, 4.97595092e-04, 0.00000000e+00,\n",
       "       2.17365157e-04, 9.80661817e-05, 0.00000000e+00, 0.00000000e+00,\n",
       "       2.78302695e-04, 9.29585681e-05, 7.81960248e-02, 0.00000000e+00,\n",
       "       0.00000000e+00, 0.00000000e+00, 4.65834965e-04, 1.92909905e-04,\n",
       "       0.00000000e+00, 0.00000000e+00, 8.56477240e-04, 1.97623113e-04,\n",
       "       0.00000000e+00, 0.00000000e+00, 2.99291676e-04, 0.00000000e+00,\n",
       "       0.00000000e+00, 0.00000000e+00, 3.14811783e-04, 0.00000000e+00,\n",
       "       0.00000000e+00, 4.87463476e-05, 3.73215450e-04, 0.00000000e+00,\n",
       "       7.96787726e-05, 0.00000000e+00, 0.00000000e+00, 3.76870760e-03,\n",
       "       0.00000000e+00, 7.85165619e-04, 0.00000000e+00, 0.00000000e+00,\n",
       "       4.08609090e-05, 0.00000000e+00, 1.36884045e-04, 0.00000000e+00,\n",
       "       0.00000000e+00, 0.00000000e+00, 0.00000000e+00, 0.00000000e+00,\n",
       "       0.00000000e+00, 8.56807540e-04, 0.00000000e+00, 0.00000000e+00,\n",
       "       1.02667744e-03, 0.00000000e+00, 8.97931839e-04, 6.57288334e-03,\n",
       "       0.00000000e+00, 2.13742106e-04, 1.08146214e-01, 1.95563864e-04,\n",
       "       1.37145186e-04, 0.00000000e+00, 0.00000000e+00, 0.00000000e+00,\n",
       "       8.36752955e-04, 0.00000000e+00, 0.00000000e+00, 0.00000000e+00,\n",
       "       0.00000000e+00, 4.60405781e-04, 1.91830763e-03, 0.00000000e+00,\n",
       "       0.00000000e+00, 0.00000000e+00, 0.00000000e+00, 0.00000000e+00,\n",
       "       0.00000000e+00, 0.00000000e+00, 1.46425700e-04, 0.00000000e+00,\n",
       "       3.26887272e-05, 0.00000000e+00, 0.00000000e+00, 1.68098298e-03,\n",
       "       0.00000000e+00, 3.00327681e-04, 2.40624089e-03, 0.00000000e+00,\n",
       "       3.35986588e-04, 4.42596328e-03, 1.12456837e-03, 3.36730353e-04,\n",
       "       1.07656477e-04, 0.00000000e+00, 1.23658014e-04, 0.00000000e+00,\n",
       "       5.43825152e-04, 2.06232697e-03, 0.00000000e+00, 1.85691143e-04,\n",
       "       0.00000000e+00, 0.00000000e+00, 2.23509172e-04, 0.00000000e+00,\n",
       "       0.00000000e+00, 0.00000000e+00, 2.45165454e-05, 1.36385085e-03,\n",
       "       0.00000000e+00, 2.88225137e-04, 1.08941470e-04, 6.46120388e-02,\n",
       "       0.00000000e+00, 1.05412256e-03, 3.57446158e-04, 4.20283636e-05,\n",
       "       8.02359668e-05, 6.45283144e-04, 4.78175646e-05, 6.05257568e-04,\n",
       "       1.28008722e-03, 0.00000000e+00, 0.00000000e+00, 2.41472164e-04,\n",
       "       0.00000000e+00, 0.00000000e+00, 0.00000000e+00, 0.00000000e+00,\n",
       "       9.23392835e-05, 0.00000000e+00, 0.00000000e+00, 0.00000000e+00,\n",
       "       0.00000000e+00, 4.02910787e-04, 8.33839253e-04, 7.51803067e-03,\n",
       "       0.00000000e+00, 4.06602853e-04, 0.00000000e+00, 0.00000000e+00,\n",
       "       1.02969491e-04, 2.45165454e-05, 2.63889998e-04, 3.26887272e-05,\n",
       "       0.00000000e+00, 0.00000000e+00, 7.57567362e-03, 1.28946091e-03,\n",
       "       0.00000000e+00, 0.00000000e+00, 4.34359509e-03, 1.73982963e-03,\n",
       "       0.00000000e+00, 0.00000000e+00, 0.00000000e+00, 0.00000000e+00,\n",
       "       0.00000000e+00, 0.00000000e+00, 0.00000000e+00, 0.00000000e+00,\n",
       "       0.00000000e+00, 2.25391532e-04, 1.00719912e-03, 2.45165454e-05,\n",
       "       0.00000000e+00, 1.87952546e-04, 0.00000000e+00, 0.00000000e+00,\n",
       "       0.00000000e+00, 0.00000000e+00, 2.49494765e-04, 4.61613160e-04,\n",
       "       0.00000000e+00, 0.00000000e+00, 5.74505435e-03, 0.00000000e+00,\n",
       "       1.53001404e-04, 0.00000000e+00, 2.45165454e-05, 0.00000000e+00,\n",
       "       3.26887272e-05, 5.34280231e-04, 0.00000000e+00, 0.00000000e+00,\n",
       "       0.00000000e+00, 0.00000000e+00, 0.00000000e+00, 0.00000000e+00,\n",
       "       0.00000000e+00, 0.00000000e+00, 0.00000000e+00, 2.91902506e-04,\n",
       "       0.00000000e+00, 0.00000000e+00, 3.59571152e-04, 4.71472027e-05,\n",
       "       0.00000000e+00, 1.11550282e-04, 2.50577528e-04, 4.08114386e-04,\n",
       "       0.00000000e+00, 0.00000000e+00, 0.00000000e+00, 0.00000000e+00,\n",
       "       9.75640999e-05, 0.00000000e+00, 0.00000000e+00, 0.00000000e+00,\n",
       "       0.00000000e+00, 0.00000000e+00, 4.59685227e-05, 0.00000000e+00,\n",
       "       0.00000000e+00, 0.00000000e+00, 0.00000000e+00, 0.00000000e+00,\n",
       "       0.00000000e+00, 0.00000000e+00, 0.00000000e+00, 0.00000000e+00,\n",
       "       2.45165454e-05, 0.00000000e+00, 0.00000000e+00, 0.00000000e+00,\n",
       "       1.91635396e-03, 0.00000000e+00, 4.47646652e-03, 3.92264727e-05,\n",
       "       0.00000000e+00, 2.41049957e-04, 0.00000000e+00, 0.00000000e+00,\n",
       "       1.47337274e-03, 0.00000000e+00, 0.00000000e+00, 0.00000000e+00,\n",
       "       3.67748181e-05, 0.00000000e+00, 0.00000000e+00, 0.00000000e+00,\n",
       "       0.00000000e+00, 0.00000000e+00, 0.00000000e+00, 0.00000000e+00,\n",
       "       0.00000000e+00, 6.19627181e-04, 0.00000000e+00, 7.43668545e-05,\n",
       "       1.29392124e-03, 0.00000000e+00, 5.45372963e-04, 1.37292654e-04,\n",
       "       6.53774545e-05, 8.42937475e-04, 0.00000000e+00, 2.05147284e-04,\n",
       "       1.27667960e-02, 2.67832582e-03, 0.00000000e+00, 0.00000000e+00,\n",
       "       0.00000000e+00, 1.73658863e-04, 1.04295356e-03, 1.05795742e-02,\n",
       "       3.92264727e-05, 0.00000000e+00, 0.00000000e+00, 0.00000000e+00,\n",
       "       0.00000000e+00, 0.00000000e+00, 0.00000000e+00, 0.00000000e+00,\n",
       "       0.00000000e+00, 0.00000000e+00, 0.00000000e+00, 0.00000000e+00,\n",
       "       1.37402912e-03, 2.75482352e-04, 5.53860475e-04, 0.00000000e+00,\n",
       "       0.00000000e+00, 5.55927010e-04, 3.76599011e-04, 5.19212189e-04,\n",
       "       2.93119924e-04, 0.00000000e+00, 5.06332893e-04, 3.07081197e-04,\n",
       "       2.31873657e-03, 1.66574946e-03, 0.00000000e+00, 4.35849696e-05,\n",
       "       0.00000000e+00, 0.00000000e+00, 0.00000000e+00, 0.00000000e+00])"
      ]
     },
     "execution_count": 77,
     "metadata": {},
     "output_type": "execute_result"
    }
   ],
   "source": [
    "sklm.feature_importances(clf,\n",
    "                        #method=,\n",
    "                        verbose = True,\n",
    "                        plot=True,\n",
    "                        X_permuation=X_test,\n",
    "                        y_permutation=y_test,\n",
    "                        n_repeats=1)"
   ]
  },
  {
   "cell_type": "code",
   "execution_count": 64,
   "metadata": {},
   "outputs": [
    {
     "data": {
      "image/png": "[encoded data removed]",
      "text/plain": [
       "<Figure size 432x288 with 1 Axes>"
      ]
     },
     "metadata": {
      "needs_background": "light"
     },
     "output_type": "display_data"
    }
   ],
   "source": [
    "def plot_feature_importance(clf,\n",
    "                            feature_names = None,\n",
    "                           sort_features=True,\n",
    "                           n_features_to_plot=20,\n",
    "                           title=\"Feature Importance\"):\n",
    "    \"\"\"\n",
    "    Purpose: Will plot the feature importance of a classifier\n",
    "    \"\"\"\n",
    "    importances = np.array(clf.feature_importances_)\n",
    "        \n",
    "    if feature_names is None:\n",
    "        feature_names= np.array([f\"feature_{i}\" for i in range(len(importances))])\n",
    "    \n",
    "    if sort_features:\n",
    "        sort_idx = np.flip(np.argsort(importances))\n",
    "        importances = importances[sort_idx]\n",
    "        feature_names = feature_names[sort_idx]\n",
    "    \n",
    "    if not sklm.is_ensemble(clf):\n",
    "            std = np.zeros(len(importances))\n",
    "    else:\n",
    "        std = np.std([tree.feature_importances_ for tree in clf.estimators_],axis=0)\n",
    "        \n",
    "    df = pd.DataFrame(dict(importances=importances,index=feature_names,std=std))\n",
    "    \n",
    "    #doing the filtering of the features\n",
    "    if n_features_to_plot is not None and len(df)>n_features_to_plot:\n",
    "        df = df.iloc[:n_features_to_plot,:]\n",
    "\n",
    "    #doing the plotting\n",
    "    fig,ax = plt.subplots()\n",
    "    df.plot.bar(x=\"index\",y=\"importances\",yerr=\"std\",ax=ax)\n",
    "    ax.set_title(title)\n",
    "    fig.tight_layout()\n",
    "    \n",
    "plot_feature_importance(clf_for)"
   ]
  },
  {
   "cell_type": "code",
   "execution_count": 53,
   "metadata": {},
   "outputs": [],
   "source": [
    "import numpy as np\n",
    "import time\n",
    "import pandas as pd\n",
    "import matplotlib.pyplot as plt\n",
    "\n",
    "\n",
    "def feature_importance_std(clf):\n",
    "    if not sklm.is_ensemble(clf):\n",
    "        std = np.zeros(len(clf.feature_importances_))\n",
    "    else:\n",
    "        std = np.std([tree.feature_importances_ for tree in clf.estimators_],axis=0)\n",
    "    return std\n",
    "def feature_importance(\n",
    "    clf,\n",
    "    verbose = True,\n",
    "    plot = False,\n",
    "    feature_names = None,\n",
    "    return_std = False,\n",
    "    **kwargs\n",
    "    ):\n",
    "    \"\"\"\n",
    "    Purpose: Will return the feature importance\n",
    "    of a tree based classi\n",
    "    \n",
    "    \"\"\"\n",
    "\n",
    "    st = time.time()\n",
    "    importances = clf.feature_importances_\n",
    "    \n",
    "    elapsed_time = time.time() - st\n",
    "    if verbose:\n",
    "        print(f\"Time for importances = {elapsed_time}\")\n",
    "\n",
    "    if return_std:\n",
    "        std = feature_importance_std(clf)\n",
    "        \n",
    "    if plot:\n",
    "        plot_feature_importance(clf,feature_names,**kwargs)\n",
    "    \n",
    "    if return_std:\n",
    "        return importances,std\n",
    "    else:\n",
    "        return importances"
   ]
  },
  {
   "cell_type": "code",
   "execution_count": null,
   "metadata": {},
   "outputs": [],
   "source": []
  },
  {
   "cell_type": "code",
   "execution_count": 38,
   "metadata": {},
   "outputs": [
    {
     "data": {
      "text/html": [
       "<div>\n",
       "<style scoped>\n",
       "    .dataframe tbody tr th:only-of-type {\n",
       "        vertical-align: middle;\n",
       "    }\n",
       "\n",
       "    .dataframe tbody tr th {\n",
       "        vertical-align: top;\n",
       "    }\n",
       "\n",
       "    .dataframe thead th {\n",
       "        text-align: right;\n",
       "    }\n",
       "</style>\n",
       "<table border=\"1\" class=\"dataframe\">\n",
       "  <thead>\n",
       "    <tr style=\"text-align: right;\">\n",
       "      <th></th>\n",
       "      <th>importances</th>\n",
       "      <th>index</th>\n",
       "      <th>std</th>\n",
       "    </tr>\n",
       "  </thead>\n",
       "  <tbody>\n",
       "    <tr>\n",
       "      <th>0</th>\n",
       "      <td>0.000000</td>\n",
       "      <td>feature_0</td>\n",
       "      <td>0.000000</td>\n",
       "    </tr>\n",
       "    <tr>\n",
       "      <th>1</th>\n",
       "      <td>0.000000</td>\n",
       "      <td>feature_1</td>\n",
       "      <td>0.000000</td>\n",
       "    </tr>\n",
       "    <tr>\n",
       "      <th>2</th>\n",
       "      <td>0.000000</td>\n",
       "      <td>feature_2</td>\n",
       "      <td>0.000000</td>\n",
       "    </tr>\n",
       "    <tr>\n",
       "      <th>3</th>\n",
       "      <td>0.000000</td>\n",
       "      <td>feature_3</td>\n",
       "      <td>0.000000</td>\n",
       "    </tr>\n",
       "    <tr>\n",
       "      <th>4</th>\n",
       "      <td>0.000000</td>\n",
       "      <td>feature_4</td>\n",
       "      <td>0.000000</td>\n",
       "    </tr>\n",
       "    <tr>\n",
       "      <th>5</th>\n",
       "      <td>0.000000</td>\n",
       "      <td>feature_5</td>\n",
       "      <td>0.000000</td>\n",
       "    </tr>\n",
       "    <tr>\n",
       "      <th>6</th>\n",
       "      <td>0.000000</td>\n",
       "      <td>feature_6</td>\n",
       "      <td>0.000000</td>\n",
       "    </tr>\n",
       "    <tr>\n",
       "      <th>7</th>\n",
       "      <td>0.000000</td>\n",
       "      <td>feature_7</td>\n",
       "      <td>0.000000</td>\n",
       "    </tr>\n",
       "    <tr>\n",
       "      <th>8</th>\n",
       "      <td>0.000090</td>\n",
       "      <td>feature_8</td>\n",
       "      <td>0.000485</td>\n",
       "    </tr>\n",
       "    <tr>\n",
       "      <th>9</th>\n",
       "      <td>0.000147</td>\n",
       "      <td>feature_9</td>\n",
       "      <td>0.000648</td>\n",
       "    </tr>\n",
       "  </tbody>\n",
       "</table>\n",
       "</div>"
      ],
      "text/plain": [
       "   importances      index       std\n",
       "0     0.000000  feature_0  0.000000\n",
       "1     0.000000  feature_1  0.000000\n",
       "2     0.000000  feature_2  0.000000\n",
       "3     0.000000  feature_3  0.000000\n",
       "4     0.000000  feature_4  0.000000\n",
       "5     0.000000  feature_5  0.000000\n",
       "6     0.000000  feature_6  0.000000\n",
       "7     0.000000  feature_7  0.000000\n",
       "8     0.000090  feature_8  0.000485\n",
       "9     0.000147  feature_9  0.000648"
      ]
     },
     "execution_count": 38,
     "metadata": {},
     "output_type": "execute_result"
    }
   ],
   "source": [
    "feature_importance(clf,plot=True)\n"
   ]
  },
  {
   "cell_type": "code",
   "execution_count": null,
   "metadata": {},
   "outputs": [],
   "source": [
    "\"\"\"\n",
    "BaggingClassifer parameters: \n",
    "\n",
    "\n",
    "\"\"\""
   ]
  },
  {
   "cell_type": "code",
   "execution_count": null,
   "metadata": {},
   "outputs": [],
   "source": []
  },
  {
   "cell_type": "code",
   "execution_count": null,
   "metadata": {},
   "outputs": [],
   "source": []
  },
  {
   "cell_type": "code",
   "execution_count": 12,
   "metadata": {},
   "outputs": [
    {
     "data": {
      "text/plain": [
       "'\\n    A random forest classifier.\\n\\n    A random forest is a meta estimator that fits a number of decision tree\\n    classifiers on various sub-samples of the dataset and uses averaging to\\n    improve the predictive accuracy and control over-fitting.\\n    The sub-sample size is controlled with the `max_samples` parameter if\\n    `bootstrap=True` (default), otherwise the whole dataset is used to build\\n    each tree.\\n\\n    Read more in the :ref:`User Guide <forest>`.\\n\\n    Parameters\\n    ----------\\n    n_estimators : int, default=100\\n        The number of trees in the forest.\\n\\n        .. versionchanged:: 0.22\\n           The default value of ``n_estimators`` changed from 10 to 100\\n           in 0.22.\\n\\n    criterion : {\"gini\", \"entropy\"}, default=\"gini\"\\n        The function to measure the quality of a split. Supported criteria are\\n        \"gini\" for the Gini impurity and \"entropy\" for the information gain.\\n        Note: this parameter is tree-specific.\\n\\n    max_depth : int, default=None\\n        The maximum depth of the tree. If None, then nodes are expanded until\\n        all leaves are pure or until all leaves contain less than\\n        min_samples_split samples.\\n\\n    min_samples_split : int or float, default=2\\n        The minimum number of samples required to split an internal node:\\n\\n        - If int, then consider `min_samples_split` as the minimum number.\\n        - If float, then `min_samples_split` is a fraction and\\n          `ceil(min_samples_split * n_samples)` are the minimum\\n          number of samples for each split.\\n\\n        .. versionchanged:: 0.18\\n           Added float values for fractions.\\n\\n    min_samples_leaf : int or float, default=1\\n        The minimum number of samples required to be at a leaf node.\\n        A split point at any depth will only be considered if it leaves at\\n        least ``min_samples_leaf`` training samples in each of the left and\\n        right branches.  This may have the effect of smoothing the model,\\n        especially in regression.\\n\\n        - If int, then consider `min_samples_leaf` as the minimum number.\\n        - If float, then `min_samples_leaf` is a fraction and\\n          `ceil(min_samples_leaf * n_samples)` are the minimum\\n          number of samples for each node.\\n\\n        .. versionchanged:: 0.18\\n           Added float values for fractions.\\n\\n    min_weight_fraction_leaf : float, default=0.0\\n        The minimum weighted fraction of the sum total of weights (of all\\n        the input samples) required to be at a leaf node. Samples have\\n        equal weight when sample_weight is not provided.\\n\\n    max_features : {\"auto\", \"sqrt\", \"log2\"}, int or float, default=\"auto\"\\n        The number of features to consider when looking for the best split:\\n\\n        - If int, then consider `max_features` features at each split.\\n        - If float, then `max_features` is a fraction and\\n          `int(max_features * n_features)` features are considered at each\\n          split.\\n        - If \"auto\", then `max_features=sqrt(n_features)`.\\n        - If \"sqrt\", then `max_features=sqrt(n_features)` (same as \"auto\").\\n        - If \"log2\", then `max_features=log2(n_features)`.\\n        - If None, then `max_features=n_features`.\\n\\n        Note: the search for a split does not stop until at least one\\n        valid partition of the node samples is found, even if it requires to\\n        effectively inspect more than ``max_features`` features.\\n\\n    max_leaf_nodes : int, default=None\\n        Grow trees with ``max_leaf_nodes`` in best-first fashion.\\n        Best nodes are defined as relative reduction in impurity.\\n        If None then unlimited number of leaf nodes.\\n\\n    min_impurity_decrease : float, default=0.0\\n        A node will be split if this split induces a decrease of the impurity\\n        greater than or equal to this value.\\n\\n        The weighted impurity decrease equation is the following::\\n\\n            N_t / N * (impurity - N_t_R / N_t * right_impurity\\n                                - N_t_L / N_t * left_impurity)\\n\\n        where ``N`` is the total number of samples, ``N_t`` is the number of\\n        samples at the current node, ``N_t_L`` is the number of samples in the\\n        left child, and ``N_t_R`` is the number of samples in the right child.\\n\\n        ``N``, ``N_t``, ``N_t_R`` and ``N_t_L`` all refer to the weighted sum,\\n        if ``sample_weight`` is passed.\\n\\n        .. versionadded:: 0.19\\n\\n    min_impurity_split : float, default=None\\n        Threshold for early stopping in tree growth. A node will split\\n        if its impurity is above the threshold, otherwise it is a leaf.\\n\\n        .. deprecated:: 0.19\\n           ``min_impurity_split`` has been deprecated in favor of\\n           ``min_impurity_decrease`` in 0.19. The default value of\\n           ``min_impurity_split`` has changed from 1e-7 to 0 in 0.23 and it\\n           will be removed in 0.25. Use ``min_impurity_decrease`` instead.\\n\\n\\n    bootstrap : bool, default=True\\n        Whether bootstrap samples are used when building trees. If False, the\\n        whole dataset is used to build each tree.\\n\\n    oob_score : bool, default=False\\n        Whether to use out-of-bag samples to estimate\\n        the generalization accuracy.\\n\\n    n_jobs : int, default=None\\n        The number of jobs to run in parallel. :meth:`fit`, :meth:`predict`,\\n        :meth:`decision_path` and :meth:`apply` are all parallelized over the\\n        trees. ``None`` means 1 unless in a :obj:`joblib.parallel_backend`\\n        context. ``-1`` means using all processors. See :term:`Glossary\\n        <n_jobs>` for more details.\\n\\n    random_state : int or RandomState, default=None\\n        Controls both the randomness of the bootstrapping of the samples used\\n        when building trees (if ``bootstrap=True``) and the sampling of the\\n        features to consider when looking for the best split at each node\\n        (if ``max_features < n_features``).\\n        See :term:`Glossary <random_state>` for details.\\n\\n    verbose : int, default=0\\n        Controls the verbosity when fitting and predicting.\\n\\n    warm_start : bool, default=False\\n        When set to ``True``, reuse the solution of the previous call to fit\\n        and add more estimators to the ensemble, otherwise, just fit a whole\\n        new forest. See :term:`the Glossary <warm_start>`.\\n\\n    class_weight : {\"balanced\", \"balanced_subsample\"}, dict or list of dicts,             default=None\\n        Weights associated with classes in the form ``{class_label: weight}``.\\n        If not given, all classes are supposed to have weight one. For\\n        multi-output problems, a list of dicts can be provided in the same\\n        order as the columns of y.\\n\\n        Note that for multioutput (including multilabel) weights should be\\n        defined for each class of every column in its own dict. For example,\\n        for four-class multilabel classification weights should be\\n        [{0: 1, 1: 1}, {0: 1, 1: 5}, {0: 1, 1: 1}, {0: 1, 1: 1}] instead of\\n        [{1:1}, {2:5}, {3:1}, {4:1}].\\n\\n        The \"balanced\" mode uses the values of y to automatically adjust\\n        weights inversely proportional to class frequencies in the input data\\n        as ``n_samples / (n_classes * np.bincount(y))``\\n\\n        The \"balanced_subsample\" mode is the same as \"balanced\" except that\\n        weights are computed based on the bootstrap sample for every tree\\n        grown.\\n\\n        For multi-output, the weights of each column of y will be multiplied.\\n\\n        Note that these weights will be multiplied with sample_weight (passed\\n        through the fit method) if sample_weight is specified.\\n\\n    ccp_alpha : non-negative float, default=0.0\\n        Complexity parameter used for Minimal Cost-Complexity Pruning. The\\n        subtree with the largest cost complexity that is smaller than\\n        ``ccp_alpha`` will be chosen. By default, no pruning is performed. See\\n        :ref:`minimal_cost_complexity_pruning` for details.\\n\\n        .. versionadded:: 0.22\\n\\n    max_samples : int or float, default=None\\n        If bootstrap is True, the number of samples to draw from X\\n        to train each base estimator.\\n\\n        - If None (default), then draw `X.shape[0]` samples.\\n        - If int, then draw `max_samples` samples.\\n        - If float, then draw `max_samples * X.shape[0]` samples. Thus,\\n          `max_samples` should be in the interval `(0, 1)`.\\n\\n        .. versionadded:: 0.22\\n\\n    Attributes\\n    ----------\\n    base_estimator_ : DecisionTreeClassifier\\n        The child estimator template used to create the collection of fitted\\n        sub-estimators.\\n\\n    estimators_ : list of DecisionTreeClassifier\\n        The collection of fitted sub-estimators.\\n\\n    classes_ : ndarray of shape (n_classes,) or a list of such arrays\\n        The classes labels (single output problem), or a list of arrays of\\n        class labels (multi-output problem).\\n\\n    n_classes_ : int or list\\n        The number of classes (single output problem), or a list containing the\\n        number of classes for each output (multi-output problem).\\n\\n    n_features_ : int\\n        The number of features when ``fit`` is performed.\\n\\n    n_outputs_ : int\\n        The number of outputs when ``fit`` is performed.\\n\\n    feature_importances_ : ndarray of shape (n_features,)\\n        The impurity-based feature importances.\\n        The higher, the more important the feature.\\n        The importance of a feature is computed as the (normalized)\\n        total reduction of the criterion brought by that feature.  It is also\\n        known as the Gini importance.\\n\\n        Warning: impurity-based feature importances can be misleading for\\n        high cardinality features (many unique values). See\\n        :func:`sklearn.inspection.permutation_importance` as an alternative.\\n\\n    oob_score_ : float\\n        Score of the training dataset obtained using an out-of-bag estimate.\\n        This attribute exists only when ``oob_score`` is True.\\n\\n    oob_decision_function_ : ndarray of shape (n_samples, n_classes)\\n        Decision function computed with out-of-bag estimate on the training\\n        set. If n_estimators is small it might be possible that a data point\\n        was never left out during the bootstrap. In this case,\\n        `oob_decision_function_` might contain NaN. This attribute exists\\n        only when ``oob_score`` is True.\\n\\n    See Also\\n    --------\\n    DecisionTreeClassifier, ExtraTreesClassifier\\n\\n    Notes\\n    -----\\n    The default values for the parameters controlling the size of the trees\\n    (e.g. ``max_depth``, ``min_samples_leaf``, etc.) lead to fully grown and\\n    unpruned trees which can potentially be very large on some data sets. To\\n    reduce memory consumption, the complexity and size of the trees should be\\n    controlled by setting those parameter values.\\n\\n    The features are always randomly permuted at each split. Therefore,\\n    the best found split may vary, even with the same training data,\\n    ``max_features=n_features`` and ``bootstrap=False``, if the improvement\\n    of the criterion is identical for several splits enumerated during the\\n    search of the best split. To obtain a deterministic behaviour during\\n    fitting, ``random_state`` has to be fixed.\\n\\n    References\\n    ----------\\n    .. [1] L. Breiman, \"Random Forests\", Machine Learning, 45(1), 5-32, 2001.\\n\\n    Examples\\n    --------\\n    >>> from sklearn.ensemble import RandomForestClassifier\\n    >>> from sklearn.datasets import make_classification\\n    >>> X, y = make_classification(n_samples=1000, n_features=4,\\n    ...                            n_informative=2, n_redundant=0,\\n    ...                            random_state=0, shuffle=False)\\n    >>> clf = RandomForestClassifier(max_depth=2, random_state=0)\\n    >>> clf.fit(X, y)\\n    RandomForestClassifier(...)\\n    >>> print(clf.predict([[0, 0, 0, 0]]))\\n    [1]\\n    '"
      ]
     },
     "execution_count": 12,
     "metadata": {},
     "output_type": "execute_result"
    }
   ],
   "source": [
    "ensemble.RandomForestClassifier.__doc__"
   ]
  },
  {
   "cell_type": "code",
   "execution_count": null,
   "metadata": {},
   "outputs": [],
   "source": [
    "\n",
    "models = [\n",
    "    DecisionTreeClassifier(max_depth=max_depth),\n",
    "    RandomForestClassifier(n_estimators=n_trees, max_features=n_features, max_depth=max_depth),\n",
    "    ExtraTreesClassifier(  n_estimators=n_trees, max_features=n_features, max_depth=max_depth),\n",
    "    AdaBoostClassifier( DecisionTreeClassifier(max_depth=max_depth), n_estimators=n_trees, ),\n",
    "]"
   ]
  }
 ],
 "metadata": {
  "kernelspec": {
   "display_name": "Python 3",
   "language": "python",
   "name": "python3"
  },
  "language_info": {
   "codemirror_mode": {
    "name": "ipython",
    "version": 3
   },
   "file_extension": ".py",
   "mimetype": "text/x-python",
   "name": "python",
   "nbconvert_exporter": "python",
   "pygments_lexer": "ipython3",
   "version": "3.6.9"
  }
 },
 "nbformat": 4,
 "nbformat_minor": 4
}
