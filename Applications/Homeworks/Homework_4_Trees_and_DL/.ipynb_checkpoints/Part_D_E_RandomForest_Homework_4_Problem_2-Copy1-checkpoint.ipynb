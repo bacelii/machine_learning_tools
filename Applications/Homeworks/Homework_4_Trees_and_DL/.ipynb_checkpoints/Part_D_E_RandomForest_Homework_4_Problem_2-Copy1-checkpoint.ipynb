{
 "cells": [
  {
   "cell_type": "code",
   "execution_count": 1,
   "metadata": {},
   "outputs": [
    {
     "data": {
      "text/plain": [
       "'\\n11/23\\nPurpose: To analyze the fashion dataset using tree based methods\\n\\n'"
      ]
     },
     "execution_count": 1,
     "metadata": {},
     "output_type": "execute_result"
    }
   ],
   "source": [
    "\"\"\"\n",
    "11/23\n",
    "Purpose: To analyze the fashion dataset using tree based methods\n",
    "\n",
    "\"\"\""
   ]
  },
  {
   "cell_type": "code",
   "execution_count": 2,
   "metadata": {},
   "outputs": [],
   "source": [
    "%load_ext autoreload\n",
    "%autoreload 2"
   ]
  },
  {
   "cell_type": "code",
   "execution_count": 3,
   "metadata": {},
   "outputs": [],
   "source": [
    "#!git clone https://github.com/celiibrendan/fashion-mnist.git"
   ]
  },
  {
   "cell_type": "code",
   "execution_count": 4,
   "metadata": {},
   "outputs": [],
   "source": [
    "from os import sys\n",
    "sys.path.append(\"/fashion-mnist/utils/\")\n",
    "sys.path.append(\"../../../machine_learning_tools/\")"
   ]
  },
  {
   "cell_type": "code",
   "execution_count": 5,
   "metadata": {},
   "outputs": [],
   "source": [
    "import sklearn_models as sklm\n",
    "import sklearn_utils as sklu\n",
    "import numpy_ml as nu\n",
    "import general_utils as gu"
   ]
  },
  {
   "cell_type": "markdown",
   "metadata": {},
   "source": [
    "# loads the fashion dataset"
   ]
  },
  {
   "cell_type": "code",
   "execution_count": 6,
   "metadata": {},
   "outputs": [],
   "source": [
    "import mnist_reader\n",
    "X_train, y_train = mnist_reader.load_mnist('/fashion-mnist/data/fashion', kind='train')\n",
    "X_test, y_test = mnist_reader.load_mnist('/fashion-mnist/data/fashion', kind='t10k')"
   ]
  },
  {
   "cell_type": "code",
   "execution_count": 7,
   "metadata": {},
   "outputs": [
    {
     "data": {
      "text/plain": [
       "(60000, 784)"
      ]
     },
     "execution_count": 7,
     "metadata": {},
     "output_type": "execute_result"
    }
   ],
   "source": [
    "X_train.shape"
   ]
  },
  {
   "cell_type": "code",
   "execution_count": 8,
   "metadata": {},
   "outputs": [
    {
     "data": {
      "text/plain": [
       "<matplotlib.image.AxesImage at 0x7fdacb852e10>"
      ]
     },
     "execution_count": 8,
     "metadata": {},
     "output_type": "execute_result"
    },
    {
     "data": {
      "image/png": "[encoded data removed]",
      "text/plain": [
       "<Figure size 432x288 with 1 Axes>"
      ]
     },
     "metadata": {
      "needs_background": "light"
     },
     "output_type": "display_data"
    }
   ],
   "source": [
    "import matplotlib.pyplot as plt\n",
    "plt.imshow(X_train[0].reshape(28,28))"
   ]
  },
  {
   "cell_type": "markdown",
   "metadata": {},
   "source": [
    "# Part D: Trying to Tune Models for Accuracy (Random Forest)"
   ]
  },
  {
   "cell_type": "code",
   "execution_count": 9,
   "metadata": {},
   "outputs": [
    {
     "data": {
      "text/plain": [
       "'\\nPurpose:  \\nAccuracy. Now properly tune each approach and compare and contrast the test accuracy of each\\nmethod. Which performs best? Why? What hyperparameters led to the best test error? How\\nlong did each approach take to train? (Note: If you did the Deep Learning problem, also compare\\nyour accuracy and timing to that of the Deep Learning methods above.)\\n\\nPseudocode: \\n0) Determine all parameters we want to set or inspect over and define\\n1) Define the RandomizedSearchCV for the models\\n2) Run the RandomizedSearchCV: \\n- record the testing error\\n- record the time it took\\n3) Compare the \\n\\n'"
      ]
     },
     "execution_count": 9,
     "metadata": {},
     "output_type": "execute_result"
    }
   ],
   "source": [
    " \"\"\"\n",
    "Purpose:  \n",
    "Accuracy. Now properly tune each approach and compare and contrast the test accuracy of each\n",
    "method. Which performs best? Why? What hyperparameters led to the best test error? How\n",
    "long did each approach take to train? (Note: If you did the Deep Learning problem, also compare\n",
    "your accuracy and timing to that of the Deep Learning methods above.)\n",
    "\n",
    "Pseudocode: \n",
    "0) Determine all parameters we want to set or inspect over and define\n",
    "1) Define the RandomizedSearchCV for the models\n",
    "2) Run the RandomizedSearchCV: \n",
    "- record the testing error\n",
    "- record the time it took\n",
    "3) Compare the \n",
    "\n",
    "\"\"\"\n"
   ]
  },
  {
   "cell_type": "code",
   "execution_count": 12,
   "metadata": {},
   "outputs": [
    {
     "data": {
      "text/plain": [
       "{'n_estimators': [200], 'max_depth': [None, 10, 20, 25, 30, 35]}"
      ]
     },
     "execution_count": 12,
     "metadata": {},
     "output_type": "execute_result"
    }
   ],
   "source": [
    "import numpy as np\n",
    "param_dict = dict(\n",
    "    n_estimators = [200],\n",
    "    max_depth = [None,10,20,25,30,35]\n",
    "    #max_features = np.linspace(0.2,0.6,20),\n",
    ")\n",
    "\n",
    "clf = sklm.RandomForestClassifier()\n",
    "\n",
    "param_dict"
   ]
  },
  {
   "cell_type": "code",
   "execution_count": 13,
   "metadata": {},
   "outputs": [
    {
     "name": "stdout",
     "output_type": "stream",
     "text": [
      "Fitting 5 folds for each of 5 candidates, totalling 25 fits\n"
     ]
    },
    {
     "name": "stderr",
     "output_type": "stream",
     "text": [
      "[Parallel(n_jobs=5)]: Using backend LokyBackend with 5 concurrent workers.\n",
      "[Parallel(n_jobs=5)]: Done  25 out of  25 | elapsed:  9.3min finished\n"
     ]
    },
    {
     "name": "stdout",
     "output_type": "stream",
     "text": [
      "RandomizedSearchCV took 712.40 seconds for 5 candidates parameter settings.\n",
      "Model with rank: 1\n",
      "Mean validation score: 0.884 (std: 0.003)\n",
      "Parameters: {'n_estimators': 200, 'max_depth': None}\n",
      "\n",
      "Model with rank: 2\n",
      "Mean validation score: 0.884 (std: 0.003)\n",
      "Parameters: {'n_estimators': 200, 'max_depth': 30}\n",
      "\n",
      "Model with rank: 3\n",
      "Mean validation score: 0.884 (std: 0.002)\n",
      "Parameters: {'n_estimators': 200, 'max_depth': 25}\n",
      "\n"
     ]
    }
   ],
   "source": [
    "import hyperparameters_ml as hml\n",
    "best_param, cv_results = hml.best_hyperparams_RandomizedSearchCV(\n",
    "    clf,\n",
    "    parameter_dict=param_dict,\n",
    "    X = X_train,\n",
    "    y = y_train,\n",
    "    n_iter_search=5,\n",
    "    verbose = True,\n",
    "    n_jobs = 5,\n",
    ")"
   ]
  },
  {
   "cell_type": "code",
   "execution_count": 14,
   "metadata": {},
   "outputs": [
    {
     "name": "stdout",
     "output_type": "stream",
     "text": [
      "{'n_estimators': 200, 'max_depth': None}\n"
     ]
    }
   ],
   "source": [
    "print(best_param)"
   ]
  },
  {
   "cell_type": "code",
   "execution_count": 15,
   "metadata": {},
   "outputs": [
    {
     "name": "stdout",
     "output_type": "stream",
     "text": [
      "Accuracy of Best Model on Test Data = 0.8773\n"
     ]
    }
   ],
   "source": [
    "clf_best = cv_results.best_estimator_\n",
    "print(f\"Accuracy of Best Model on Test Data = {sklu.accuracy(clf_best,X_test,y_test)}\")"
   ]
  },
  {
   "cell_type": "markdown",
   "metadata": {},
   "source": [
    "# Visualizing the Results"
   ]
  },
  {
   "cell_type": "code",
   "execution_count": 21,
   "metadata": {},
   "outputs": [],
   "source": [
    "import visualizations_ml as vml\n",
    "model_name = \"RandomForestClassifier\"\n",
    "feature_names =  np.array([f\"p{i}\" for i in range(clf_best.n_features_in_)])\n",
    "clf_best.classes_ = [f\"{k}\" for k in clf_best.classes_] "
   ]
  },
  {
   "cell_type": "code",
   "execution_count": 22,
   "metadata": {},
   "outputs": [
    {
     "name": "stdout",
     "output_type": "stream",
     "text": [
      "Using method: impurity_decrease\n",
      "Time for importances = 0.07541418075561523\n"
     ]
    },
    {
     "data": {
      "image/png": "[encoded data removed]",
      "text/plain": [
       "<Figure size 432x288 with 1 Axes>"
      ]
     },
     "metadata": {
      "needs_background": "light"
     },
     "output_type": "display_data"
    }
   ],
   "source": [
    "vml.plot_feature_importance(\n",
    "    clf_best,\n",
    "    feature_names=feature_names,\n",
    "    \n",
    "    title=f\"Feature Importance \\n {model_name}\",\n",
    "    n_features_to_plot=40,\n",
    "    \n",
    ")"
   ]
  },
  {
   "cell_type": "code",
   "execution_count": 23,
   "metadata": {},
   "outputs": [
    {
     "name": "stdout",
     "output_type": "stream",
     "text": [
      "Using method: impurity_decrease\n",
      "Time for importances = 0.07582998275756836\n"
     ]
    }
   ],
   "source": [
    "f_import = sklm.feature_importances(clf_best,return_std=False)"
   ]
  },
  {
   "cell_type": "code",
   "execution_count": 24,
   "metadata": {},
   "outputs": [
    {
     "data": {
      "text/plain": [
       "<AxesSubplot:title={'center':'RandomForestClassifier Pixel Feature Importance'}>"
      ]
     },
     "execution_count": 24,
     "metadata": {},
     "output_type": "execute_result"
    },
    {
     "data": {
      "image/png": "[encoded data removed]",
      "text/plain": [
       "<Figure size 432x288 with 2 Axes>"
      ]
     },
     "metadata": {
      "needs_background": "light"
     },
     "output_type": "display_data"
    }
   ],
   "source": [
    "import seaborn_ml as sml\n",
    "sml.heatmap(f_import.reshape(28,28),logscale=True,title=f\"{model_name} Pixel Feature Importance\")"
   ]
  },
  {
   "cell_type": "code",
   "execution_count": null,
   "metadata": {},
   "outputs": [],
   "source": []
  }
 ],
 "metadata": {
  "kernelspec": {
   "display_name": "Python 3",
   "language": "python",
   "name": "python3"
  },
  "language_info": {
   "codemirror_mode": {
    "name": "ipython",
    "version": 3
   },
   "file_extension": ".py",
   "mimetype": "text/x-python",
   "name": "python",
   "nbconvert_exporter": "python",
   "pygments_lexer": "ipython3",
   "version": "3.6.9"
  }
 },
 "nbformat": 4,
 "nbformat_minor": 4
}
