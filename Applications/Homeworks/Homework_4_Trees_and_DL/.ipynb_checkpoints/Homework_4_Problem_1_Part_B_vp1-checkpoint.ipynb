{
 "cells": [
  {
   "cell_type": "code",
   "execution_count": null,
   "metadata": {},
   "outputs": [],
   "source": [
    "\"\"\"\n",
    "11/23\n",
    "Purpose: To analyze the fashion dataset using tree based methods\n",
    "\n",
    "\"\"\""
   ]
  },
  {
   "cell_type": "code",
   "execution_count": 1,
   "metadata": {},
   "outputs": [],
   "source": [
    "%load_ext autoreload\n",
    "%autoreload 2"
   ]
  },
  {
   "cell_type": "code",
   "execution_count": 2,
   "metadata": {},
   "outputs": [],
   "source": [
    "#!git clone https://github.com/celiibrendan/fashion-mnist.git"
   ]
  },
  {
   "cell_type": "code",
   "execution_count": 3,
   "metadata": {},
   "outputs": [],
   "source": [
    "from os import sys\n",
    "sys.path.append(\"/fashion-mnist/utils/\")\n",
    "sys.path.append(\"../../../machine_learning_tools/\")"
   ]
  },
  {
   "cell_type": "code",
   "execution_count": 4,
   "metadata": {},
   "outputs": [],
   "source": [
    "import sklearn_models as sklm\n",
    "import sklearn_utils as sklu\n",
    "import numpy_ml as nu\n",
    "import general_utils as gu"
   ]
  },
  {
   "cell_type": "markdown",
   "metadata": {},
   "source": [
    "# loads the fashion dataset"
   ]
  },
  {
   "cell_type": "code",
   "execution_count": 5,
   "metadata": {},
   "outputs": [],
   "source": [
    "import mnist_reader\n",
    "X_train, y_train = mnist_reader.load_mnist('/fashion-mnist/data/fashion', kind='train')\n",
    "X_test, y_test = mnist_reader.load_mnist('/fashion-mnist/data/fashion', kind='t10k')"
   ]
  },
  {
   "cell_type": "code",
   "execution_count": 6,
   "metadata": {},
   "outputs": [
    {
     "data": {
      "text/plain": [
       "(60000, 784)"
      ]
     },
     "execution_count": 6,
     "metadata": {},
     "output_type": "execute_result"
    }
   ],
   "source": [
    "X_train.shape"
   ]
  },
  {
   "cell_type": "code",
   "execution_count": 7,
   "metadata": {},
   "outputs": [
    {
     "data": {
      "text/plain": [
       "28.0"
      ]
     },
     "execution_count": 7,
     "metadata": {},
     "output_type": "execute_result"
    }
   ],
   "source": [
    "import numpy as np\n",
    "np.sqrt(784)"
   ]
  },
  {
   "cell_type": "code",
   "execution_count": 8,
   "metadata": {},
   "outputs": [
    {
     "data": {
      "text/plain": [
       "<matplotlib.image.AxesImage at 0x7f54371cdcf8>"
      ]
     },
     "execution_count": 8,
     "metadata": {},
     "output_type": "execute_result"
    },
    {
     "data": {
      "image/png": "[encoded data removed]",
      "text/plain": [
       "<Figure size 432x288 with 1 Axes>"
      ]
     },
     "metadata": {
      "needs_background": "light"
     },
     "output_type": "display_data"
    }
   ],
   "source": [
    "import matplotlib.pyplot as plt\n",
    "plt.imshow(X_train[0].reshape(28,28))"
   ]
  },
  {
   "cell_type": "markdown",
   "metadata": {},
   "source": [
    "# Part B: Bag Error/Validation vs the Number of Trees"
   ]
  },
  {
   "cell_type": "code",
   "execution_count": 11,
   "metadata": {},
   "outputs": [],
   "source": [
    "import numpy as np"
   ]
  },
  {
   "cell_type": "code",
   "execution_count": 26,
   "metadata": {},
   "outputs": [
    {
     "name": "stdout",
     "output_type": "stream",
     "text": [
      "max_features= 28\n",
      "n_estimators (24) = [ 30  50  70  90 110 130 150 170 190 210 230 250 270 290 310 330 350 370\n",
      " 390 410 430 450 470 490]\n"
     ]
    }
   ],
   "source": [
    " \"\"\"\n",
    "Purpose:  \n",
    "Out of Bag Error. For Bagging and Random Forests, plot the out of bag error verses the number\n",
    "of trees in the ensemble. How does the out of bag error compare to that of the test error?\n",
    "\n",
    "Pseudocode: \n",
    "0) Set the  parameters to some default value and a range of number of trees\n",
    "Iterate through number of trees: \n",
    "    1) Train\n",
    "    2) Get the out of bag score\n",
    "    3) Get the validation score\n",
    "    4) Store (as dict in dataframe)\n",
    "\n",
    "Plot all of the curves and compare\n",
    "        \n",
    "\"\"\"\n",
    "verbose = True\n",
    "max_depth = 5\n",
    "max_features= np.ceil(np.sqrt(X_test.shape[1])).astype('int')\n",
    "if verbose:\n",
    "    print(f\"max_features= {max_features}\")\n",
    "bootstrap = True\n",
    "oob_score = True\n",
    "random_state = 10\n",
    "\n",
    "bag_parameters = dict(\n",
    "    base_estimator = sklm.DecisionTreeClassifier(\n",
    "    max_depth=max_depth,\n",
    "    ),\n",
    "    max_features = max_features,\n",
    "    bootstrap=bootstrap,\n",
    "    oob_score=oob_score,\n",
    "    random_state = random_state\n",
    ")\n",
    "\n",
    "forest_parameters = dict(\n",
    "    max_depth=max_depth,\n",
    "    max_features = max_features,\n",
    "    bootstrap=bootstrap,\n",
    "    oob_score=oob_score,\n",
    "    random_state = random_state\n",
    ")\n",
    "\n",
    "n_estimators = np.arange(30,500,20)\n",
    "print(f\"n_estimators ({len(n_estimators)}) = {n_estimators}\")"
   ]
  },
  {
   "cell_type": "code",
   "execution_count": null,
   "metadata": {
    "scrolled": true
   },
   "outputs": [
    {
     "data": {
      "application/vnd.jupyter.widget-view+json": {
       "model_id": "d601afbac5414bc2a1ee940d2a9c7451",
       "version_major": 2,
       "version_minor": 0
      },
      "text/plain": [
       "  0%|          | 0/24 [00:00<?, ?it/s]"
      ]
     },
     "metadata": {},
     "output_type": "display_data"
    },
    {
     "name": "stderr",
     "output_type": "stream",
     "text": [
      "[Parallel(n_jobs=1)]: Using backend SequentialBackend with 1 concurrent workers.\n",
      "[Parallel(n_jobs=1)]: Done   1 out of   1 | elapsed:    5.6s finished\n",
      "/usr/local/lib/python3.6/dist-packages/sklearn/ensemble/_bagging.py:638: UserWarning: Some inputs do not have OOB scores. This probably means too few estimators were used to compute any reliable oob estimates.\n",
      "  warn(\"Some inputs do not have OOB scores. \"\n",
      "/usr/local/lib/python3.6/dist-packages/sklearn/ensemble/_bagging.py:643: RuntimeWarning: invalid value encountered in true_divide\n",
      "  predictions.sum(axis=1)[:, np.newaxis])\n",
      "[Parallel(n_jobs=1)]: Using backend SequentialBackend with 1 concurrent workers.\n",
      "[Parallel(n_jobs=1)]: Done   1 out of   1 | elapsed:    0.1s finished\n",
      "[Parallel(n_jobs=1)]: Using backend SequentialBackend with 1 concurrent workers.\n",
      "[Parallel(n_jobs=1)]: Done   1 out of   1 | elapsed:    9.0s finished\n",
      "[Parallel(n_jobs=1)]: Using backend SequentialBackend with 1 concurrent workers.\n",
      "[Parallel(n_jobs=1)]: Done   1 out of   1 | elapsed:    0.1s finished\n",
      "[Parallel(n_jobs=1)]: Using backend SequentialBackend with 1 concurrent workers.\n",
      "[Parallel(n_jobs=1)]: Done   1 out of   1 | elapsed:   12.7s finished\n",
      "[Parallel(n_jobs=1)]: Using backend SequentialBackend with 1 concurrent workers.\n",
      "[Parallel(n_jobs=1)]: Done   1 out of   1 | elapsed:    0.1s finished\n",
      "[Parallel(n_jobs=1)]: Using backend SequentialBackend with 1 concurrent workers.\n",
      "[Parallel(n_jobs=1)]: Done   1 out of   1 | elapsed:   16.2s finished\n",
      "[Parallel(n_jobs=1)]: Using backend SequentialBackend with 1 concurrent workers.\n",
      "[Parallel(n_jobs=1)]: Done   1 out of   1 | elapsed:    0.2s finished\n",
      "[Parallel(n_jobs=1)]: Using backend SequentialBackend with 1 concurrent workers.\n",
      "[Parallel(n_jobs=1)]: Done   1 out of   1 | elapsed:   19.5s finished\n",
      "[Parallel(n_jobs=1)]: Using backend SequentialBackend with 1 concurrent workers.\n",
      "[Parallel(n_jobs=1)]: Done   1 out of   1 | elapsed:    0.2s finished\n",
      "[Parallel(n_jobs=1)]: Using backend SequentialBackend with 1 concurrent workers.\n",
      "[Parallel(n_jobs=1)]: Done   1 out of   1 | elapsed:   23.0s finished\n"
     ]
    }
   ],
   "source": [
    "from tqdm.notebook import tqdm\n",
    "results_df_dict = []\n",
    "for n_est in tqdm(n_estimators):\n",
    "    \n",
    "    #train the models\n",
    "    clf_bag = sklm.BaggingClassifier(n_estimators = n_est,\n",
    "                                    **bag_parameters).fit(X_train,y_train)\n",
    "    clf_forest = sklm.RandomForestClassifier(n_estimators = n_est,\n",
    "                                    **forest_parameters).fit(X_test,y_test)\n",
    "    #get the out of bag error\n",
    "    oob_bag = clf_bag.oob_score_\n",
    "    oob_forest = clf_forest.oob_score_\n",
    "    \n",
    "    #calculate the validation score\n",
    "    val_bag = sklu.accuracy(clf_bag,X_test,y_test)\n",
    "    val_forest = sklu.accuracy(clf_forest,X_test,y_test)\n",
    "    \n",
    "    #store the results\n",
    "    results_df_dict+=[dict(\n",
    "        classifier=\"Bag\",\n",
    "        n_estimators=n_est,\n",
    "        score=oob_bag,\n",
    "        score_type = \"oob\"),\n",
    "         dict(\n",
    "        classifier=\"Bag\",\n",
    "        n_estimators=n_est,\n",
    "        score=val_bag,\n",
    "        score_type = \"val\"),\n",
    "    ]\n",
    "        \n",
    "    results_df_dict+=[dict(\n",
    "        classifier=\"RF\",\n",
    "        n_estimators=n_est,\n",
    "        score=oob_forest,\n",
    "        score_type = \"oob\"),\n",
    "         dict(\n",
    "        classifier=\"RF\",\n",
    "        n_estimators=n_est,\n",
    "        score=val_forest,\n",
    "        score_type = \"val\"),\n",
    "    ]\n",
    "    \n",
    "    "
   ]
  },
  {
   "cell_type": "code",
   "execution_count": 24,
   "metadata": {},
   "outputs": [
    {
     "data": {
      "text/html": [
       "<div>\n",
       "<style scoped>\n",
       "    .dataframe tbody tr th:only-of-type {\n",
       "        vertical-align: middle;\n",
       "    }\n",
       "\n",
       "    .dataframe tbody tr th {\n",
       "        vertical-align: top;\n",
       "    }\n",
       "\n",
       "    .dataframe thead th {\n",
       "        text-align: right;\n",
       "    }\n",
       "</style>\n",
       "<table border=\"1\" class=\"dataframe\">\n",
       "  <thead>\n",
       "    <tr style=\"text-align: right;\">\n",
       "      <th></th>\n",
       "      <th>classifier</th>\n",
       "      <th>n_estimators</th>\n",
       "      <th>score</th>\n",
       "      <th>score_type</th>\n",
       "      <th>clf_type_score_type</th>\n",
       "    </tr>\n",
       "  </thead>\n",
       "  <tbody>\n",
       "    <tr>\n",
       "      <th>0</th>\n",
       "      <td>Bag</td>\n",
       "      <td>2</td>\n",
       "      <td>0.423983</td>\n",
       "      <td>oob</td>\n",
       "      <td>Bag_oob</td>\n",
       "    </tr>\n",
       "    <tr>\n",
       "      <th>1</th>\n",
       "      <td>Bag</td>\n",
       "      <td>2</td>\n",
       "      <td>0.665300</td>\n",
       "      <td>val</td>\n",
       "      <td>Bag_val</td>\n",
       "    </tr>\n",
       "    <tr>\n",
       "      <th>2</th>\n",
       "      <td>RF</td>\n",
       "      <td>2</td>\n",
       "      <td>0.433900</td>\n",
       "      <td>oob</td>\n",
       "      <td>RF_oob</td>\n",
       "    </tr>\n",
       "    <tr>\n",
       "      <th>3</th>\n",
       "      <td>RF</td>\n",
       "      <td>2</td>\n",
       "      <td>0.724000</td>\n",
       "      <td>val</td>\n",
       "      <td>RF_val</td>\n",
       "    </tr>\n",
       "    <tr>\n",
       "      <th>4</th>\n",
       "      <td>Bag</td>\n",
       "      <td>52</td>\n",
       "      <td>0.769033</td>\n",
       "      <td>oob</td>\n",
       "      <td>Bag_oob</td>\n",
       "    </tr>\n",
       "    <tr>\n",
       "      <th>5</th>\n",
       "      <td>Bag</td>\n",
       "      <td>52</td>\n",
       "      <td>0.766000</td>\n",
       "      <td>val</td>\n",
       "      <td>Bag_val</td>\n",
       "    </tr>\n",
       "    <tr>\n",
       "      <th>6</th>\n",
       "      <td>RF</td>\n",
       "      <td>52</td>\n",
       "      <td>0.753100</td>\n",
       "      <td>oob</td>\n",
       "      <td>RF_oob</td>\n",
       "    </tr>\n",
       "    <tr>\n",
       "      <th>7</th>\n",
       "      <td>RF</td>\n",
       "      <td>52</td>\n",
       "      <td>0.765300</td>\n",
       "      <td>val</td>\n",
       "      <td>RF_val</td>\n",
       "    </tr>\n",
       "    <tr>\n",
       "      <th>8</th>\n",
       "      <td>Bag</td>\n",
       "      <td>102</td>\n",
       "      <td>0.780283</td>\n",
       "      <td>oob</td>\n",
       "      <td>Bag_oob</td>\n",
       "    </tr>\n",
       "    <tr>\n",
       "      <th>9</th>\n",
       "      <td>Bag</td>\n",
       "      <td>102</td>\n",
       "      <td>0.772700</td>\n",
       "      <td>val</td>\n",
       "      <td>Bag_val</td>\n",
       "    </tr>\n",
       "    <tr>\n",
       "      <th>10</th>\n",
       "      <td>RF</td>\n",
       "      <td>102</td>\n",
       "      <td>0.754600</td>\n",
       "      <td>oob</td>\n",
       "      <td>RF_oob</td>\n",
       "    </tr>\n",
       "    <tr>\n",
       "      <th>11</th>\n",
       "      <td>RF</td>\n",
       "      <td>102</td>\n",
       "      <td>0.766600</td>\n",
       "      <td>val</td>\n",
       "      <td>RF_val</td>\n",
       "    </tr>\n",
       "    <tr>\n",
       "      <th>12</th>\n",
       "      <td>Bag</td>\n",
       "      <td>152</td>\n",
       "      <td>0.780800</td>\n",
       "      <td>oob</td>\n",
       "      <td>Bag_oob</td>\n",
       "    </tr>\n",
       "    <tr>\n",
       "      <th>13</th>\n",
       "      <td>Bag</td>\n",
       "      <td>152</td>\n",
       "      <td>0.773500</td>\n",
       "      <td>val</td>\n",
       "      <td>Bag_val</td>\n",
       "    </tr>\n",
       "    <tr>\n",
       "      <th>14</th>\n",
       "      <td>RF</td>\n",
       "      <td>152</td>\n",
       "      <td>0.756900</td>\n",
       "      <td>oob</td>\n",
       "      <td>RF_oob</td>\n",
       "    </tr>\n",
       "    <tr>\n",
       "      <th>15</th>\n",
       "      <td>RF</td>\n",
       "      <td>152</td>\n",
       "      <td>0.768100</td>\n",
       "      <td>val</td>\n",
       "      <td>RF_val</td>\n",
       "    </tr>\n",
       "  </tbody>\n",
       "</table>\n",
       "</div>"
      ],
      "text/plain": [
       "   classifier  n_estimators     score score_type clf_type_score_type\n",
       "0         Bag             2  0.423983        oob             Bag_oob\n",
       "1         Bag             2  0.665300        val             Bag_val\n",
       "2          RF             2  0.433900        oob              RF_oob\n",
       "3          RF             2  0.724000        val              RF_val\n",
       "4         Bag            52  0.769033        oob             Bag_oob\n",
       "5         Bag            52  0.766000        val             Bag_val\n",
       "6          RF            52  0.753100        oob              RF_oob\n",
       "7          RF            52  0.765300        val              RF_val\n",
       "8         Bag           102  0.780283        oob             Bag_oob\n",
       "9         Bag           102  0.772700        val             Bag_val\n",
       "10         RF           102  0.754600        oob              RF_oob\n",
       "11         RF           102  0.766600        val              RF_val\n",
       "12        Bag           152  0.780800        oob             Bag_oob\n",
       "13        Bag           152  0.773500        val             Bag_val\n",
       "14         RF           152  0.756900        oob              RF_oob\n",
       "15         RF           152  0.768100        val              RF_val"
      ]
     },
     "execution_count": 24,
     "metadata": {},
     "output_type": "execute_result"
    }
   ],
   "source": [
    "import pandas as pd\n",
    "results_df = pd.DataFrame.from_records(results_df_dict)\n",
    "results_df[\"clf_type_score_type\"] = results_df[\"classifier\"] + \"_\" + results_df[\"score_type\"]\n",
    "results_df"
   ]
  },
  {
   "cell_type": "markdown",
   "metadata": {},
   "source": [
    "# Plotting the Results"
   ]
  },
  {
   "cell_type": "code",
   "execution_count": 25,
   "metadata": {},
   "outputs": [
    {
     "data": {
      "text/plain": [
       "<AxesSubplot:xlabel='n_estimators', ylabel='score'>"
      ]
     },
     "execution_count": 25,
     "metadata": {},
     "output_type": "execute_result"
    },
    {
     "data": {
      "image/png": "[encoded data removed]",
      "text/plain": [
       "<Figure size 432x288 with 1 Axes>"
      ]
     },
     "metadata": {
      "needs_background": "light"
     },
     "output_type": "display_data"
    }
   ],
   "source": [
    "import seaborn as sns\n",
    "sns.lineplot(data=results_df, x=\"n_estimators\", y=\"score\", hue=\"clf_type_score_type\")"
   ]
  },
  {
   "cell_type": "code",
   "execution_count": null,
   "metadata": {},
   "outputs": [],
   "source": []
  }
 ],
 "metadata": {
  "kernelspec": {
   "display_name": "Python 3",
   "language": "python",
   "name": "python3"
  },
  "language_info": {
   "codemirror_mode": {
    "name": "ipython",
    "version": 3
   },
   "file_extension": ".py",
   "mimetype": "text/x-python",
   "name": "python",
   "nbconvert_exporter": "python",
   "pygments_lexer": "ipython3",
   "version": "3.6.9"
  }
 },
 "nbformat": 4,
 "nbformat_minor": 4
}
