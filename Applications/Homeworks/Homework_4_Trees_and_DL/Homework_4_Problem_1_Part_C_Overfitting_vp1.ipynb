{
 "cells": [
  {
   "cell_type": "code",
   "execution_count": null,
   "metadata": {},
   "outputs": [],
   "source": [
    "\"\"\"\n",
    "11/23\n",
    "Purpose: To analyze the fashion dataset using tree based methods\n",
    "\n",
    "\"\"\""
   ]
  },
  {
   "cell_type": "code",
   "execution_count": 1,
   "metadata": {},
   "outputs": [],
   "source": [
    "%load_ext autoreload\n",
    "%autoreload 2"
   ]
  },
  {
   "cell_type": "code",
   "execution_count": 2,
   "metadata": {},
   "outputs": [],
   "source": [
    "#!git clone https://github.com/celiibrendan/fashion-mnist.git"
   ]
  },
  {
   "cell_type": "code",
   "execution_count": 3,
   "metadata": {},
   "outputs": [],
   "source": [
    "from os import sys\n",
    "sys.path.append(\"/fashion-mnist/utils/\")\n",
    "sys.path.append(\"../../../machine_learning_tools/\")"
   ]
  },
  {
   "cell_type": "code",
   "execution_count": 4,
   "metadata": {},
   "outputs": [],
   "source": [
    "import sklearn_models as sklm\n",
    "import sklearn_utils as sklu\n",
    "import numpy_ml as nu\n",
    "import general_utils as gu"
   ]
  },
  {
   "cell_type": "markdown",
   "metadata": {},
   "source": [
    "# loads the fashion dataset"
   ]
  },
  {
   "cell_type": "code",
   "execution_count": 5,
   "metadata": {},
   "outputs": [],
   "source": [
    "import mnist_reader\n",
    "X_train, y_train = mnist_reader.load_mnist('/fashion-mnist/data/fashion', kind='train')\n",
    "X_test, y_test = mnist_reader.load_mnist('/fashion-mnist/data/fashion', kind='t10k')"
   ]
  },
  {
   "cell_type": "code",
   "execution_count": 6,
   "metadata": {},
   "outputs": [
    {
     "data": {
      "text/plain": [
       "(60000, 784)"
      ]
     },
     "execution_count": 6,
     "metadata": {},
     "output_type": "execute_result"
    }
   ],
   "source": [
    "X_train.shape"
   ]
  },
  {
   "cell_type": "code",
   "execution_count": 7,
   "metadata": {},
   "outputs": [
    {
     "data": {
      "text/plain": [
       "28.0"
      ]
     },
     "execution_count": 7,
     "metadata": {},
     "output_type": "execute_result"
    }
   ],
   "source": [
    "import numpy as np\n",
    "np.sqrt(784)"
   ]
  },
  {
   "cell_type": "code",
   "execution_count": 8,
   "metadata": {},
   "outputs": [
    {
     "data": {
      "text/plain": [
       "<matplotlib.image.AxesImage at 0x7fe709db2c50>"
      ]
     },
     "execution_count": 8,
     "metadata": {},
     "output_type": "execute_result"
    },
    {
     "data": {
      "image/png": "[encoded data removed]",
      "text/plain": [
       "<Figure size 432x288 with 1 Axes>"
      ]
     },
     "metadata": {
      "needs_background": "light"
     },
     "output_type": "display_data"
    }
   ],
   "source": [
    "import matplotlib.pyplot as plt\n",
    "plt.imshow(X_train[0].reshape(28,28))"
   ]
  },
  {
   "cell_type": "markdown",
   "metadata": {},
   "source": [
    "# Part C: Try to Overfit Tree Models"
   ]
  },
  {
   "cell_type": "code",
   "execution_count": 9,
   "metadata": {},
   "outputs": [
    {
     "data": {
      "text/plain": [
       "'\\nPurpose:  \\nHyperparameters. Try to purposefully overfit each of the following approaches: trees, bagging,\\nAdaBoost, Gradient Boosting, and Random Forests. Were you able to overfit? What hyperparameters \\ndid you use to overfit these approaches? Plot the training and test error as a function of\\nsome of the hyperparameters for various approaches to show which hyperparameters can lead to\\noverfitting. You may want to try varying the tree size, number of iterations (Boosting) learning\\nrate (Boosting), and/or the number of features to consider for each split (Random Forests).\\n\\nPseudocode: \\n0) Determine feature ideas that can possibly overfit a model (could be multiple for some models):\\n1) Define base parameters for each model\\n1) Iterate through all of the models\\n   2) Iterate through the different features to try\\n       Iterate through the specific feature value\\n           1) Train\\n           2) Get the trainig score\\n           3) Get the validation score\\n           4) Store (as dict in dataframe)\\n\\nCan then plot the the train/test score for different models and different features\\n\\n'"
      ]
     },
     "execution_count": 9,
     "metadata": {},
     "output_type": "execute_result"
    }
   ],
   "source": [
    " \"\"\"\n",
    "Purpose:  \n",
    "Hyperparameters. Try to purposefully overfit each of the following approaches: trees, bagging,\n",
    "AdaBoost, Gradient Boosting, and Random Forests. Were you able to overfit? What hyperparameters \n",
    "did you use to overfit these approaches? Plot the training and test error as a function of\n",
    "some of the hyperparameters for various approaches to show which hyperparameters can lead to\n",
    "overfitting. You may want to try varying the tree size, number of iterations (Boosting) learning\n",
    "rate (Boosting), and/or the number of features to consider for each split (Random Forests).\n",
    "\n",
    "Pseudocode: \n",
    "0) Determine feature ideas that can possibly overfit a model (could be multiple for some models):\n",
    "1) Define base parameters for each model\n",
    "1) Iterate through all of the models\n",
    "    2) Iterate through the different features to try\n",
    "        Iterate through the specific feature value\n",
    "            1) Train\n",
    "            2) Get the trainig score\n",
    "            3) Get the validation score\n",
    "            4) Store (as dict in dataframe)\n",
    "\n",
    "Can then plot the the train/test score for different models and different features\n",
    "\n",
    "\"\"\"\n"
   ]
  },
  {
   "cell_type": "markdown",
   "metadata": {},
   "source": [
    "# Brainstorming the parameters that can overfit certain models"
   ]
  },
  {
   "cell_type": "code",
   "execution_count": null,
   "metadata": {},
   "outputs": [],
   "source": [
    "\"\"\"\n",
    "\n",
    "sklm.DecisionTreeClassifier,\n",
    "- max_depth\n",
    "\n",
    "sklm.BaggingClassifier\n",
    "- max_depth\n",
    "- max_features\n",
    "- max_samples\n",
    "\n",
    "sklm.RandomForestClassifier\n",
    "- max_depth\n",
    "- max_features\n",
    "- max_samples\n",
    "-  \n",
    "\n",
    "\n",
    "sklm.AdaBoostClassifier\n",
    "- learning_rate\n",
    "\n",
    "sklm.GradientBoostingClassifier\n",
    "- learning_rate\n",
    "\n",
    "\"\"\""
   ]
  },
  {
   "cell_type": "code",
   "execution_count": 19,
   "metadata": {},
   "outputs": [
    {
     "data": {
      "text/plain": [
       "{'DecisionTreeClassifier': {'max_depth': array([   1,    1,    2,    2,    4,    6,    8,   12,   18,   26,   37,\n",
       "           54,   78,  112,  162,  233,  335,  483,  695, 1000])},\n",
       " 'BaggingClassifier': {'max_depth': array([   1,    1,    2,    2,    4,    6,    8,   12,   18,   26,   37,\n",
       "           54,   78,  112,  162,  233,  335,  483,  695, 1000]),\n",
       "  'max_features': array([0.        , 0.11111111, 0.22222222, 0.33333333, 0.44444444,\n",
       "         0.55555556, 0.66666667, 0.77777778, 0.88888889, 1.        ]),\n",
       "  'max_samples': array([0.        , 0.11111111, 0.22222222, 0.33333333, 0.44444444,\n",
       "         0.55555556, 0.66666667, 0.77777778, 0.88888889, 1.        ])},\n",
       " 'RandomForestClassifier': {'max_depth': array([   1,    1,    2,    2,    4,    6,    8,   12,   18,   26,   37,\n",
       "           54,   78,  112,  162,  233,  335,  483,  695, 1000]),\n",
       "  'max_features': array([0.        , 0.11111111, 0.22222222, 0.33333333, 0.44444444,\n",
       "         0.55555556, 0.66666667, 0.77777778, 0.88888889, 1.        ]),\n",
       "  'max_samples': array([0.        , 0.11111111, 0.22222222, 0.33333333, 0.44444444,\n",
       "         0.55555556, 0.66666667, 0.77777778, 0.88888889, 1.        ])},\n",
       " 'AdaBoostClassifier': {'learning_rate': array([ 0.01      ,  0.0143845 ,  0.02069138,  0.02976351,  0.04281332,\n",
       "          0.06158482,  0.08858668,  0.1274275 ,  0.18329807,  0.26366509,\n",
       "          0.37926902,  0.54555948,  0.78475997,  1.12883789,  1.62377674,\n",
       "          2.33572147,  3.35981829,  4.83293024,  6.95192796, 10.        ])},\n",
       " 'GradientBoostingClassifier': {'learning_rate': array([ 0.01      ,  0.0143845 ,  0.02069138,  0.02976351,  0.04281332,\n",
       "          0.06158482,  0.08858668,  0.1274275 ,  0.18329807,  0.26366509,\n",
       "          0.37926902,  0.54555948,  0.78475997,  1.12883789,  1.62377674,\n",
       "          2.33572147,  3.35981829,  4.83293024,  6.95192796, 10.        ])}}"
      ]
     },
     "execution_count": 19,
     "metadata": {},
     "output_type": "execute_result"
    }
   ],
   "source": [
    "\n",
    "import numpy as np\n",
    "max_depth_range = np.logspace(0,3,20).astype('int')\n",
    "max_features_range = np.linspace(0,1,10)\n",
    "max_samples_range = np.linspace(0,1,10)\n",
    "learning_rate_range = np.logspace(-2,1,20)\n",
    "learning_rate_range\n",
    "\n",
    "model_parameters = dict(\n",
    "DecisionTreeClassifier = \n",
    "    dict(\n",
    "    max_depth = max_depth_range\n",
    "    ),\n",
    "BaggingClassifier = \n",
    "    dict(\n",
    "    max_depth = max_depth_range,\n",
    "    max_features = max_features_range,\n",
    "    max_samples = max_samples_range,\n",
    "    ),\n",
    "RandomForestClassifier = \n",
    "    dict(\n",
    "    max_depth = max_depth_range,\n",
    "    max_features = max_features_range,\n",
    "    max_samples = max_samples_range,\n",
    "    ),\n",
    "AdaBoostClassifier=dict(\n",
    "    learning_rate = learning_rate_range,\n",
    "    ), \n",
    "GradientBoostingClassifier=dict(\n",
    "    learning_rate = learning_rate_range,\n",
    "    ), \n",
    "\n",
    ")\n",
    "\n",
    "model_parameters"
   ]
  },
  {
   "cell_type": "code",
   "execution_count": null,
   "metadata": {},
   "outputs": [],
   "source": []
  },
  {
   "cell_type": "code",
   "execution_count": null,
   "metadata": {},
   "outputs": [],
   "source": []
  },
  {
   "cell_type": "code",
   "execution_count": null,
   "metadata": {
    "scrolled": true
   },
   "outputs": [],
   "source": [
    "from tqdm.notebook import tqdm\n",
    "results_df_dict = []\n",
    "for n_est in tqdm(n_estimators):\n",
    "    \n",
    "    #train the models\n",
    "    clf_bag = sklm.BaggingClassifier(n_estimators = n_est,\n",
    "                                    **bag_parameters).fit(X_train,y_train)\n",
    "    clf_forest = sklm.RandomForestClassifier(n_estimators = n_est,\n",
    "                                    **forest_parameters).fit(X_test,y_test)\n",
    "    #get the out of bag error\n",
    "    oob_bag = clf_bag.oob_score_\n",
    "    oob_forest = clf_forest.oob_score_\n",
    "    \n",
    "    #calculate the validation score\n",
    "    val_bag = sklu.accuracy(clf_bag,X_test,y_test)\n",
    "    val_forest = sklu.accuracy(clf_forest,X_test,y_test)\n",
    "    \n",
    "    #store the results\n",
    "    results_df_dict+=[dict(\n",
    "        classifier=\"Bag\",\n",
    "        n_estimators=n_est,\n",
    "        score=oob_bag,\n",
    "        score_type = \"oob\"),\n",
    "         dict(\n",
    "        classifier=\"Bag\",\n",
    "        n_estimators=n_est,\n",
    "        score=val_bag,\n",
    "        score_type = \"val\"),\n",
    "    ]\n",
    "        \n",
    "    results_df_dict+=[dict(\n",
    "        classifier=\"RF\",\n",
    "        n_estimators=n_est,\n",
    "        score=oob_forest,\n",
    "        score_type = \"oob\"),\n",
    "         dict(\n",
    "        classifier=\"RF\",\n",
    "        n_estimators=n_est,\n",
    "        score=val_forest,\n",
    "        score_type = \"val\"),\n",
    "    ]\n",
    "    \n",
    "    "
   ]
  },
  {
   "cell_type": "code",
   "execution_count": null,
   "metadata": {},
   "outputs": [],
   "source": [
    "import pandas as pd\n",
    "results_df = pd.DataFrame.from_records(results_df_dict)\n",
    "results_df[\"clf_type_score_type\"] = results_df[\"classifier\"] + \"_\" + results_df[\"score_type\"]\n",
    "results_df"
   ]
  },
  {
   "cell_type": "markdown",
   "metadata": {},
   "source": [
    "# Plotting the Results"
   ]
  },
  {
   "cell_type": "code",
   "execution_count": null,
   "metadata": {},
   "outputs": [],
   "source": [
    "import seaborn as sns\n",
    "sns.lineplot(data=results_df, x=\"n_estimators\", y=\"score\", hue=\"clf_type_score_type\")"
   ]
  },
  {
   "cell_type": "code",
   "execution_count": null,
   "metadata": {},
   "outputs": [],
   "source": []
  }
 ],
 "metadata": {
  "kernelspec": {
   "display_name": "Python 3",
   "language": "python",
   "name": "python3"
  },
  "language_info": {
   "codemirror_mode": {
    "name": "ipython",
    "version": 3
   },
   "file_extension": ".py",
   "mimetype": "text/x-python",
   "name": "python",
   "nbconvert_exporter": "python",
   "pygments_lexer": "ipython3",
   "version": "3.6.9"
  }
 },
 "nbformat": 4,
 "nbformat_minor": 4
}
