{
 "cells": [
  {
   "cell_type": "code",
   "execution_count": null,
   "metadata": {},
   "outputs": [],
   "source": [
    "\"\"\"\n",
    "11/23\n",
    "Purpose: To analyze the fashion dataset using tree based methods\n",
    "\n",
    "\"\"\""
   ]
  },
  {
   "cell_type": "code",
   "execution_count": 1,
   "metadata": {},
   "outputs": [],
   "source": [
    "%load_ext autoreload\n",
    "%autoreload 2"
   ]
  },
  {
   "cell_type": "code",
   "execution_count": 2,
   "metadata": {},
   "outputs": [],
   "source": [
    "#!git clone https://github.com/celiibrendan/fashion-mnist.git"
   ]
  },
  {
   "cell_type": "code",
   "execution_count": 3,
   "metadata": {},
   "outputs": [],
   "source": [
    "from os import sys\n",
    "sys.path.append(\"/fashion-mnist/utils/\")\n",
    "sys.path.append(\"../../../machine_learning_tools/\")"
   ]
  },
  {
   "cell_type": "code",
   "execution_count": 4,
   "metadata": {},
   "outputs": [],
   "source": [
    "import sklearn_models as sklm\n",
    "import sklearn_utils as sklu\n",
    "import numpy_ml as nu\n",
    "import general_utils as gu"
   ]
  },
  {
   "cell_type": "markdown",
   "metadata": {},
   "source": [
    "# loads the fashion dataset"
   ]
  },
  {
   "cell_type": "code",
   "execution_count": 5,
   "metadata": {},
   "outputs": [],
   "source": [
    "import mnist_reader\n",
    "X_train, y_train = mnist_reader.load_mnist('/fashion-mnist/data/fashion', kind='train')\n",
    "X_test, y_test = mnist_reader.load_mnist('/fashion-mnist/data/fashion', kind='t10k')"
   ]
  },
  {
   "cell_type": "code",
   "execution_count": 6,
   "metadata": {},
   "outputs": [
    {
     "data": {
      "text/plain": [
       "(60000, 784)"
      ]
     },
     "execution_count": 6,
     "metadata": {},
     "output_type": "execute_result"
    }
   ],
   "source": [
    "X_train.shape"
   ]
  },
  {
   "cell_type": "code",
   "execution_count": 7,
   "metadata": {},
   "outputs": [
    {
     "data": {
      "text/plain": [
       "<matplotlib.image.AxesImage at 0x7f7728714d30>"
      ]
     },
     "execution_count": 7,
     "metadata": {},
     "output_type": "execute_result"
    },
    {
     "data": {
      "image/png": "[encoded data removed]",
      "text/plain": [
       "<Figure size 432x288 with 1 Axes>"
      ]
     },
     "metadata": {
      "needs_background": "light"
     },
     "output_type": "display_data"
    }
   ],
   "source": [
    "import matplotlib.pyplot as plt\n",
    "plt.imshow(X_train[0].reshape(28,28))"
   ]
  },
  {
   "cell_type": "markdown",
   "metadata": {},
   "source": [
    "# Part D: Trying to Tune Models for Accuracy (Decision Tree)"
   ]
  },
  {
   "cell_type": "code",
   "execution_count": 8,
   "metadata": {},
   "outputs": [
    {
     "data": {
      "text/plain": [
       "'\\nPurpose:  \\nAccuracy. Now properly tune each approach and compare and contrast the test accuracy of each\\nmethod. Which performs best? Why? What hyperparameters led to the best test error? How\\nlong did each approach take to train? (Note: If you did the Deep Learning problem, also compare\\nyour accuracy and timing to that of the Deep Learning methods above.)\\n\\nPseudocode: \\n0) Determine all parameters we want to set or inspect over and define\\n1) Define the RandomizedSearchCV for the models\\n2) Run the RandomizedSearchCV: \\n- record the testing error\\n- record the time it took\\n3) Compare the \\n\\n'"
      ]
     },
     "execution_count": 8,
     "metadata": {},
     "output_type": "execute_result"
    }
   ],
   "source": [
    " \"\"\"\n",
    "Purpose:  \n",
    "Accuracy. Now properly tune each approach and compare and contrast the test accuracy of each\n",
    "method. Which performs best? Why? What hyperparameters led to the best test error? How\n",
    "long did each approach take to train? (Note: If you did the Deep Learning problem, also compare\n",
    "your accuracy and timing to that of the Deep Learning methods above.)\n",
    "\n",
    "Pseudocode: \n",
    "0) Determine all parameters we want to set or inspect over and define\n",
    "1) Define the RandomizedSearchCV for the models\n",
    "2) Run the RandomizedSearchCV: \n",
    "- record the testing error\n",
    "- record the time it took\n",
    "3) Compare the \n",
    "\n",
    "\"\"\"\n"
   ]
  },
  {
   "cell_type": "code",
   "execution_count": 12,
   "metadata": {},
   "outputs": [],
   "source": [
    "import numpy as np\n",
    "param_dict = {\n",
    "    \"learning_rate\": np.linspace(0.8,1,2),\n",
    "    \"n_estimators\":[100,200]\n",
    "}\n",
    "\n",
    "model_name = \"AdaBoostClassifier\"\n",
    "\n",
    "clf = getattr(sklm,model_name)()"
   ]
  },
  {
   "cell_type": "code",
   "execution_count": 13,
   "metadata": {},
   "outputs": [
    {
     "name": "stdout",
     "output_type": "stream",
     "text": [
      "Fitting 5 folds for each of 10 candidates, totalling 50 fits\n"
     ]
    },
    {
     "name": "stderr",
     "output_type": "stream",
     "text": [
      "[Parallel(n_jobs=5)]: Using backend LokyBackend with 5 concurrent workers.\n",
      "[Parallel(n_jobs=5)]: Done  40 tasks      | elapsed: 21.8min\n",
      "[Parallel(n_jobs=5)]: Done  50 out of  50 | elapsed: 29.9min finished\n"
     ]
    },
    {
     "name": "stdout",
     "output_type": "stream",
     "text": [
      "RandomizedSearchCV took 1994.53 seconds for 10 candidates parameter settings.\n",
      "Model with rank: 1\n",
      "Mean validation score: 0.585 (std: 0.038)\n",
      "Parameters: {'n_estimators': 100, 'learning_rate': 0.5}\n",
      "\n",
      "Model with rank: 2\n",
      "Mean validation score: 0.577 (std: 0.023)\n",
      "Parameters: {'n_estimators': 50, 'learning_rate': 0.4}\n",
      "\n",
      "Model with rank: 3\n",
      "Mean validation score: 0.573 (std: 0.017)\n",
      "Parameters: {'n_estimators': 50, 'learning_rate': 0.1}\n",
      "\n"
     ]
    }
   ],
   "source": [
    "import hyperparameters_ml as hml\n",
    "best_param, cv_results = hml.best_hyperparams_RandomizedSearchCV(\n",
    "    clf,\n",
    "    parameter_dict=param_dict,\n",
    "    X = X_train,\n",
    "    y = y_train,\n",
    "    n_iter_search=10,\n",
    "    verbose = True,\n",
    "    n_jobs = 5,\n",
    ")"
   ]
  },
  {
   "cell_type": "markdown",
   "metadata": {},
   "source": [
    "# Getting the Testing Accuracy"
   ]
  },
  {
   "cell_type": "code",
   "execution_count": 36,
   "metadata": {},
   "outputs": [
    {
     "data": {
      "text/plain": [
       "{'n_estimators': 100, 'learning_rate': 0.5}"
      ]
     },
     "execution_count": 36,
     "metadata": {},
     "output_type": "execute_result"
    }
   ],
   "source": [
    "best_param"
   ]
  },
  {
   "cell_type": "code",
   "execution_count": 37,
   "metadata": {},
   "outputs": [],
   "source": [
    "clf_best = cv_results.best_estimator_"
   ]
  },
  {
   "cell_type": "code",
   "execution_count": 47,
   "metadata": {},
   "outputs": [],
   "source": [
    "clf_best.classes_ = np.array(clf_best.classes_).astype('int')"
   ]
  },
  {
   "cell_type": "code",
   "execution_count": 48,
   "metadata": {},
   "outputs": [
    {
     "name": "stdout",
     "output_type": "stream",
     "text": [
      "Accuracy of Best Model on Test Data = 0.6302\n"
     ]
    }
   ],
   "source": [
    "#clf_best = cv_results.best_estimator_\n",
    "print(f\"Accuracy of Best Model on Test Data = {sklu.accuracy(clf_best,X_test,y_test)}\")"
   ]
  },
  {
   "cell_type": "code",
   "execution_count": null,
   "metadata": {},
   "outputs": [],
   "source": [
    "clf_best."
   ]
  },
  {
   "cell_type": "markdown",
   "metadata": {},
   "source": [
    "# Visualizing the Results"
   ]
  },
  {
   "cell_type": "code",
   "execution_count": 18,
   "metadata": {},
   "outputs": [],
   "source": [
    "feature_names =  np.array([f\"p{i}\" for i in range(clf_best.n_features_in_)])"
   ]
  },
  {
   "cell_type": "code",
   "execution_count": 19,
   "metadata": {},
   "outputs": [],
   "source": [
    "clf_best.classes_ = [f\"{k}\" for k in clf_best.classes_]"
   ]
  },
  {
   "cell_type": "code",
   "execution_count": 21,
   "metadata": {
    "scrolled": false
   },
   "outputs": [],
   "source": [
    "# import visualizations_ml as vml\n",
    "# vml.plot_decision_tree(clf_best,\n",
    "#                        feature_names=feature_names,\n",
    "#                        max_depth = 2\n",
    "#                       )"
   ]
  },
  {
   "cell_type": "code",
   "execution_count": 22,
   "metadata": {},
   "outputs": [
    {
     "name": "stdout",
     "output_type": "stream",
     "text": [
      "Using method: impurity_decrease\n",
      "Time for importances = 0.0072002410888671875\n"
     ]
    },
    {
     "data": {
      "image/png": "[encoded data removed]",
      "text/plain": [
       "<Figure size 432x288 with 1 Axes>"
      ]
     },
     "metadata": {
      "needs_background": "light"
     },
     "output_type": "display_data"
    }
   ],
   "source": [
    "vml.plot_feature_importance(\n",
    "    clf_best,\n",
    "    feature_names=feature_names,\n",
    "    title=f\"Feature Importance \\n {model_name}\",\n",
    "    n_features_to_plot=40\n",
    ")"
   ]
  },
  {
   "cell_type": "markdown",
   "metadata": {},
   "source": [
    "# Plotting Map of the Feature Importance"
   ]
  },
  {
   "cell_type": "code",
   "execution_count": 24,
   "metadata": {},
   "outputs": [
    {
     "name": "stdout",
     "output_type": "stream",
     "text": [
      "Using method: impurity_decrease\n",
      "Time for importances = 0.007058858871459961\n"
     ]
    }
   ],
   "source": [
    "f_import = sklm.feature_importances(clf_best,return_std=False)"
   ]
  },
  {
   "cell_type": "code",
   "execution_count": 25,
   "metadata": {},
   "outputs": [
    {
     "data": {
      "text/plain": [
       "<AxesSubplot:title={'center':'AdaBoostClassifier Pixel Feature Importance'}>"
      ]
     },
     "execution_count": 25,
     "metadata": {},
     "output_type": "execute_result"
    },
    {
     "data": {
      "image/png": "[encoded data removed]",
      "text/plain": [
       "<Figure size 432x288 with 2 Axes>"
      ]
     },
     "metadata": {
      "needs_background": "light"
     },
     "output_type": "display_data"
    }
   ],
   "source": [
    "import seaborn_ml as sml\n",
    "sml.heatmap(f_import.reshape(28,28),logscale=True,title=f\"{model_name} Pixel Feature Importance\")"
   ]
  },
  {
   "cell_type": "code",
   "execution_count": null,
   "metadata": {},
   "outputs": [],
   "source": []
  }
 ],
 "metadata": {
  "kernelspec": {
   "display_name": "Python 3",
   "language": "python",
   "name": "python3"
  },
  "language_info": {
   "codemirror_mode": {
    "name": "ipython",
    "version": 3
   },
   "file_extension": ".py",
   "mimetype": "text/x-python",
   "name": "python",
   "nbconvert_exporter": "python",
   "pygments_lexer": "ipython3",
   "version": "3.6.9"
  }
 },
 "nbformat": 4,
 "nbformat_minor": 4
}
