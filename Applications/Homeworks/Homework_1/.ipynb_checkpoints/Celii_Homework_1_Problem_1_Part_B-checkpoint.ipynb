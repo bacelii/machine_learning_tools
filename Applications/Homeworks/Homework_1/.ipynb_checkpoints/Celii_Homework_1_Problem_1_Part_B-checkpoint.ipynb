{
 "cells": [
  {
   "cell_type": "code",
   "execution_count": 1,
   "metadata": {},
   "outputs": [
    {
     "data": {
      "text/plain": [
       "'\\nPurpose: To implement hoemwork 1 problems for ELEC 479/578\\n\\nHelpful links: \\nhttp://www.neural.cz/dataset-exploration-boston-house-pricing.html\\n\\nInstallations required \\n'"
      ]
     },
     "execution_count": 1,
     "metadata": {},
     "output_type": "execute_result"
    }
   ],
   "source": [
    "\"\"\"\n",
    "Purpose: To implement hoemwork 1 problems for ELEC 479/578\n",
    "\n",
    "Helpful links: \n",
    "http://www.neural.cz/dataset-exploration-boston-house-pricing.html\n",
    "\n",
    "Installations required \n",
    "\"\"\""
   ]
  },
  {
   "cell_type": "code",
   "execution_count": 2,
   "metadata": {},
   "outputs": [],
   "source": [
    "%load_ext autoreload\n",
    "%autoreload 2"
   ]
  },
  {
   "cell_type": "code",
   "execution_count": 3,
   "metadata": {},
   "outputs": [],
   "source": [
    "from os import sys\n",
    "sys.path.append(\"../../../machine_learning_tools/\")"
   ]
  },
  {
   "cell_type": "code",
   "execution_count": 22,
   "metadata": {},
   "outputs": [],
   "source": [
    "import sklearn_utils as sklu\n",
    "import pandas_ml as pdml\n",
    "import seaborn_ml as sml\n",
    "import sklearn_models as sklm\n",
    "import feature_selection_utils as fsu\n",
    "from tqdm.notebook import tqdm\n",
    "import numpy as np"
   ]
  },
  {
   "cell_type": "code",
   "execution_count": 5,
   "metadata": {},
   "outputs": [],
   "source": [
    "import pandas as pd\n",
    "pd.set_option(\"display.max_colwidth\",1000)"
   ]
  },
  {
   "cell_type": "markdown",
   "metadata": {},
   "source": [
    "# Problem 1"
   ]
  },
  {
   "cell_type": "code",
   "execution_count": 6,
   "metadata": {},
   "outputs": [
    {
     "data": {
      "text/html": [
       "<div>\n",
       "<style scoped>\n",
       "    .dataframe tbody tr th:only-of-type {\n",
       "        vertical-align: middle;\n",
       "    }\n",
       "\n",
       "    .dataframe tbody tr th {\n",
       "        vertical-align: top;\n",
       "    }\n",
       "\n",
       "    .dataframe thead th {\n",
       "        text-align: right;\n",
       "    }\n",
       "</style>\n",
       "<table border=\"1\" class=\"dataframe\">\n",
       "  <thead>\n",
       "    <tr style=\"text-align: right;\">\n",
       "      <th></th>\n",
       "      <th>CRIM</th>\n",
       "      <th>ZN</th>\n",
       "      <th>INDUS</th>\n",
       "      <th>CHAS</th>\n",
       "      <th>NOX</th>\n",
       "      <th>RM</th>\n",
       "      <th>AGE</th>\n",
       "      <th>DIS</th>\n",
       "      <th>RAD</th>\n",
       "      <th>TAX</th>\n",
       "      <th>PTRATIO</th>\n",
       "      <th>B</th>\n",
       "      <th>LSTAT</th>\n",
       "      <th>MEDV</th>\n",
       "    </tr>\n",
       "  </thead>\n",
       "  <tbody>\n",
       "    <tr>\n",
       "      <th>0</th>\n",
       "      <td>0.00632</td>\n",
       "      <td>18.0</td>\n",
       "      <td>2.31</td>\n",
       "      <td>0.0</td>\n",
       "      <td>0.538</td>\n",
       "      <td>6.575</td>\n",
       "      <td>65.2</td>\n",
       "      <td>4.0900</td>\n",
       "      <td>1.0</td>\n",
       "      <td>296.0</td>\n",
       "      <td>15.3</td>\n",
       "      <td>396.90</td>\n",
       "      <td>4.98</td>\n",
       "      <td>24.0</td>\n",
       "    </tr>\n",
       "    <tr>\n",
       "      <th>1</th>\n",
       "      <td>0.02731</td>\n",
       "      <td>0.0</td>\n",
       "      <td>7.07</td>\n",
       "      <td>0.0</td>\n",
       "      <td>0.469</td>\n",
       "      <td>6.421</td>\n",
       "      <td>78.9</td>\n",
       "      <td>4.9671</td>\n",
       "      <td>2.0</td>\n",
       "      <td>242.0</td>\n",
       "      <td>17.8</td>\n",
       "      <td>396.90</td>\n",
       "      <td>9.14</td>\n",
       "      <td>21.6</td>\n",
       "    </tr>\n",
       "    <tr>\n",
       "      <th>2</th>\n",
       "      <td>0.02729</td>\n",
       "      <td>0.0</td>\n",
       "      <td>7.07</td>\n",
       "      <td>0.0</td>\n",
       "      <td>0.469</td>\n",
       "      <td>7.185</td>\n",
       "      <td>61.1</td>\n",
       "      <td>4.9671</td>\n",
       "      <td>2.0</td>\n",
       "      <td>242.0</td>\n",
       "      <td>17.8</td>\n",
       "      <td>392.83</td>\n",
       "      <td>4.03</td>\n",
       "      <td>34.7</td>\n",
       "    </tr>\n",
       "    <tr>\n",
       "      <th>3</th>\n",
       "      <td>0.03237</td>\n",
       "      <td>0.0</td>\n",
       "      <td>2.18</td>\n",
       "      <td>0.0</td>\n",
       "      <td>0.458</td>\n",
       "      <td>6.998</td>\n",
       "      <td>45.8</td>\n",
       "      <td>6.0622</td>\n",
       "      <td>3.0</td>\n",
       "      <td>222.0</td>\n",
       "      <td>18.7</td>\n",
       "      <td>394.63</td>\n",
       "      <td>2.94</td>\n",
       "      <td>33.4</td>\n",
       "    </tr>\n",
       "    <tr>\n",
       "      <th>4</th>\n",
       "      <td>0.06905</td>\n",
       "      <td>0.0</td>\n",
       "      <td>2.18</td>\n",
       "      <td>0.0</td>\n",
       "      <td>0.458</td>\n",
       "      <td>7.147</td>\n",
       "      <td>54.2</td>\n",
       "      <td>6.0622</td>\n",
       "      <td>3.0</td>\n",
       "      <td>222.0</td>\n",
       "      <td>18.7</td>\n",
       "      <td>396.90</td>\n",
       "      <td>5.33</td>\n",
       "      <td>36.2</td>\n",
       "    </tr>\n",
       "    <tr>\n",
       "      <th>...</th>\n",
       "      <td>...</td>\n",
       "      <td>...</td>\n",
       "      <td>...</td>\n",
       "      <td>...</td>\n",
       "      <td>...</td>\n",
       "      <td>...</td>\n",
       "      <td>...</td>\n",
       "      <td>...</td>\n",
       "      <td>...</td>\n",
       "      <td>...</td>\n",
       "      <td>...</td>\n",
       "      <td>...</td>\n",
       "      <td>...</td>\n",
       "      <td>...</td>\n",
       "    </tr>\n",
       "    <tr>\n",
       "      <th>501</th>\n",
       "      <td>0.06263</td>\n",
       "      <td>0.0</td>\n",
       "      <td>11.93</td>\n",
       "      <td>0.0</td>\n",
       "      <td>0.573</td>\n",
       "      <td>6.593</td>\n",
       "      <td>69.1</td>\n",
       "      <td>2.4786</td>\n",
       "      <td>1.0</td>\n",
       "      <td>273.0</td>\n",
       "      <td>21.0</td>\n",
       "      <td>391.99</td>\n",
       "      <td>9.67</td>\n",
       "      <td>22.4</td>\n",
       "    </tr>\n",
       "    <tr>\n",
       "      <th>502</th>\n",
       "      <td>0.04527</td>\n",
       "      <td>0.0</td>\n",
       "      <td>11.93</td>\n",
       "      <td>0.0</td>\n",
       "      <td>0.573</td>\n",
       "      <td>6.120</td>\n",
       "      <td>76.7</td>\n",
       "      <td>2.2875</td>\n",
       "      <td>1.0</td>\n",
       "      <td>273.0</td>\n",
       "      <td>21.0</td>\n",
       "      <td>396.90</td>\n",
       "      <td>9.08</td>\n",
       "      <td>20.6</td>\n",
       "    </tr>\n",
       "    <tr>\n",
       "      <th>503</th>\n",
       "      <td>0.06076</td>\n",
       "      <td>0.0</td>\n",
       "      <td>11.93</td>\n",
       "      <td>0.0</td>\n",
       "      <td>0.573</td>\n",
       "      <td>6.976</td>\n",
       "      <td>91.0</td>\n",
       "      <td>2.1675</td>\n",
       "      <td>1.0</td>\n",
       "      <td>273.0</td>\n",
       "      <td>21.0</td>\n",
       "      <td>396.90</td>\n",
       "      <td>5.64</td>\n",
       "      <td>23.9</td>\n",
       "    </tr>\n",
       "    <tr>\n",
       "      <th>504</th>\n",
       "      <td>0.10959</td>\n",
       "      <td>0.0</td>\n",
       "      <td>11.93</td>\n",
       "      <td>0.0</td>\n",
       "      <td>0.573</td>\n",
       "      <td>6.794</td>\n",
       "      <td>89.3</td>\n",
       "      <td>2.3889</td>\n",
       "      <td>1.0</td>\n",
       "      <td>273.0</td>\n",
       "      <td>21.0</td>\n",
       "      <td>393.45</td>\n",
       "      <td>6.48</td>\n",
       "      <td>22.0</td>\n",
       "    </tr>\n",
       "    <tr>\n",
       "      <th>505</th>\n",
       "      <td>0.04741</td>\n",
       "      <td>0.0</td>\n",
       "      <td>11.93</td>\n",
       "      <td>0.0</td>\n",
       "      <td>0.573</td>\n",
       "      <td>6.030</td>\n",
       "      <td>80.8</td>\n",
       "      <td>2.5050</td>\n",
       "      <td>1.0</td>\n",
       "      <td>273.0</td>\n",
       "      <td>21.0</td>\n",
       "      <td>396.90</td>\n",
       "      <td>7.88</td>\n",
       "      <td>11.9</td>\n",
       "    </tr>\n",
       "  </tbody>\n",
       "</table>\n",
       "<p>506 rows × 14 columns</p>\n",
       "</div>"
      ],
      "text/plain": [
       "        CRIM    ZN  INDUS  CHAS    NOX     RM   AGE     DIS  RAD    TAX  \\\n",
       "0    0.00632  18.0   2.31   0.0  0.538  6.575  65.2  4.0900  1.0  296.0   \n",
       "1    0.02731   0.0   7.07   0.0  0.469  6.421  78.9  4.9671  2.0  242.0   \n",
       "2    0.02729   0.0   7.07   0.0  0.469  7.185  61.1  4.9671  2.0  242.0   \n",
       "3    0.03237   0.0   2.18   0.0  0.458  6.998  45.8  6.0622  3.0  222.0   \n",
       "4    0.06905   0.0   2.18   0.0  0.458  7.147  54.2  6.0622  3.0  222.0   \n",
       "..       ...   ...    ...   ...    ...    ...   ...     ...  ...    ...   \n",
       "501  0.06263   0.0  11.93   0.0  0.573  6.593  69.1  2.4786  1.0  273.0   \n",
       "502  0.04527   0.0  11.93   0.0  0.573  6.120  76.7  2.2875  1.0  273.0   \n",
       "503  0.06076   0.0  11.93   0.0  0.573  6.976  91.0  2.1675  1.0  273.0   \n",
       "504  0.10959   0.0  11.93   0.0  0.573  6.794  89.3  2.3889  1.0  273.0   \n",
       "505  0.04741   0.0  11.93   0.0  0.573  6.030  80.8  2.5050  1.0  273.0   \n",
       "\n",
       "     PTRATIO       B  LSTAT  MEDV  \n",
       "0       15.3  396.90   4.98  24.0  \n",
       "1       17.8  396.90   9.14  21.6  \n",
       "2       17.8  392.83   4.03  34.7  \n",
       "3       18.7  394.63   2.94  33.4  \n",
       "4       18.7  396.90   5.33  36.2  \n",
       "..       ...     ...    ...   ...  \n",
       "501     21.0  391.99   9.67  22.4  \n",
       "502     21.0  396.90   9.08  20.6  \n",
       "503     21.0  396.90   5.64  23.9  \n",
       "504     21.0  393.45   6.48  22.0  \n",
       "505     21.0  396.90   7.88  11.9  \n",
       "\n",
       "[506 rows x 14 columns]"
      ]
     },
     "execution_count": 6,
     "metadata": {},
     "output_type": "execute_result"
    }
   ],
   "source": [
    "#loading the dataset (alreaady drops nan falues)\n",
    "target_name = \"MEDV\"\n",
    "df_raw = sklu.load_boston()\n",
    "df_raw"
   ]
  },
  {
   "cell_type": "markdown",
   "metadata": {},
   "source": [
    "# Preliminary analysis of Data"
   ]
  },
  {
   "cell_type": "code",
   "execution_count": 7,
   "metadata": {},
   "outputs": [
    {
     "data": {
      "text/html": [
       "<div>\n",
       "<style scoped>\n",
       "    .dataframe tbody tr th:only-of-type {\n",
       "        vertical-align: middle;\n",
       "    }\n",
       "\n",
       "    .dataframe tbody tr th {\n",
       "        vertical-align: top;\n",
       "    }\n",
       "\n",
       "    .dataframe thead th {\n",
       "        text-align: right;\n",
       "    }\n",
       "</style>\n",
       "<table border=\"1\" class=\"dataframe\">\n",
       "  <thead>\n",
       "    <tr style=\"text-align: right;\">\n",
       "      <th></th>\n",
       "      <th>CRIM</th>\n",
       "      <th>ZN</th>\n",
       "      <th>INDUS</th>\n",
       "      <th>CHAS</th>\n",
       "      <th>NOX</th>\n",
       "      <th>RM</th>\n",
       "      <th>AGE</th>\n",
       "      <th>DIS</th>\n",
       "      <th>RAD</th>\n",
       "      <th>TAX</th>\n",
       "      <th>PTRATIO</th>\n",
       "      <th>B</th>\n",
       "      <th>LSTAT</th>\n",
       "      <th>MEDV</th>\n",
       "    </tr>\n",
       "  </thead>\n",
       "  <tbody>\n",
       "    <tr>\n",
       "      <th>count</th>\n",
       "      <td>506.000000</td>\n",
       "      <td>506.000000</td>\n",
       "      <td>506.000000</td>\n",
       "      <td>506.000000</td>\n",
       "      <td>506.000000</td>\n",
       "      <td>506.000000</td>\n",
       "      <td>506.000000</td>\n",
       "      <td>506.000000</td>\n",
       "      <td>506.000000</td>\n",
       "      <td>506.000000</td>\n",
       "      <td>506.000000</td>\n",
       "      <td>506.000000</td>\n",
       "      <td>506.000000</td>\n",
       "      <td>506.000000</td>\n",
       "    </tr>\n",
       "    <tr>\n",
       "      <th>mean</th>\n",
       "      <td>3.613524</td>\n",
       "      <td>11.363636</td>\n",
       "      <td>11.136779</td>\n",
       "      <td>0.069170</td>\n",
       "      <td>0.554695</td>\n",
       "      <td>6.284634</td>\n",
       "      <td>68.574901</td>\n",
       "      <td>3.795043</td>\n",
       "      <td>9.549407</td>\n",
       "      <td>408.237154</td>\n",
       "      <td>18.455534</td>\n",
       "      <td>356.674032</td>\n",
       "      <td>12.653063</td>\n",
       "      <td>22.532806</td>\n",
       "    </tr>\n",
       "    <tr>\n",
       "      <th>std</th>\n",
       "      <td>8.601545</td>\n",
       "      <td>23.322453</td>\n",
       "      <td>6.860353</td>\n",
       "      <td>0.253994</td>\n",
       "      <td>0.115878</td>\n",
       "      <td>0.702617</td>\n",
       "      <td>28.148861</td>\n",
       "      <td>2.105710</td>\n",
       "      <td>8.707259</td>\n",
       "      <td>168.537116</td>\n",
       "      <td>2.164946</td>\n",
       "      <td>91.294864</td>\n",
       "      <td>7.141062</td>\n",
       "      <td>9.197104</td>\n",
       "    </tr>\n",
       "    <tr>\n",
       "      <th>min</th>\n",
       "      <td>0.006320</td>\n",
       "      <td>0.000000</td>\n",
       "      <td>0.460000</td>\n",
       "      <td>0.000000</td>\n",
       "      <td>0.385000</td>\n",
       "      <td>3.561000</td>\n",
       "      <td>2.900000</td>\n",
       "      <td>1.129600</td>\n",
       "      <td>1.000000</td>\n",
       "      <td>187.000000</td>\n",
       "      <td>12.600000</td>\n",
       "      <td>0.320000</td>\n",
       "      <td>1.730000</td>\n",
       "      <td>5.000000</td>\n",
       "    </tr>\n",
       "    <tr>\n",
       "      <th>25%</th>\n",
       "      <td>0.082045</td>\n",
       "      <td>0.000000</td>\n",
       "      <td>5.190000</td>\n",
       "      <td>0.000000</td>\n",
       "      <td>0.449000</td>\n",
       "      <td>5.885500</td>\n",
       "      <td>45.025000</td>\n",
       "      <td>2.100175</td>\n",
       "      <td>4.000000</td>\n",
       "      <td>279.000000</td>\n",
       "      <td>17.400000</td>\n",
       "      <td>375.377500</td>\n",
       "      <td>6.950000</td>\n",
       "      <td>17.025000</td>\n",
       "    </tr>\n",
       "    <tr>\n",
       "      <th>50%</th>\n",
       "      <td>0.256510</td>\n",
       "      <td>0.000000</td>\n",
       "      <td>9.690000</td>\n",
       "      <td>0.000000</td>\n",
       "      <td>0.538000</td>\n",
       "      <td>6.208500</td>\n",
       "      <td>77.500000</td>\n",
       "      <td>3.207450</td>\n",
       "      <td>5.000000</td>\n",
       "      <td>330.000000</td>\n",
       "      <td>19.050000</td>\n",
       "      <td>391.440000</td>\n",
       "      <td>11.360000</td>\n",
       "      <td>21.200000</td>\n",
       "    </tr>\n",
       "    <tr>\n",
       "      <th>75%</th>\n",
       "      <td>3.677083</td>\n",
       "      <td>12.500000</td>\n",
       "      <td>18.100000</td>\n",
       "      <td>0.000000</td>\n",
       "      <td>0.624000</td>\n",
       "      <td>6.623500</td>\n",
       "      <td>94.075000</td>\n",
       "      <td>5.188425</td>\n",
       "      <td>24.000000</td>\n",
       "      <td>666.000000</td>\n",
       "      <td>20.200000</td>\n",
       "      <td>396.225000</td>\n",
       "      <td>16.955000</td>\n",
       "      <td>25.000000</td>\n",
       "    </tr>\n",
       "    <tr>\n",
       "      <th>max</th>\n",
       "      <td>88.976200</td>\n",
       "      <td>100.000000</td>\n",
       "      <td>27.740000</td>\n",
       "      <td>1.000000</td>\n",
       "      <td>0.871000</td>\n",
       "      <td>8.780000</td>\n",
       "      <td>100.000000</td>\n",
       "      <td>12.126500</td>\n",
       "      <td>24.000000</td>\n",
       "      <td>711.000000</td>\n",
       "      <td>22.000000</td>\n",
       "      <td>396.900000</td>\n",
       "      <td>37.970000</td>\n",
       "      <td>50.000000</td>\n",
       "    </tr>\n",
       "  </tbody>\n",
       "</table>\n",
       "</div>"
      ],
      "text/plain": [
       "             CRIM          ZN       INDUS        CHAS         NOX          RM  \\\n",
       "count  506.000000  506.000000  506.000000  506.000000  506.000000  506.000000   \n",
       "mean     3.613524   11.363636   11.136779    0.069170    0.554695    6.284634   \n",
       "std      8.601545   23.322453    6.860353    0.253994    0.115878    0.702617   \n",
       "min      0.006320    0.000000    0.460000    0.000000    0.385000    3.561000   \n",
       "25%      0.082045    0.000000    5.190000    0.000000    0.449000    5.885500   \n",
       "50%      0.256510    0.000000    9.690000    0.000000    0.538000    6.208500   \n",
       "75%      3.677083   12.500000   18.100000    0.000000    0.624000    6.623500   \n",
       "max     88.976200  100.000000   27.740000    1.000000    0.871000    8.780000   \n",
       "\n",
       "              AGE         DIS         RAD         TAX     PTRATIO           B  \\\n",
       "count  506.000000  506.000000  506.000000  506.000000  506.000000  506.000000   \n",
       "mean    68.574901    3.795043    9.549407  408.237154   18.455534  356.674032   \n",
       "std     28.148861    2.105710    8.707259  168.537116    2.164946   91.294864   \n",
       "min      2.900000    1.129600    1.000000  187.000000   12.600000    0.320000   \n",
       "25%     45.025000    2.100175    4.000000  279.000000   17.400000  375.377500   \n",
       "50%     77.500000    3.207450    5.000000  330.000000   19.050000  391.440000   \n",
       "75%     94.075000    5.188425   24.000000  666.000000   20.200000  396.225000   \n",
       "max    100.000000   12.126500   24.000000  711.000000   22.000000  396.900000   \n",
       "\n",
       "            LSTAT        MEDV  \n",
       "count  506.000000  506.000000  \n",
       "mean    12.653063   22.532806  \n",
       "std      7.141062    9.197104  \n",
       "min      1.730000    5.000000  \n",
       "25%      6.950000   17.025000  \n",
       "50%     11.360000   21.200000  \n",
       "75%     16.955000   25.000000  \n",
       "max     37.970000   50.000000  "
      ]
     },
     "execution_count": 7,
     "metadata": {},
     "output_type": "execute_result"
    }
   ],
   "source": [
    "pdml.df_column_summaries(df_raw)"
   ]
  },
  {
   "cell_type": "code",
   "execution_count": 8,
   "metadata": {},
   "outputs": [
    {
     "data": {
      "text/plain": [
       "RM         0.695360\n",
       "ZN         0.360445\n",
       "B          0.333461\n",
       "DIS        0.249929\n",
       "CHAS       0.175260\n",
       "AGE       -0.376955\n",
       "RAD       -0.381626\n",
       "CRIM      -0.388305\n",
       "NOX       -0.427321\n",
       "TAX       -0.468536\n",
       "INDUS     -0.483725\n",
       "PTRATIO   -0.507787\n",
       "LSTAT     -0.737663\n",
       "Name: MEDV, dtype: float64"
      ]
     },
     "execution_count": 8,
     "metadata": {},
     "output_type": "execute_result"
    }
   ],
   "source": [
    "pdml.correlations_to_target(df_raw,target_name = \"MEDV\")"
   ]
  },
  {
   "cell_type": "markdown",
   "metadata": {},
   "source": [
    "# Scaling Features"
   ]
  },
  {
   "cell_type": "code",
   "execution_count": 10,
   "metadata": {},
   "outputs": [],
   "source": [
    "df = pdml.center_df(df_raw)"
   ]
  },
  {
   "cell_type": "code",
   "execution_count": 11,
   "metadata": {},
   "outputs": [
    {
     "data": {
      "text/plain": [
       "'\\nObservation: The distribution of the data is not necessarily normal for all of the features\\n- StandarScalar that makes the data normalized may not be suitable\\n\\nWas going to use the RobustScaler for scaling all fo the features\\nbut the documentation for elastic net then recommended the StandardScalar\\n'"
      ]
     },
     "execution_count": 11,
     "metadata": {},
     "output_type": "execute_result"
    }
   ],
   "source": [
    "\"\"\"\n",
    "Observation: The distribution of the data is not necessarily normal for all of the features\n",
    "- StandarScalar that makes the data normalized may not be suitable\n",
    "\n",
    "Was going to use the RobustScaler for scaling all fo the features\n",
    "but the documentation for elastic net then recommended the StandardScalar\n",
    "\"\"\""
   ]
  },
  {
   "cell_type": "code",
   "execution_count": 12,
   "metadata": {},
   "outputs": [
    {
     "data": {
      "text/html": [
       "<div>\n",
       "<style scoped>\n",
       "    .dataframe tbody tr th:only-of-type {\n",
       "        vertical-align: middle;\n",
       "    }\n",
       "\n",
       "    .dataframe tbody tr th {\n",
       "        vertical-align: top;\n",
       "    }\n",
       "\n",
       "    .dataframe thead th {\n",
       "        text-align: right;\n",
       "    }\n",
       "</style>\n",
       "<table border=\"1\" class=\"dataframe\">\n",
       "  <thead>\n",
       "    <tr style=\"text-align: right;\">\n",
       "      <th></th>\n",
       "      <th>CRIM</th>\n",
       "      <th>ZN</th>\n",
       "      <th>INDUS</th>\n",
       "      <th>CHAS</th>\n",
       "      <th>NOX</th>\n",
       "      <th>RM</th>\n",
       "      <th>AGE</th>\n",
       "      <th>DIS</th>\n",
       "      <th>RAD</th>\n",
       "      <th>TAX</th>\n",
       "      <th>PTRATIO</th>\n",
       "      <th>B</th>\n",
       "      <th>LSTAT</th>\n",
       "      <th>MEDV</th>\n",
       "    </tr>\n",
       "  </thead>\n",
       "  <tbody>\n",
       "    <tr>\n",
       "      <th>0</th>\n",
       "      <td>-0.419782</td>\n",
       "      <td>0.284830</td>\n",
       "      <td>-1.287909</td>\n",
       "      <td>-0.272599</td>\n",
       "      <td>-0.144217</td>\n",
       "      <td>0.413672</td>\n",
       "      <td>-0.120013</td>\n",
       "      <td>0.140214</td>\n",
       "      <td>-0.982843</td>\n",
       "      <td>-0.666608</td>\n",
       "      <td>-1.459000</td>\n",
       "      <td>0.441052</td>\n",
       "      <td>-1.075562</td>\n",
       "      <td>1.467194</td>\n",
       "    </tr>\n",
       "    <tr>\n",
       "      <th>1</th>\n",
       "      <td>-0.417339</td>\n",
       "      <td>-0.487722</td>\n",
       "      <td>-0.593381</td>\n",
       "      <td>-0.272599</td>\n",
       "      <td>-0.740262</td>\n",
       "      <td>0.194274</td>\n",
       "      <td>0.367166</td>\n",
       "      <td>0.557160</td>\n",
       "      <td>-0.867883</td>\n",
       "      <td>-0.987329</td>\n",
       "      <td>-0.303094</td>\n",
       "      <td>0.441052</td>\n",
       "      <td>-0.492439</td>\n",
       "      <td>-0.932806</td>\n",
       "    </tr>\n",
       "    <tr>\n",
       "      <th>2</th>\n",
       "      <td>-0.417342</td>\n",
       "      <td>-0.487722</td>\n",
       "      <td>-0.593381</td>\n",
       "      <td>-0.272599</td>\n",
       "      <td>-0.740262</td>\n",
       "      <td>1.282714</td>\n",
       "      <td>-0.265812</td>\n",
       "      <td>0.557160</td>\n",
       "      <td>-0.867883</td>\n",
       "      <td>-0.987329</td>\n",
       "      <td>-0.303094</td>\n",
       "      <td>0.396427</td>\n",
       "      <td>-1.208727</td>\n",
       "      <td>12.167194</td>\n",
       "    </tr>\n",
       "    <tr>\n",
       "      <th>3</th>\n",
       "      <td>-0.416750</td>\n",
       "      <td>-0.487722</td>\n",
       "      <td>-1.306878</td>\n",
       "      <td>-0.272599</td>\n",
       "      <td>-0.835284</td>\n",
       "      <td>1.016303</td>\n",
       "      <td>-0.809889</td>\n",
       "      <td>1.077737</td>\n",
       "      <td>-0.752922</td>\n",
       "      <td>-1.106115</td>\n",
       "      <td>0.113032</td>\n",
       "      <td>0.416163</td>\n",
       "      <td>-1.361517</td>\n",
       "      <td>10.867194</td>\n",
       "    </tr>\n",
       "    <tr>\n",
       "      <th>4</th>\n",
       "      <td>-0.412482</td>\n",
       "      <td>-0.487722</td>\n",
       "      <td>-1.306878</td>\n",
       "      <td>-0.272599</td>\n",
       "      <td>-0.835284</td>\n",
       "      <td>1.228577</td>\n",
       "      <td>-0.511180</td>\n",
       "      <td>1.077737</td>\n",
       "      <td>-0.752922</td>\n",
       "      <td>-1.106115</td>\n",
       "      <td>0.113032</td>\n",
       "      <td>0.441052</td>\n",
       "      <td>-1.026501</td>\n",
       "      <td>13.667194</td>\n",
       "    </tr>\n",
       "    <tr>\n",
       "      <th>...</th>\n",
       "      <td>...</td>\n",
       "      <td>...</td>\n",
       "      <td>...</td>\n",
       "      <td>...</td>\n",
       "      <td>...</td>\n",
       "      <td>...</td>\n",
       "      <td>...</td>\n",
       "      <td>...</td>\n",
       "      <td>...</td>\n",
       "      <td>...</td>\n",
       "      <td>...</td>\n",
       "      <td>...</td>\n",
       "      <td>...</td>\n",
       "      <td>...</td>\n",
       "    </tr>\n",
       "    <tr>\n",
       "      <th>501</th>\n",
       "      <td>-0.413229</td>\n",
       "      <td>-0.487722</td>\n",
       "      <td>0.115738</td>\n",
       "      <td>-0.272599</td>\n",
       "      <td>0.158124</td>\n",
       "      <td>0.439316</td>\n",
       "      <td>0.018673</td>\n",
       "      <td>-0.625796</td>\n",
       "      <td>-0.982843</td>\n",
       "      <td>-0.803212</td>\n",
       "      <td>1.176466</td>\n",
       "      <td>0.387217</td>\n",
       "      <td>-0.418147</td>\n",
       "      <td>-0.132806</td>\n",
       "    </tr>\n",
       "    <tr>\n",
       "      <th>502</th>\n",
       "      <td>-0.415249</td>\n",
       "      <td>-0.487722</td>\n",
       "      <td>0.115738</td>\n",
       "      <td>-0.272599</td>\n",
       "      <td>0.158124</td>\n",
       "      <td>-0.234548</td>\n",
       "      <td>0.288933</td>\n",
       "      <td>-0.716639</td>\n",
       "      <td>-0.982843</td>\n",
       "      <td>-0.803212</td>\n",
       "      <td>1.176466</td>\n",
       "      <td>0.441052</td>\n",
       "      <td>-0.500850</td>\n",
       "      <td>-1.932806</td>\n",
       "    </tr>\n",
       "    <tr>\n",
       "      <th>503</th>\n",
       "      <td>-0.413447</td>\n",
       "      <td>-0.487722</td>\n",
       "      <td>0.115738</td>\n",
       "      <td>-0.272599</td>\n",
       "      <td>0.158124</td>\n",
       "      <td>0.984960</td>\n",
       "      <td>0.797449</td>\n",
       "      <td>-0.773684</td>\n",
       "      <td>-0.982843</td>\n",
       "      <td>-0.803212</td>\n",
       "      <td>1.176466</td>\n",
       "      <td>0.441052</td>\n",
       "      <td>-0.983048</td>\n",
       "      <td>1.367194</td>\n",
       "    </tr>\n",
       "    <tr>\n",
       "      <th>504</th>\n",
       "      <td>-0.407764</td>\n",
       "      <td>-0.487722</td>\n",
       "      <td>0.115738</td>\n",
       "      <td>-0.272599</td>\n",
       "      <td>0.158124</td>\n",
       "      <td>0.725672</td>\n",
       "      <td>0.736996</td>\n",
       "      <td>-0.668437</td>\n",
       "      <td>-0.982843</td>\n",
       "      <td>-0.803212</td>\n",
       "      <td>1.176466</td>\n",
       "      <td>0.403225</td>\n",
       "      <td>-0.865302</td>\n",
       "      <td>-0.532806</td>\n",
       "    </tr>\n",
       "    <tr>\n",
       "      <th>505</th>\n",
       "      <td>-0.415000</td>\n",
       "      <td>-0.487722</td>\n",
       "      <td>0.115738</td>\n",
       "      <td>-0.272599</td>\n",
       "      <td>0.158124</td>\n",
       "      <td>-0.362767</td>\n",
       "      <td>0.434732</td>\n",
       "      <td>-0.613246</td>\n",
       "      <td>-0.982843</td>\n",
       "      <td>-0.803212</td>\n",
       "      <td>1.176466</td>\n",
       "      <td>0.441052</td>\n",
       "      <td>-0.669058</td>\n",
       "      <td>-10.632806</td>\n",
       "    </tr>\n",
       "  </tbody>\n",
       "</table>\n",
       "<p>506 rows × 14 columns</p>\n",
       "</div>"
      ],
      "text/plain": [
       "         CRIM        ZN     INDUS      CHAS       NOX        RM       AGE  \\\n",
       "0   -0.419782  0.284830 -1.287909 -0.272599 -0.144217  0.413672 -0.120013   \n",
       "1   -0.417339 -0.487722 -0.593381 -0.272599 -0.740262  0.194274  0.367166   \n",
       "2   -0.417342 -0.487722 -0.593381 -0.272599 -0.740262  1.282714 -0.265812   \n",
       "3   -0.416750 -0.487722 -1.306878 -0.272599 -0.835284  1.016303 -0.809889   \n",
       "4   -0.412482 -0.487722 -1.306878 -0.272599 -0.835284  1.228577 -0.511180   \n",
       "..        ...       ...       ...       ...       ...       ...       ...   \n",
       "501 -0.413229 -0.487722  0.115738 -0.272599  0.158124  0.439316  0.018673   \n",
       "502 -0.415249 -0.487722  0.115738 -0.272599  0.158124 -0.234548  0.288933   \n",
       "503 -0.413447 -0.487722  0.115738 -0.272599  0.158124  0.984960  0.797449   \n",
       "504 -0.407764 -0.487722  0.115738 -0.272599  0.158124  0.725672  0.736996   \n",
       "505 -0.415000 -0.487722  0.115738 -0.272599  0.158124 -0.362767  0.434732   \n",
       "\n",
       "          DIS       RAD       TAX   PTRATIO         B     LSTAT       MEDV  \n",
       "0    0.140214 -0.982843 -0.666608 -1.459000  0.441052 -1.075562   1.467194  \n",
       "1    0.557160 -0.867883 -0.987329 -0.303094  0.441052 -0.492439  -0.932806  \n",
       "2    0.557160 -0.867883 -0.987329 -0.303094  0.396427 -1.208727  12.167194  \n",
       "3    1.077737 -0.752922 -1.106115  0.113032  0.416163 -1.361517  10.867194  \n",
       "4    1.077737 -0.752922 -1.106115  0.113032  0.441052 -1.026501  13.667194  \n",
       "..        ...       ...       ...       ...       ...       ...        ...  \n",
       "501 -0.625796 -0.982843 -0.803212  1.176466  0.387217 -0.418147  -0.132806  \n",
       "502 -0.716639 -0.982843 -0.803212  1.176466  0.441052 -0.500850  -1.932806  \n",
       "503 -0.773684 -0.982843 -0.803212  1.176466  0.441052 -0.983048   1.367194  \n",
       "504 -0.668437 -0.982843 -0.803212  1.176466  0.403225 -0.865302  -0.532806  \n",
       "505 -0.613246 -0.982843 -0.803212  1.176466  0.441052 -0.669058 -10.632806  \n",
       "\n",
       "[506 rows x 14 columns]"
      ]
     },
     "execution_count": 12,
     "metadata": {},
     "output_type": "execute_result"
    }
   ],
   "source": [
    "import preprocessing_ml as preml\n",
    "df_scaled = preml.scale_df(df,\n",
    "            target_name=target_name,\n",
    "            scaler = \"StandardScaler\",\n",
    "            verbose = False)\n",
    "df_scaled[target_name] = df[target_name]\n",
    "df_scaled"
   ]
  },
  {
   "cell_type": "code",
   "execution_count": 15,
   "metadata": {},
   "outputs": [],
   "source": [
    "#making sure they are now standardized\n",
    "#df_scaled.mean(),df_scaled.std()"
   ]
  },
  {
   "cell_type": "code",
   "execution_count": 16,
   "metadata": {},
   "outputs": [],
   "source": [
    "X,y = pdml.X_y(df_scaled,target_name)"
   ]
  },
  {
   "cell_type": "markdown",
   "metadata": {},
   "source": [
    "# Part B)"
   ]
  },
  {
   "cell_type": "code",
   "execution_count": null,
   "metadata": {},
   "outputs": [],
   "source": [
    "\"\"\"\n",
    "Which linear method is best for prediction? For this part of the problem, you will need to\n",
    "1) randomly split the data into 60% training, 20% validation and 20% test sets. \n",
    "\n",
    "For those with tuning parameters:\n",
    "a) you should fit models on the training data, \n",
    "b) choose the tuning parameters by minimizing the prediction error on the validation set\n",
    "c) and then report the final prediction erroron the test set. \n",
    "\n",
    "\n",
    "Repeat this procedure 10 times and average the results.\n",
    "\"\"\""
   ]
  },
  {
   "cell_type": "markdown",
   "metadata": {},
   "source": [
    "# Optimizing the parameters"
   ]
  },
  {
   "cell_type": "code",
   "execution_count": 40,
   "metadata": {},
   "outputs": [
    {
     "name": "stdout",
     "output_type": "stream",
     "text": [
      "\n",
      "======= Working on Iteration: 0 ======= \n",
      "For Train/Val/Test split of None/0.2/0.2 = 303/101/102\n"
     ]
    },
    {
     "data": {
      "application/vnd.jupyter.widget-view+json": {
       "model_id": "d2470ee7c40941d4a20f7917d0dbaa98",
       "version_major": 2,
       "version_minor": 0
      },
      "text/plain": [
       "  0%|          | 0/13 [00:00<?, ?it/s]"
      ]
     },
     "metadata": {},
     "output_type": "display_data"
    },
    {
     "name": "stdout",
     "output_type": "stream",
     "text": [
      "best_subset_optimal_k = 7\n"
     ]
    },
    {
     "data": {
      "application/vnd.jupyter.widget-view+json": {
       "model_id": "088b9e2590b24ed1801c3f94e814b133",
       "version_major": 2,
       "version_minor": 0
      },
      "text/plain": [
       "  0%|          | 0/13 [00:00<?, ?it/s]"
      ]
     },
     "metadata": {},
     "output_type": "display_data"
    },
    {
     "name": "stdout",
     "output_type": "stream",
     "text": [
      "rfe_optimal_k = 6\n",
      "lasso_adapt_alpha = 0.027159813946793773\n",
      "\n",
      "ridge_alpha = 10.0\n",
      "\n",
      "lasso_adapt_alpha = 0.027159813946793773\n",
      "\n",
      "ridge_alpha = 10.0\n",
      "\n",
      "lasso_alpha = 0.040257356240404045\n"
     ]
    },
    {
     "data": {
      "application/vnd.jupyter.widget-view+json": {
       "model_id": "69b710ead1a945a48f5fe13c342889b4",
       "version_major": 2,
       "version_minor": 0
      },
      "text/plain": [
       "  0%|          | 0/100 [00:00<?, ?it/s]"
      ]
     },
     "metadata": {},
     "output_type": "display_data"
    },
    {
     "name": "stdout",
     "output_type": "stream",
     "text": [
      "elastic_optimal_l1_ratio= 0.98010101010101\n",
      "\n",
      "best_subset_features= ('CHAS', 'NOX', 'RM', 'DIS', 'PTRATIO', 'B', 'LSTAT')\n",
      "best_rfe_features = ['RM' 'DIS' 'RAD' 'TAX' 'PTRATIO' 'LSTAT']\n",
      "model_elastic.alpha_ = 0.010909801232920851\n",
      "Total time for iteration 0: 186.0049455165863\n",
      "\n",
      "======= Working on Iteration: 1 ======= \n",
      "For Train/Val/Test split of None/0.2/0.2 = 303/101/102\n"
     ]
    },
    {
     "data": {
      "application/vnd.jupyter.widget-view+json": {
       "model_id": "b3ba47ad2441484c84e3f999a212ef58",
       "version_major": 2,
       "version_minor": 0
      },
      "text/plain": [
       "  0%|          | 0/13 [00:00<?, ?it/s]"
      ]
     },
     "metadata": {},
     "output_type": "display_data"
    },
    {
     "name": "stdout",
     "output_type": "stream",
     "text": [
      "best_subset_optimal_k = 9\n"
     ]
    },
    {
     "data": {
      "application/vnd.jupyter.widget-view+json": {
       "model_id": "512a50390c2d42079189cc059cd68af5",
       "version_major": 2,
       "version_minor": 0
      },
      "text/plain": [
       "  0%|          | 0/13 [00:00<?, ?it/s]"
      ]
     },
     "metadata": {},
     "output_type": "display_data"
    },
    {
     "name": "stdout",
     "output_type": "stream",
     "text": [
      "rfe_optimal_k = 9\n",
      "lasso_adapt_alpha = 0.026327517382885784\n",
      "\n",
      "ridge_alpha = 1.0\n",
      "\n",
      "lasso_adapt_alpha = 0.026327517382885784\n",
      "\n",
      "ridge_alpha = 1.0\n",
      "\n",
      "lasso_alpha = 0.006565350244645095\n"
     ]
    },
    {
     "data": {
      "application/vnd.jupyter.widget-view+json": {
       "model_id": "e63302cf166044acbe36df53ddb366eb",
       "version_major": 2,
       "version_minor": 0
      },
      "text/plain": [
       "  0%|          | 0/100 [00:00<?, ?it/s]"
      ]
     },
     "metadata": {},
     "output_type": "display_data"
    },
    {
     "name": "stdout",
     "output_type": "stream",
     "text": [
      "elastic_optimal_l1_ratio= 0.99\n",
      "\n",
      "best_subset_features= ('CRIM', 'CHAS', 'NOX', 'RM', 'DIS', 'RAD', 'PTRATIO', 'B', 'LSTAT')\n",
      "best_rfe_features = ['CRIM' 'ZN' 'NOX' 'RM' 'DIS' 'RAD' 'TAX' 'PTRATIO' 'LSTAT']\n",
      "model_elastic.alpha_ = 0.008175828931723111\n",
      "Total time for iteration 1: 174.38327050209045\n",
      "\n",
      "======= Working on Iteration: 2 ======= \n",
      "For Train/Val/Test split of None/0.2/0.2 = 303/101/102\n"
     ]
    },
    {
     "data": {
      "application/vnd.jupyter.widget-view+json": {
       "model_id": "28e861c786e24d319dcb9c23e0e15654",
       "version_major": 2,
       "version_minor": 0
      },
      "text/plain": [
       "  0%|          | 0/13 [00:00<?, ?it/s]"
      ]
     },
     "metadata": {},
     "output_type": "display_data"
    },
    {
     "name": "stdout",
     "output_type": "stream",
     "text": [
      "best_subset_optimal_k = 6\n"
     ]
    },
    {
     "data": {
      "application/vnd.jupyter.widget-view+json": {
       "model_id": "17288b2942994da88de0d75d2af0e8b0",
       "version_major": 2,
       "version_minor": 0
      },
      "text/plain": [
       "  0%|          | 0/13 [00:00<?, ?it/s]"
      ]
     },
     "metadata": {},
     "output_type": "display_data"
    },
    {
     "name": "stdout",
     "output_type": "stream",
     "text": [
      "rfe_optimal_k = 7\n",
      "lasso_adapt_alpha = 0.026793170183638707\n",
      "\n",
      "ridge_alpha = 10.0\n",
      "\n",
      "lasso_adapt_alpha = 0.026793170183638707\n",
      "\n",
      "ridge_alpha = 10.0\n",
      "\n",
      "lasso_alpha = 0.030426310695653026\n"
     ]
    },
    {
     "data": {
      "application/vnd.jupyter.widget-view+json": {
       "model_id": "fea997932832438fa8ac36f7caabdc39",
       "version_major": 2,
       "version_minor": 0
      },
      "text/plain": [
       "  0%|          | 0/100 [00:00<?, ?it/s]"
      ]
     },
     "metadata": {},
     "output_type": "display_data"
    },
    {
     "name": "stdout",
     "output_type": "stream",
     "text": [
      "elastic_optimal_l1_ratio= 0.99\n",
      "\n",
      "best_subset_features= ('CHAS', 'NOX', 'RM', 'DIS', 'PTRATIO', 'LSTAT')\n",
      "best_rfe_features = ['NOX' 'RM' 'DIS' 'RAD' 'TAX' 'PTRATIO' 'LSTAT']\n",
      "model_elastic.alpha_ = 0.026730558970588892\n",
      "Total time for iteration 2: 196.0523030757904\n",
      "\n",
      "======= Working on Iteration: 3 ======= \n",
      "For Train/Val/Test split of None/0.2/0.2 = 303/101/102\n"
     ]
    },
    {
     "data": {
      "application/vnd.jupyter.widget-view+json": {
       "model_id": "b8399ecdfe55477b93c0376c19e5ab6e",
       "version_major": 2,
       "version_minor": 0
      },
      "text/plain": [
       "  0%|          | 0/13 [00:00<?, ?it/s]"
      ]
     },
     "metadata": {},
     "output_type": "display_data"
    },
    {
     "name": "stdout",
     "output_type": "stream",
     "text": [
      "best_subset_optimal_k = 8\n"
     ]
    },
    {
     "data": {
      "application/vnd.jupyter.widget-view+json": {
       "model_id": "13c7fff9ab73428db539c453dff544f4",
       "version_major": 2,
       "version_minor": 0
      },
      "text/plain": [
       "  0%|          | 0/13 [00:00<?, ?it/s]"
      ]
     },
     "metadata": {},
     "output_type": "display_data"
    },
    {
     "name": "stdout",
     "output_type": "stream",
     "text": [
      "rfe_optimal_k = 7\n",
      "lasso_adapt_alpha = 0.025688268892371236\n",
      "\n",
      "ridge_alpha = 10.0\n",
      "\n",
      "lasso_adapt_alpha = 0.025688268892371236\n",
      "\n",
      "ridge_alpha = 10.0\n",
      "\n",
      "lasso_alpha = 0.030145045976802457\n"
     ]
    },
    {
     "data": {
      "application/vnd.jupyter.widget-view+json": {
       "model_id": "3b6c1dca8b0143b9bd5448d34a72c38c",
       "version_major": 2,
       "version_minor": 0
      },
      "text/plain": [
       "  0%|          | 0/100 [00:00<?, ?it/s]"
      ]
     },
     "metadata": {},
     "output_type": "display_data"
    },
    {
     "name": "stdout",
     "output_type": "stream",
     "text": [
      "elastic_optimal_l1_ratio= 0.99\n",
      "\n",
      "best_subset_features= ('CRIM', 'CHAS', 'NOX', 'RM', 'DIS', 'RAD', 'PTRATIO', 'LSTAT')\n",
      "best_rfe_features = ['NOX' 'RM' 'DIS' 'RAD' 'TAX' 'PTRATIO' 'LSTAT']\n",
      "model_elastic.alpha_ = 0.016250004413038432\n",
      "Total time for iteration 3: 170.1099705696106\n",
      "\n",
      "======= Working on Iteration: 4 ======= \n",
      "For Train/Val/Test split of None/0.2/0.2 = 303/101/102\n"
     ]
    },
    {
     "data": {
      "application/vnd.jupyter.widget-view+json": {
       "model_id": "bf24de9e9c28484db71e82cc4962ede2",
       "version_major": 2,
       "version_minor": 0
      },
      "text/plain": [
       "  0%|          | 0/13 [00:00<?, ?it/s]"
      ]
     },
     "metadata": {},
     "output_type": "display_data"
    },
    {
     "name": "stdout",
     "output_type": "stream",
     "text": [
      "best_subset_optimal_k = 3\n"
     ]
    },
    {
     "data": {
      "application/vnd.jupyter.widget-view+json": {
       "model_id": "58ee53edf06b45028799908b40625e91",
       "version_major": 2,
       "version_minor": 0
      },
      "text/plain": [
       "  0%|          | 0/13 [00:00<?, ?it/s]"
      ]
     },
     "metadata": {},
     "output_type": "display_data"
    },
    {
     "name": "stdout",
     "output_type": "stream",
     "text": [
      "rfe_optimal_k = 5\n",
      "lasso_adapt_alpha = 0.027133023575133162\n",
      "\n",
      "ridge_alpha = 10.0\n",
      "\n",
      "lasso_adapt_alpha = 0.027133023575133162\n",
      "\n",
      "ridge_alpha = 10.0\n",
      "\n",
      "lasso_alpha = 0.02359504589665408\n"
     ]
    },
    {
     "data": {
      "application/vnd.jupyter.widget-view+json": {
       "model_id": "1a0e56abc5384feca27cd1c544b2ff0f",
       "version_major": 2,
       "version_minor": 0
      },
      "text/plain": [
       "  0%|          | 0/100 [00:00<?, ?it/s]"
      ]
     },
     "metadata": {},
     "output_type": "display_data"
    },
    {
     "name": "stdout",
     "output_type": "stream",
     "text": [
      "elastic_optimal_l1_ratio= 0.99\n",
      "\n",
      "best_subset_features= ('RM', 'PTRATIO', 'LSTAT')\n",
      "best_rfe_features = ['NOX' 'RM' 'DIS' 'PTRATIO' 'LSTAT']\n",
      "model_elastic.alpha_ = 0.02740259502667541\n",
      "Total time for iteration 4: 161.97638392448425\n",
      "\n",
      "======= Working on Iteration: 5 ======= \n",
      "For Train/Val/Test split of None/0.2/0.2 = 303/101/102\n"
     ]
    },
    {
     "data": {
      "application/vnd.jupyter.widget-view+json": {
       "model_id": "1e209e33387c47cebcb1f3ea1219235b",
       "version_major": 2,
       "version_minor": 0
      },
      "text/plain": [
       "  0%|          | 0/13 [00:00<?, ?it/s]"
      ]
     },
     "metadata": {},
     "output_type": "display_data"
    },
    {
     "name": "stdout",
     "output_type": "stream",
     "text": [
      "best_subset_optimal_k = 3\n"
     ]
    },
    {
     "data": {
      "application/vnd.jupyter.widget-view+json": {
       "model_id": "7402465e52034529819ffa5b86d8ba45",
       "version_major": 2,
       "version_minor": 0
      },
      "text/plain": [
       "  0%|          | 0/13 [00:00<?, ?it/s]"
      ]
     },
     "metadata": {},
     "output_type": "display_data"
    },
    {
     "name": "stdout",
     "output_type": "stream",
     "text": [
      "rfe_optimal_k = 5\n",
      "lasso_adapt_alpha = 0.027061103632670676\n",
      "\n",
      "ridge_alpha = 10.0\n",
      "\n",
      "lasso_adapt_alpha = 0.027061103632670676\n",
      "\n",
      "ridge_alpha = 10.0\n",
      "\n",
      "lasso_alpha = 0.02769641447069747\n"
     ]
    },
    {
     "data": {
      "application/vnd.jupyter.widget-view+json": {
       "model_id": "a6735b39aaea4e518d86587396525e38",
       "version_major": 2,
       "version_minor": 0
      },
      "text/plain": [
       "  0%|          | 0/100 [00:00<?, ?it/s]"
      ]
     },
     "metadata": {},
     "output_type": "display_data"
    },
    {
     "name": "stdout",
     "output_type": "stream",
     "text": [
      "elastic_optimal_l1_ratio= 0.99\n",
      "\n",
      "best_subset_features= ('RM', 'PTRATIO', 'LSTAT')\n",
      "best_rfe_features = ['RM' 'RAD' 'TAX' 'PTRATIO' 'LSTAT']\n",
      "model_elastic.alpha_ = 0.01973663927338363\n",
      "Total time for iteration 5: 181.7150683403015\n",
      "\n",
      "======= Working on Iteration: 6 ======= \n",
      "For Train/Val/Test split of None/0.2/0.2 = 303/101/102\n"
     ]
    },
    {
     "data": {
      "application/vnd.jupyter.widget-view+json": {
       "model_id": "d2a62ddfa8e6419a9c1edaf90757b31b",
       "version_major": 2,
       "version_minor": 0
      },
      "text/plain": [
       "  0%|          | 0/13 [00:00<?, ?it/s]"
      ]
     },
     "metadata": {},
     "output_type": "display_data"
    },
    {
     "name": "stdout",
     "output_type": "stream",
     "text": [
      "best_subset_optimal_k = 5\n"
     ]
    },
    {
     "data": {
      "application/vnd.jupyter.widget-view+json": {
       "model_id": "7250b77789e64ad890c2bd0626710fcd",
       "version_major": 2,
       "version_minor": 0
      },
      "text/plain": [
       "  0%|          | 0/13 [00:00<?, ?it/s]"
      ]
     },
     "metadata": {},
     "output_type": "display_data"
    },
    {
     "name": "stdout",
     "output_type": "stream",
     "text": [
      "rfe_optimal_k = 7\n",
      "lasso_adapt_alpha = 0.034028261946667616\n",
      "\n",
      "ridge_alpha = 10.0\n",
      "\n",
      "lasso_adapt_alpha = 0.034028261946667616\n",
      "\n",
      "ridge_alpha = 10.0\n",
      "\n",
      "lasso_alpha = 0.03543554258682016\n"
     ]
    },
    {
     "data": {
      "application/vnd.jupyter.widget-view+json": {
       "model_id": "4d99d62c8af14abdb34dde399ee885d3",
       "version_major": 2,
       "version_minor": 0
      },
      "text/plain": [
       "  0%|          | 0/100 [00:00<?, ?it/s]"
      ]
     },
     "metadata": {},
     "output_type": "display_data"
    },
    {
     "name": "stdout",
     "output_type": "stream",
     "text": [
      "elastic_optimal_l1_ratio= 0.99\n",
      "\n",
      "best_subset_features= ('NOX', 'RM', 'DIS', 'PTRATIO', 'LSTAT')\n",
      "best_rfe_features = ['NOX' 'RM' 'DIS' 'RAD' 'TAX' 'PTRATIO' 'LSTAT']\n",
      "model_elastic.alpha_ = 0.017814498027222028\n",
      "Total time for iteration 6: 169.01076459884644\n",
      "\n",
      "======= Working on Iteration: 7 ======= \n",
      "For Train/Val/Test split of None/0.2/0.2 = 303/101/102\n"
     ]
    },
    {
     "data": {
      "application/vnd.jupyter.widget-view+json": {
       "model_id": "5947704120e645ae8bb8cc6421948150",
       "version_major": 2,
       "version_minor": 0
      },
      "text/plain": [
       "  0%|          | 0/13 [00:00<?, ?it/s]"
      ]
     },
     "metadata": {},
     "output_type": "display_data"
    },
    {
     "name": "stdout",
     "output_type": "stream",
     "text": [
      "best_subset_optimal_k = 4\n"
     ]
    },
    {
     "data": {
      "application/vnd.jupyter.widget-view+json": {
       "model_id": "57b2a96e21bc423a8ea193cf3c691f19",
       "version_major": 2,
       "version_minor": 0
      },
      "text/plain": [
       "  0%|          | 0/13 [00:00<?, ?it/s]"
      ]
     },
     "metadata": {},
     "output_type": "display_data"
    },
    {
     "name": "stdout",
     "output_type": "stream",
     "text": [
      "rfe_optimal_k = 5\n",
      "lasso_adapt_alpha = 0.024877010176951157\n",
      "\n",
      "ridge_alpha = 1.0\n",
      "\n",
      "lasso_adapt_alpha = 0.024877010176951157\n",
      "\n",
      "ridge_alpha = 1.0\n",
      "\n",
      "lasso_alpha = 0.032464343662837174\n"
     ]
    },
    {
     "data": {
      "application/vnd.jupyter.widget-view+json": {
       "model_id": "36360a57ada04dcb9f504549e7bf2339",
       "version_major": 2,
       "version_minor": 0
      },
      "text/plain": [
       "  0%|          | 0/100 [00:00<?, ?it/s]"
      ]
     },
     "metadata": {},
     "output_type": "display_data"
    },
    {
     "name": "stdout",
     "output_type": "stream",
     "text": [
      "elastic_optimal_l1_ratio= 0.99\n",
      "\n",
      "best_subset_features= ('RM', 'DIS', 'PTRATIO', 'LSTAT')\n",
      "best_rfe_features = ['NOX' 'RM' 'DIS' 'PTRATIO' 'LSTAT']\n",
      "model_elastic.alpha_ = 0.030582177327605067\n",
      "Total time for iteration 7: 183.4960901737213\n",
      "\n",
      "======= Working on Iteration: 8 ======= \n",
      "For Train/Val/Test split of None/0.2/0.2 = 303/101/102\n"
     ]
    },
    {
     "data": {
      "application/vnd.jupyter.widget-view+json": {
       "model_id": "7b11f77ce6ad4a1aa294966ce03cedde",
       "version_major": 2,
       "version_minor": 0
      },
      "text/plain": [
       "  0%|          | 0/13 [00:00<?, ?it/s]"
      ]
     },
     "metadata": {},
     "output_type": "display_data"
    },
    {
     "name": "stdout",
     "output_type": "stream",
     "text": [
      "best_subset_optimal_k = 3\n"
     ]
    },
    {
     "data": {
      "application/vnd.jupyter.widget-view+json": {
       "model_id": "de53b2a59af4484b8ef28425bcfcff56",
       "version_major": 2,
       "version_minor": 0
      },
      "text/plain": [
       "  0%|          | 0/13 [00:00<?, ?it/s]"
      ]
     },
     "metadata": {},
     "output_type": "display_data"
    },
    {
     "name": "stdout",
     "output_type": "stream",
     "text": [
      "rfe_optimal_k = 5\n",
      "lasso_adapt_alpha = 0.02729641634364067\n",
      "\n",
      "ridge_alpha = 10.0\n",
      "\n",
      "lasso_adapt_alpha = 0.02729641634364067\n",
      "\n",
      "ridge_alpha = 10.0\n",
      "\n",
      "lasso_alpha = 0.007143570647560764\n"
     ]
    },
    {
     "data": {
      "application/vnd.jupyter.widget-view+json": {
       "model_id": "6a1225048e9e468ab7648e8127f4c834",
       "version_major": 2,
       "version_minor": 0
      },
      "text/plain": [
       "  0%|          | 0/100 [00:00<?, ?it/s]"
      ]
     },
     "metadata": {},
     "output_type": "display_data"
    },
    {
     "name": "stdout",
     "output_type": "stream",
     "text": [
      "elastic_optimal_l1_ratio= 0.99\n",
      "\n",
      "best_subset_features= ('RM', 'PTRATIO', 'LSTAT')\n",
      "best_rfe_features = ['NOX' 'RM' 'DIS' 'PTRATIO' 'LSTAT']\n",
      "model_elastic.alpha_ = 0.007215727926829051\n",
      "Total time for iteration 8: 165.99902176856995\n",
      "\n",
      "======= Working on Iteration: 9 ======= \n",
      "For Train/Val/Test split of None/0.2/0.2 = 303/101/102\n"
     ]
    },
    {
     "data": {
      "application/vnd.jupyter.widget-view+json": {
       "model_id": "789f96e6e4bc49e59827df189cd5f565",
       "version_major": 2,
       "version_minor": 0
      },
      "text/plain": [
       "  0%|          | 0/13 [00:00<?, ?it/s]"
      ]
     },
     "metadata": {},
     "output_type": "display_data"
    },
    {
     "name": "stdout",
     "output_type": "stream",
     "text": [
      "best_subset_optimal_k = 9\n"
     ]
    },
    {
     "data": {
      "application/vnd.jupyter.widget-view+json": {
       "model_id": "8ede4a8e3dfb43668c5a9c778d8de0b5",
       "version_major": 2,
       "version_minor": 0
      },
      "text/plain": [
       "  0%|          | 0/13 [00:00<?, ?it/s]"
      ]
     },
     "metadata": {},
     "output_type": "display_data"
    },
    {
     "name": "stdout",
     "output_type": "stream",
     "text": [
      "rfe_optimal_k = 7\n",
      "lasso_adapt_alpha = 0.024097802823441258\n",
      "\n",
      "ridge_alpha = 10.0\n",
      "\n",
      "lasso_adapt_alpha = 0.024097802823441258\n",
      "\n",
      "ridge_alpha = 10.0\n",
      "\n",
      "lasso_alpha = 0.006945493172055824\n"
     ]
    },
    {
     "data": {
      "application/vnd.jupyter.widget-view+json": {
       "model_id": "a4329bcc7c6e4e86a9e376be257100b8",
       "version_major": 2,
       "version_minor": 0
      },
      "text/plain": [
       "  0%|          | 0/100 [00:00<?, ?it/s]"
      ]
     },
     "metadata": {},
     "output_type": "display_data"
    },
    {
     "name": "stdout",
     "output_type": "stream",
     "text": [
      "elastic_optimal_l1_ratio= 0.99\n",
      "\n",
      "best_subset_features= ('CRIM', 'NOX', 'RM', 'DIS', 'RAD', 'TAX', 'PTRATIO', 'B', 'LSTAT')\n",
      "best_rfe_features = ['NOX' 'RM' 'DIS' 'RAD' 'TAX' 'PTRATIO' 'LSTAT']\n",
      "model_elastic.alpha_ = 0.007015649668743253\n",
      "Total time for iteration 9: 173.56542706489563\n"
     ]
    }
   ],
   "source": [
    "\"\"\"\n",
    "Models that do not need optimization of parameters:\n",
    "- Least Squares\n",
    "\n",
    "The parameter going to tune over is k\n",
    "- Best Subsets \n",
    "- Step-wise approaches\n",
    "\n",
    "(for those that don't nned parameter tuning will\n",
    "train on training and validation set)\n",
    "\n",
    "Models that do need optimization:\n",
    "- Ridge\n",
    "- Lasso\n",
    "- Elastic Net\n",
    "- Adaptive Lasso \n",
    "\n",
    "for parameter optimization in this lab going to use grid search\n",
    "\n",
    "\n",
    "Pseudocode: \n",
    "For each iteration\n",
    "1) Do the test/val/train split and create the data for the k-fold cross validation\n",
    "2) Run the hyper parameter tuning for each model type\n",
    "\n",
    "Models that do not need optimization of parameters:\n",
    "- Least Squares\n",
    "\n",
    "The parameter going to tune over is k\n",
    "- Best Subsets \n",
    "- Step-wise approaches\n",
    "\n",
    "Model that will need to be tuned for lambda and l1_ratio: \n",
    "- Elastic Net\n",
    "\n",
    "Models that have cross validation incorporated in functions:\n",
    "- Ridge\n",
    "- Lasso\n",
    "- Adaptive Lasso \n",
    "\n",
    "3) Create the models using the tuned parameters from the \n",
    "training and validation dataset (because cross validation was used for hyper-parameter tuning\n",
    "then can train on whole train/val dataset)\n",
    "\n",
    "4) Find the prediction MSE on the testing dataset and store\n",
    "- store the coefficients of each model and best subsets\n",
    "\n",
    "\"\"\"\n",
    "n_iterations = 10\n",
    "n_splits = 5\n",
    "verbose = True\n",
    "import time\n",
    "\n",
    "n_featuers = pdml.n_features(X,target_name=target_name)\n",
    "iterations_dict = dict()\n",
    "\n",
    "for iter_idx in range(n_iterations):\n",
    "    if verbose:\n",
    "        print(f\"\\n======= Working on Iteration: {iter_idx} ======= \")\n",
    "    \n",
    "    st = time.time()\n",
    "    #=============== Part 1: Creating Datasets ====================\n",
    "    \n",
    "    (X_train,\n",
    "     X_val,\n",
    "     X_test,\n",
    "     y_train,\n",
    "     y_val,\n",
    "     y_test) = sklu.train_val_test_split(\n",
    "        X,\n",
    "        y,\n",
    "        test_size = 0.2,\n",
    "        val_size = 0.2,\n",
    "        verbose = True)\n",
    "\n",
    "    X_train_val = pd.concat([X_train,X_val])\n",
    "    y_train_val = pd.concat([y_train,y_val])\n",
    "    \n",
    "    \n",
    "    fold_dfs = sklu.k_fold_df_split(\n",
    "        X_train_val,\n",
    "        y_train_val,\n",
    "        n_splits = n_splits)\n",
    "    \n",
    "    #=============== Part 2: Hyper-parameter tuning ====================\n",
    "    \n",
    "    \n",
    "    # --------- best subsets ----\n",
    "    best_subset_k_features = []\n",
    "\n",
    "    for k in tqdm(range(1,n_featuers+1)):\n",
    "        curr_dict = dict(k=k)\n",
    "        for fold_idx,fold_data in fold_dfs.items():\n",
    "            #training the model\n",
    "            eval_method = \"MSE\"\n",
    "            curr_best,best_model = fsu.best_subset_k(\n",
    "            df = fold_data[\"X_train\"],\n",
    "            y  = fold_data[\"y_train\"],\n",
    "            k = k,\n",
    "            model = sklm.LinearRegression(),\n",
    "            evaluation_method = eval_method,\n",
    "            verbose = False,\n",
    "            return_model = True,\n",
    "            )\n",
    "\n",
    "            #evaulating the model on the validation set\n",
    "\n",
    "            mse = sklu.MSE(fold_data[\"y_test\"],\n",
    "                 model=best_model,\n",
    "                X=fold_data[\"X_test\"][list(curr_best)])\n",
    "\n",
    "            curr_dict[f\"mse_fold_{fold_idx}\"] = mse\n",
    "        best_subset_k_features.append(curr_dict)\n",
    "\n",
    "    best_subset_df = pd.DataFrame.from_records(best_subset_k_features)\n",
    "    best_subset_df\n",
    "    \n",
    "    best_subset_optimal_k,ret_df = sklu.optimal_parameter_from_kfold_df(\n",
    "    best_subset_df,\n",
    "    parameter_name = \"k\",\n",
    "    columns_prefix = \"mse_fold\",\n",
    "    higher_param_higher_complexity = True,\n",
    "    standard_error_buffer = True,\n",
    "    verbose = False,\n",
    "    return_df = True\n",
    "                                 )\n",
    "    \n",
    "    if verbose:\n",
    "        print(f\"best_subset_optimal_k = {best_subset_optimal_k}\")\n",
    "    \n",
    "    \n",
    "    #--------- RFE model ---------------\n",
    "    rfe_k_features = []\n",
    "\n",
    "    for k in tqdm(range(1,n_featuers+1)):\n",
    "        curr_dict = dict(k=k)\n",
    "        for fold_idx,fold_data in fold_dfs.items():\n",
    "            #training the model\n",
    "            curr_best,best_model = fsu.reverse_feature_elimination(\n",
    "            df = fold_data[\"X_train\"],\n",
    "            y  = fold_data[\"y_train\"],\n",
    "            k = k,\n",
    "            model = sklm.LinearRegression(),\n",
    "            verbose = False,\n",
    "            return_model = True,\n",
    "            )\n",
    "\n",
    "            #evaulating the model on the validation set\n",
    "\n",
    "            mse = sklu.MSE(fold_data[\"y_test\"],\n",
    "                     model=best_model,\n",
    "                    X=fold_data[\"X_test\"][list(curr_best)])\n",
    "\n",
    "            curr_dict[f\"mse_fold_{fold_idx}\"] = mse\n",
    "\n",
    "        rfe_k_features.append(curr_dict)\n",
    "\n",
    "    rfe_df = pd.DataFrame.from_records(rfe_k_features)\n",
    "    \n",
    "    \n",
    "    rfe_optimal_k,ret_df = sklu.optimal_parameter_from_kfold_df(\n",
    "    rfe_df,\n",
    "    parameter_name = \"k\",\n",
    "    columns_prefix = \"mse_fold\",\n",
    "    higher_param_higher_complexity = True,\n",
    "    standard_error_buffer = True,\n",
    "    verbose = False,\n",
    "    return_df = True\n",
    "                                 )\n",
    "    \n",
    "    if verbose:\n",
    "        print(f\"rfe_optimal_k = {rfe_optimal_k}\")\n",
    "        \n",
    "    #-------- Lamda only hyper parameters: lass, ridge and adaptive lass\n",
    "    \n",
    "    model_lasso_adapt = sklm.AdaptiveLasso(X_train_val,y_train_val,\n",
    "                                      cv_n_splits=n_splits)\n",
    "    lasso_adapt_alpha = model_lasso_adapt.alpha_\n",
    "\n",
    "    print(f\"lasso_adapt_alpha = {lasso_adapt_alpha}\\n\")\n",
    "\n",
    "\n",
    "    model_ridge = sklm.RidgeCV(cv_n_splits=n_splits)\n",
    "    model_ridge.fit(X_train_val,y_train_val)\n",
    "    ridge_alpha = model_ridge.alpha_\n",
    "\n",
    "    print(f\"ridge_alpha = {ridge_alpha}\\n\")\n",
    "\n",
    "    model_lasso = sklm.LassoCV(cv_n_splits=n_splits)\n",
    "    model_lasso.fit(X_train_val,y_train_val)\n",
    "    lasso_alpha = model_lasso.alpha_\n",
    "    \n",
    "    \n",
    "    \n",
    "    \n",
    "    if verbose:\n",
    "        print(f\"lasso_adapt_alpha = {lasso_adapt_alpha}\\n\")\n",
    "        print(f\"ridge_alpha = {ridge_alpha}\\n\")\n",
    "        print(f\"lasso_alpha = {lasso_alpha}\")\n",
    "        \n",
    "        \n",
    "    # ----------- Elastic Net ----------------------\n",
    "    elastic_mse_dicts = []\n",
    "    l1_ratio = np.linspace(0.01,0.99,100)\n",
    "\n",
    "    for curr_l1_ratio in tqdm(l1_ratio):\n",
    "        curr_dict = dict(l1_ratio=curr_l1_ratio)\n",
    "        for fold_idx,fold_data in fold_dfs.items():\n",
    "            #training the model\n",
    "\n",
    "\n",
    "            model_elastic = sklm.ElasticNetCV(\n",
    "                l1_ratio = curr_l1_ratio,\n",
    "                cv_n_splits=n_splits,\n",
    "            )    \n",
    "\n",
    "            model_elastic.fit(fold_data[\"X_train\"],\n",
    "                             fold_data[\"y_train\"])    \n",
    "\n",
    "            #evaulating the model on the validation set\n",
    "\n",
    "            mse = sklu.MSE(fold_data[\"y_test\"],\n",
    "                     model=best_model,\n",
    "                    X=fold_data[\"X_test\"])\n",
    "\n",
    "            curr_dict[f\"mse_fold_{fold_idx}\"] = mse\n",
    "            curr_dict[f\"mse_fold_{fold_idx}_alpha\"] = model_elastic.alpha_\n",
    "\n",
    "        elastic_mse_dicts.append(curr_dict)\n",
    "\n",
    "    elastic_df = pd.DataFrame.from_records(elastic_mse_dicts)\n",
    "    \n",
    "    elastic_optimal_l1_ratio,ret_df = sklu.optimal_parameter_from_kfold_df(\n",
    "        elastic_df,\n",
    "        parameter_name = \"l1_ratio\",\n",
    "        columns_prefix = \"mse_fold\",\n",
    "        higher_param_higher_complexity = False,\n",
    "        standard_error_buffer = False,\n",
    "        verbose = False,\n",
    "        return_df = True\n",
    "                                     )\n",
    "    \n",
    "    if verbose:\n",
    "        print(f\"elastic_optimal_l1_ratio= {elastic_optimal_l1_ratio}\")\n",
    "        \n",
    "        \n",
    "    # =========== Part 3: Training tuned models ==============\n",
    "    # least squares model\n",
    "    model_least_squares = sklm.LinearRegression()\n",
    "    model_least_squares.fit(X_train_val,y_train_val)\n",
    "\n",
    "\n",
    "    best_subset_features,model_best_subset = fsu.best_subset_k(\n",
    "            df = X_train_val,\n",
    "            y  = y_train_val,\n",
    "            k = best_subset_optimal_k,\n",
    "            model = sklm.LinearRegression(),\n",
    "            evaluation_method = \"MSE\",\n",
    "            verbose = False,\n",
    "            return_model = True,\n",
    "    )\n",
    "\n",
    "\n",
    "\n",
    "    best_rfe_features,model_rfe = fsu.reverse_feature_elimination(\n",
    "    df = X_train_val,\n",
    "    y  = y_train_val,\n",
    "    k = rfe_optimal_k,\n",
    "    model = sklm.LinearRegression(),\n",
    "    verbose = False,\n",
    "    return_model = True,\n",
    "    )\n",
    "\n",
    "\n",
    "    # --- elastic net\n",
    "    model_elastic = sklm.ElasticNetCV(l1_ratio=elastic_optimal_l1_ratio,\n",
    "                                     )\n",
    "    model_elastic.fit(X_train_val,y_train_val)\n",
    "\n",
    "\n",
    "    # --- models trained on cv of the lambday by sklearn\n",
    "    model_lasso_adapt\n",
    "    model_ridge\n",
    "    model_lasso\n",
    "    \n",
    "    if verbose:\n",
    "        print(f\"\")\n",
    "        print(f\"best_subset_features= {best_subset_features}\")\n",
    "        print(f\"best_rfe_features = {best_rfe_features}\")\n",
    "        print(f\"model_elastic.alpha_ = {model_elastic.alpha_}\")\n",
    "\n",
    "    # ======= Part 4: Prediction MSE on test data ==========\n",
    "    models_to_test = dict(\n",
    "        least_squares = model_least_squares,\n",
    "        best_subset = dict(model = model_best_subset,\n",
    "                           features = list(best_subset_features)),\n",
    "        rfe = dict(model = model_rfe,\n",
    "                   features = list(best_rfe_features)),\n",
    "        elastic = model_elastic,\n",
    "        lasso_adapt = model_lasso_adapt,\n",
    "        ridge = model_ridge,\n",
    "        lasso = model_lasso\n",
    "\n",
    "    )\n",
    "    \n",
    "    test_prediction_MSE = dict()\n",
    "    for model_name,m in models_to_test.items():\n",
    "        if type(m) == dict:\n",
    "            curr_model = m[\"model\"]\n",
    "            curr_MSE = sklu.MSE(y_test,model = curr_model,X=X_test[m[\"features\"]])\n",
    "        else:\n",
    "            curr_model = m\n",
    "            curr_MSE = sklu.MSE(y_test,\n",
    "                                model = curr_model,\n",
    "                                X=X_test)\n",
    "\n",
    "        test_prediction_MSE[model_name] = dict(MSE = curr_MSE,\n",
    "                                              coef_ = best_rfe_features)\n",
    "        \n",
    "    \n",
    "    test_prediction_MSE[\"best_subset\"][\"features\"] = best_subset_features\n",
    "    test_prediction_MSE[\"rfe\"][\"features\"] = best_subset_features\n",
    "    test_prediction_MSE[\"elastic\"][\"l1_ratio\"] =  elastic_optimal_l1_ratio\n",
    "\n",
    "    \n",
    "    if verbose:\n",
    "        print(f\"Total time for iteration {iter_idx}: {time.time() - st}\")\n",
    "\n",
    "    iterations_dict[iter_idx] = test_prediction_MSE.copy()"
   ]
  },
  {
   "cell_type": "markdown",
   "metadata": {},
   "source": [
    "# Visualizing the Results"
   ]
  },
  {
   "cell_type": "code",
   "execution_count": 41,
   "metadata": {},
   "outputs": [
    {
     "data": {
      "text/html": [
       "<div>\n",
       "<style scoped>\n",
       "    .dataframe tbody tr th:only-of-type {\n",
       "        vertical-align: middle;\n",
       "    }\n",
       "\n",
       "    .dataframe tbody tr th {\n",
       "        vertical-align: top;\n",
       "    }\n",
       "\n",
       "    .dataframe thead th {\n",
       "        text-align: right;\n",
       "    }\n",
       "</style>\n",
       "<table border=\"1\" class=\"dataframe\">\n",
       "  <thead>\n",
       "    <tr style=\"text-align: right;\">\n",
       "      <th></th>\n",
       "      <th>least_squares</th>\n",
       "      <th>best_subset</th>\n",
       "      <th>rfe</th>\n",
       "      <th>elastic</th>\n",
       "      <th>lasso_adapt</th>\n",
       "      <th>ridge</th>\n",
       "      <th>lasso</th>\n",
       "    </tr>\n",
       "  </thead>\n",
       "  <tbody>\n",
       "    <tr>\n",
       "      <th>0</th>\n",
       "      <td>14.882919</td>\n",
       "      <td>15.036616</td>\n",
       "      <td>17.006709</td>\n",
       "      <td>14.682715</td>\n",
       "      <td>14.569364</td>\n",
       "      <td>14.441630</td>\n",
       "      <td>14.416772</td>\n",
       "    </tr>\n",
       "    <tr>\n",
       "      <th>1</th>\n",
       "      <td>24.340544</td>\n",
       "      <td>24.799441</td>\n",
       "      <td>21.528764</td>\n",
       "      <td>24.027470</td>\n",
       "      <td>23.922768</td>\n",
       "      <td>24.109032</td>\n",
       "      <td>24.059383</td>\n",
       "    </tr>\n",
       "    <tr>\n",
       "      <th>2</th>\n",
       "      <td>14.199695</td>\n",
       "      <td>15.591350</td>\n",
       "      <td>13.490027</td>\n",
       "      <td>13.486487</td>\n",
       "      <td>13.319106</td>\n",
       "      <td>13.558586</td>\n",
       "      <td>13.477374</td>\n",
       "    </tr>\n",
       "    <tr>\n",
       "      <th>3</th>\n",
       "      <td>21.101875</td>\n",
       "      <td>22.611193</td>\n",
       "      <td>20.717856</td>\n",
       "      <td>20.959075</td>\n",
       "      <td>20.840190</td>\n",
       "      <td>20.870046</td>\n",
       "      <td>20.860288</td>\n",
       "    </tr>\n",
       "    <tr>\n",
       "      <th>4</th>\n",
       "      <td>20.568922</td>\n",
       "      <td>27.147208</td>\n",
       "      <td>24.982656</td>\n",
       "      <td>20.731290</td>\n",
       "      <td>20.579445</td>\n",
       "      <td>20.862908</td>\n",
       "      <td>20.698335</td>\n",
       "    </tr>\n",
       "    <tr>\n",
       "      <th>5</th>\n",
       "      <td>25.520513</td>\n",
       "      <td>31.138034</td>\n",
       "      <td>30.743640</td>\n",
       "      <td>25.547981</td>\n",
       "      <td>25.442381</td>\n",
       "      <td>25.558377</td>\n",
       "      <td>25.591417</td>\n",
       "    </tr>\n",
       "    <tr>\n",
       "      <th>6</th>\n",
       "      <td>21.352451</td>\n",
       "      <td>21.768603</td>\n",
       "      <td>22.336042</td>\n",
       "      <td>21.167737</td>\n",
       "      <td>20.874219</td>\n",
       "      <td>21.336333</td>\n",
       "      <td>21.092508</td>\n",
       "    </tr>\n",
       "    <tr>\n",
       "      <th>7</th>\n",
       "      <td>25.721729</td>\n",
       "      <td>31.465961</td>\n",
       "      <td>28.656580</td>\n",
       "      <td>25.831428</td>\n",
       "      <td>25.646595</td>\n",
       "      <td>25.725566</td>\n",
       "      <td>25.845017</td>\n",
       "    </tr>\n",
       "    <tr>\n",
       "      <th>8</th>\n",
       "      <td>39.941246</td>\n",
       "      <td>46.029601</td>\n",
       "      <td>44.669560</td>\n",
       "      <td>39.791695</td>\n",
       "      <td>39.868987</td>\n",
       "      <td>40.318342</td>\n",
       "      <td>39.789832</td>\n",
       "    </tr>\n",
       "    <tr>\n",
       "      <th>9</th>\n",
       "      <td>38.067813</td>\n",
       "      <td>38.583129</td>\n",
       "      <td>37.231129</td>\n",
       "      <td>37.919982</td>\n",
       "      <td>37.814288</td>\n",
       "      <td>38.540835</td>\n",
       "      <td>37.917989</td>\n",
       "    </tr>\n",
       "  </tbody>\n",
       "</table>\n",
       "</div>"
      ],
      "text/plain": [
       "   least_squares  best_subset        rfe    elastic  lasso_adapt      ridge  \\\n",
       "0      14.882919    15.036616  17.006709  14.682715    14.569364  14.441630   \n",
       "1      24.340544    24.799441  21.528764  24.027470    23.922768  24.109032   \n",
       "2      14.199695    15.591350  13.490027  13.486487    13.319106  13.558586   \n",
       "3      21.101875    22.611193  20.717856  20.959075    20.840190  20.870046   \n",
       "4      20.568922    27.147208  24.982656  20.731290    20.579445  20.862908   \n",
       "5      25.520513    31.138034  30.743640  25.547981    25.442381  25.558377   \n",
       "6      21.352451    21.768603  22.336042  21.167737    20.874219  21.336333   \n",
       "7      25.721729    31.465961  28.656580  25.831428    25.646595  25.725566   \n",
       "8      39.941246    46.029601  44.669560  39.791695    39.868987  40.318342   \n",
       "9      38.067813    38.583129  37.231129  37.919982    37.814288  38.540835   \n",
       "\n",
       "       lasso  \n",
       "0  14.416772  \n",
       "1  24.059383  \n",
       "2  13.477374  \n",
       "3  20.860288  \n",
       "4  20.698335  \n",
       "5  25.591417  \n",
       "6  21.092508  \n",
       "7  25.845017  \n",
       "8  39.789832  \n",
       "9  37.917989  "
      ]
     },
     "execution_count": 41,
     "metadata": {},
     "output_type": "execute_result"
    }
   ],
   "source": [
    "mse_df_dicts = []\n",
    "\n",
    "for idx,data in iterations_dict.items():\n",
    "    curr_dict = {k:v[\"MSE\"] for k,v in data.items()}\n",
    "    mse_df_dicts.append(curr_dict)\n",
    "    \n",
    "import pandas as pd\n",
    "mse_df = pd.DataFrame.from_records(mse_df_dicts)\n",
    "mse_df"
   ]
  },
  {
   "cell_type": "code",
   "execution_count": 42,
   "metadata": {},
   "outputs": [
    {
     "data": {
      "text/html": [
       "<div>\n",
       "<style scoped>\n",
       "    .dataframe tbody tr th:only-of-type {\n",
       "        vertical-align: middle;\n",
       "    }\n",
       "\n",
       "    .dataframe tbody tr th {\n",
       "        vertical-align: top;\n",
       "    }\n",
       "\n",
       "    .dataframe thead th {\n",
       "        text-align: right;\n",
       "    }\n",
       "</style>\n",
       "<table border=\"1\" class=\"dataframe\">\n",
       "  <thead>\n",
       "    <tr style=\"text-align: right;\">\n",
       "      <th></th>\n",
       "      <th>mean</th>\n",
       "      <th>std_err</th>\n",
       "      <th>std_dev</th>\n",
       "    </tr>\n",
       "  </thead>\n",
       "  <tbody>\n",
       "    <tr>\n",
       "      <th>least_squares</th>\n",
       "      <td>24.569771</td>\n",
       "      <td>2.709081</td>\n",
       "      <td>8.566865</td>\n",
       "    </tr>\n",
       "    <tr>\n",
       "      <th>best_subset</th>\n",
       "      <td>27.417114</td>\n",
       "      <td>3.084722</td>\n",
       "      <td>9.754748</td>\n",
       "    </tr>\n",
       "    <tr>\n",
       "      <th>rfe</th>\n",
       "      <td>26.136296</td>\n",
       "      <td>2.988489</td>\n",
       "      <td>9.450431</td>\n",
       "    </tr>\n",
       "    <tr>\n",
       "      <th>elastic</th>\n",
       "      <td>24.414586</td>\n",
       "      <td>2.733486</td>\n",
       "      <td>8.644041</td>\n",
       "    </tr>\n",
       "    <tr>\n",
       "      <th>lasso_adapt</th>\n",
       "      <td>24.287734</td>\n",
       "      <td>2.750965</td>\n",
       "      <td>8.699314</td>\n",
       "    </tr>\n",
       "    <tr>\n",
       "      <th>ridge</th>\n",
       "      <td>24.532165</td>\n",
       "      <td>2.803626</td>\n",
       "      <td>8.865845</td>\n",
       "    </tr>\n",
       "    <tr>\n",
       "      <th>lasso</th>\n",
       "      <td>24.374892</td>\n",
       "      <td>2.747403</td>\n",
       "      <td>8.688052</td>\n",
       "    </tr>\n",
       "  </tbody>\n",
       "</table>\n",
       "</div>"
      ],
      "text/plain": [
       "                    mean   std_err   std_dev\n",
       "least_squares  24.569771  2.709081  8.566865\n",
       "best_subset    27.417114  3.084722  9.754748\n",
       "rfe            26.136296  2.988489  9.450431\n",
       "elastic        24.414586  2.733486  8.644041\n",
       "lasso_adapt    24.287734  2.750965  8.699314\n",
       "ridge          24.532165  2.803626  8.865845\n",
       "lasso          24.374892  2.747403  8.688052"
      ]
     },
     "execution_count": 42,
     "metadata": {},
     "output_type": "execute_result"
    }
   ],
   "source": [
    "df = pd.DataFrame()\n",
    "df[\"mean\"] = mse_df.mean()\n",
    "df[\"std_err\"] = mse_df.sem()\n",
    "df[\"std_dev\"] = mse_df.std()\n",
    "df"
   ]
  },
  {
   "cell_type": "code",
   "execution_count": 43,
   "metadata": {},
   "outputs": [
    {
     "data": {
      "text/plain": [
       "<AxesSubplot:>"
      ]
     },
     "execution_count": 43,
     "metadata": {},
     "output_type": "execute_result"
    },
    {
     "data": {
      "image/png": "[encoded data removed]",
      "text/plain": [
       "<Figure size 432x288 with 1 Axes>"
      ]
     },
     "metadata": {
      "needs_background": "light"
     },
     "output_type": "display_data"
    }
   ],
   "source": [
    "df.plot(kind=\"bar\",y=\"mean\",yerr=\"std_err\")"
   ]
  },
  {
   "cell_type": "code",
   "execution_count": 44,
   "metadata": {},
   "outputs": [
    {
     "data": {
      "text/plain": [
       "<AxesSubplot:>"
      ]
     },
     "execution_count": 44,
     "metadata": {},
     "output_type": "execute_result"
    },
    {
     "data": {
      "image/png": "[encoded data removed]",
      "text/plain": [
       "<Figure size 432x288 with 1 Axes>"
      ]
     },
     "metadata": {
      "needs_background": "light"
     },
     "output_type": "display_data"
    }
   ],
   "source": [
    "mse_df.T.plot(kind = \"bar\")"
   ]
  },
  {
   "cell_type": "code",
   "execution_count": null,
   "metadata": {},
   "outputs": [],
   "source": []
  }
 ],
 "metadata": {
  "kernelspec": {
   "display_name": "Python 3",
   "language": "python",
   "name": "python3"
  },
  "language_info": {
   "codemirror_mode": {
    "name": "ipython",
    "version": 3
   },
   "file_extension": ".py",
   "mimetype": "text/x-python",
   "name": "python",
   "nbconvert_exporter": "python",
   "pygments_lexer": "ipython3",
   "version": "3.6.9"
  }
 },
 "nbformat": 4,
 "nbformat_minor": 4
}
