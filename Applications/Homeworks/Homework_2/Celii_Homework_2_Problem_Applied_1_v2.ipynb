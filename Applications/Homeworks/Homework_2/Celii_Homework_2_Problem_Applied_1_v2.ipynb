{
 "cells": [
  {
   "cell_type": "code",
   "execution_count": null,
   "metadata": {},
   "outputs": [],
   "source": [
    "\"\"\"\n",
    "Work for Applied Problem 1: \n",
    "\n",
    "Cross-Validation.  For this problem, you can consider binary classification of\n",
    "the digits 3 and 8.  Code up K-fold cross-validation (from scratch) and use your \n",
    "function to tune hyper-parameters for sparse logistic regression and linear SVMs. \n",
    "Plot the cross-validation error curve along with the training and test error.  \n",
    "Compare which hyperparameters your cross-validation procedure selects to those\n",
    "from builtin  functions.   Reflect  on  your  results.   (Hint:  You  may  consider\n",
    "using  the  logistic  log-likelihood  or binomial deviance loss instead of the \n",
    "miss-classification error for this problem.)\n",
    "\"\"\"\n"
   ]
  },
  {
   "cell_type": "code",
   "execution_count": 1,
   "metadata": {},
   "outputs": [],
   "source": [
    "%load_ext autoreload\n",
    "%autoreload 2"
   ]
  },
  {
   "cell_type": "code",
   "execution_count": 2,
   "metadata": {},
   "outputs": [],
   "source": [
    "from os import sys\n",
    "sys.path.append(\"../../../machine_learning_tools/\")"
   ]
  },
  {
   "cell_type": "code",
   "execution_count": 3,
   "metadata": {},
   "outputs": [],
   "source": [
    "import sklearn_utils as sklu\n",
    "import sklearn_models as sklm\n",
    "import visualizations_ml as vml"
   ]
  },
  {
   "cell_type": "code",
   "execution_count": 4,
   "metadata": {},
   "outputs": [],
   "source": [
    "from sklearn.datasets import load_digits\n",
    "import numpy as np\n",
    "import matplotlib.pyplot as plt\n",
    "import pandas as pd"
   ]
  },
  {
   "cell_type": "markdown",
   "metadata": {},
   "source": [
    "# Importing the Data"
   ]
  },
  {
   "cell_type": "code",
   "execution_count": 5,
   "metadata": {
    "scrolled": true
   },
   "outputs": [
    {
     "data": {
      "image/png": "[encoded data removed]",
      "text/plain": [
       "<Figure size 720x720 with 10 Axes>"
      ]
     },
     "metadata": {
      "needs_background": "light"
     },
     "output_type": "display_data"
    }
   ],
   "source": [
    "#Load data\n",
    "n_classes = 10\n",
    "digits = load_digits(n_class=n_classes)\n",
    "X = digits.images\n",
    "y = digits.target\n",
    "n_total = X.shape[0]\n",
    "\n",
    "#Shuffle the data\n",
    "ind = np.random.permutation(n_total)\n",
    "X = X[ind,:,:]\n",
    "y = y[ind]\n",
    "\n",
    "#filtering for only the 3 and 8 digits\n",
    "three_eight_maks = (y == 3) | (y == 8)\n",
    "X = X[three_eight_maks]\n",
    "y = y[three_eight_maks]\n",
    "\n",
    "#Plot\n",
    "n_images = 10\n",
    "plt.figure(figsize=[n_images,n_images])\n",
    "for i in range(n_images):\n",
    "    plt.subplot(1,n_images,i+1)\n",
    "    plt.imshow(X[i])\n",
    "    plt.axis('off')\n",
    "    plt.title(str(y[i]))\n",
    "plt.show()"
   ]
  },
  {
   "cell_type": "code",
   "execution_count": 6,
   "metadata": {},
   "outputs": [],
   "source": [
    "#reshaping data into dataframe\n",
    "X_flat = X.reshape(len(X),-1)\n",
    "X = pd.DataFrame.from_records(X_flat)\n",
    "y_ones = np.ones(len(X)).astype(\"int\")\n",
    "y_ones[y == 3] = 0\n",
    "y = pd.Series(y_ones)"
   ]
  },
  {
   "cell_type": "markdown",
   "metadata": {},
   "source": [
    "# The Models that will be used"
   ]
  },
  {
   "cell_type": "code",
   "execution_count": 7,
   "metadata": {},
   "outputs": [
    {
     "data": {
      "text/plain": [
       "'\\nOnly parameter to optimize for is C, regularization \\n(L2 norm pernalty)\\n'"
      ]
     },
     "execution_count": 7,
     "metadata": {},
     "output_type": "execute_result"
    }
   ],
   "source": [
    "# sparse logistic regression\n",
    "from sklearn import linear_model\n",
    "linear_model.LogisticRegression(penalty = \"L1\")\n",
    "\n",
    "\"\"\"\n",
    "For logistic regression the C is the only hyper parameters\n",
    "C: inverse of regularization strength, smaller values are more regularized\n",
    "\"\"\"\n",
    "\n",
    "#linear svm\n",
    "from sklearn.svm import SVC\n",
    "SVC(kernel = \"linear\")\n",
    "\n",
    "\"\"\"\n",
    "Only parameter to optimize for is C, regularization \n",
    "(L2 norm pernalty)\n",
    "\"\"\""
   ]
  },
  {
   "cell_type": "markdown",
   "metadata": {},
   "source": [
    "# Implementing K-fold Cross Validation by Hand"
   ]
  },
  {
   "cell_type": "code",
   "execution_count": 8,
   "metadata": {},
   "outputs": [
    {
     "data": {
      "text/plain": [
       "'\\nPurpose: To implement K-fold Cross validation\\nfor picking the right regularization parameter on \\nall of the models\\n\\nPseudocode: \\n0) Define the parameter space to iterate over\\n1) Split the Data into,test,training and validation\\n2) Combine the validation and training datasets\\nin order to do cross validation\\n3) Compute the datasets for each cross validation \\n\\nFor every parameter option:\\n    For every K fold dataset:\\n        Train the model on the dataset\\n        Measure the MSE or another loss for that model\\n        Store the certain loss\\n    Find the average loss and the standard error on the loss\\n\\nPick the optimal parameter by one of the options:\\na) Picking the parameter with the lowest average loss\\nb) Picking the parameter value that is the least complex model\\n that is within one standard deviation of the parameter with the\\n minimum average loss\\n\\n'"
      ]
     },
     "execution_count": 8,
     "metadata": {},
     "output_type": "execute_result"
    }
   ],
   "source": [
    "\"\"\"\n",
    "Purpose: To implement K-fold Cross validation\n",
    "for picking the right regularization parameter on \n",
    "all of the models\n",
    "\n",
    "Pseudocode: \n",
    "0) Define the parameter space to iterate over\n",
    "1) Split the Data into,test,training and validation\n",
    "2) Combine the validation and training datasets\n",
    "in order to do cross validation\n",
    "3) Compute the datasets for each cross validation \n",
    "\n",
    "For every parameter option:\n",
    "    For every K fold dataset:\n",
    "        Train the model on the dataset\n",
    "        Measure the MSE or another loss for that model\n",
    "        Store the certain loss\n",
    "    Find the average loss and the standard error on the loss\n",
    "\n",
    "Pick the optimal parameter by one of the options:\n",
    "a) Picking the parameter with the lowest average loss\n",
    "b) Picking the parameter value that is the least complex model\n",
    " that is within one standard deviation of the parameter with the\n",
    " minimum average loss\n",
    "\n",
    "\"\"\""
   ]
  },
  {
   "cell_type": "code",
   "execution_count": 9,
   "metadata": {
    "scrolled": false
   },
   "outputs": [
    {
     "data": {
      "text/plain": [
       "array([1.00000000e-04, 1.95734178e-04, 3.83118685e-04, 7.49894209e-04,\n",
       "       1.46779927e-03, 2.87298483e-03, 5.62341325e-03, 1.10069417e-02,\n",
       "       2.15443469e-02, 4.21696503e-02, 8.25404185e-02, 1.61559810e-01,\n",
       "       3.16227766e-01, 6.18965819e-01, 1.21152766e+00, 2.37137371e+00,\n",
       "       4.64158883e+00, 9.08517576e+00, 1.77827941e+01, 3.48070059e+01,\n",
       "       6.81292069e+01, 1.33352143e+02, 2.61015722e+02, 5.10896977e+02,\n",
       "       1.00000000e+03])"
      ]
     },
     "execution_count": 9,
     "metadata": {},
     "output_type": "execute_result"
    }
   ],
   "source": [
    "C_options = np.array([10.**(k) for k in np.linspace(-4,3,25)])\n",
    "C_options"
   ]
  },
  {
   "cell_type": "code",
   "execution_count": 10,
   "metadata": {},
   "outputs": [],
   "source": [
    "# creating the data_split\n",
    "data_splits = sklu.train_val_test_split(\n",
    "    X,\n",
    "    y,\n",
    "    test_size=0.2,\n",
    "    val_size=0.2,\n",
    "    return_dict=True\n",
    ")\n",
    "data_splits.keys()\n",
    "\n",
    "import pandas as pd\n",
    "X_train_val = pd.concat([data_splits[\"X_train\"],data_splits[\"X_val\"]])\n",
    "y_train_val = pd.concat([data_splits[\"y_train\"],data_splits[\"y_val\"]])\n",
    "X_test = data_splits[\"X_test\"]\n",
    "y_test = data_splits[\"y_test\"]"
   ]
  },
  {
   "cell_type": "markdown",
   "metadata": {},
   "source": [
    "# Logistic Regression Cross Validation by Hand"
   ]
  },
  {
   "cell_type": "code",
   "execution_count": 11,
   "metadata": {},
   "outputs": [
    {
     "data": {
      "application/vnd.jupyter.widget-view+json": {
       "model_id": "7c5a8df0221c4fe0a4a3d80872ccfbc9",
       "version_major": 2,
       "version_minor": 0
      },
      "text/plain": [
       "  0%|          | 0/25 [00:00<?, ?it/s]"
      ]
     },
     "metadata": {},
     "output_type": "display_data"
    },
    {
     "name": "stdout",
     "output_type": "stream",
     "text": [
      "mean_opt= 0.02468091124784649 std_err_opt = 0.013484286276650489 logistic_log_loss cutoff = 0.03816519752449698\n",
      "optimal_C = 4.641588833612782\n"
     ]
    },
    {
     "data": {
      "image/png": "[encoded data removed]",
      "text/plain": [
       "<Figure size 432x288 with 1 Axes>"
      ]
     },
     "metadata": {
      "needs_background": "light"
     },
     "output_type": "display_data"
    },
    {
     "name": "stdout",
     "output_type": "stream",
     "text": [
      "\n",
      " Cross Validation Statistics\n",
      "LogisticRegression(C=4.641588833612782, max_iter=10000, penalty='l1',\n",
      "                   solver='saga') Hand optimal C = 4.641588833612782\n",
      "hand_opt_loss_val= 0.0015454532373422383\n",
      "hand_opt_loss_test= 0.00103987804200032\n",
      "\n"
     ]
    }
   ],
   "source": [
    "clf,data_splits = sklu.CV_optimal_param_1D(\n",
    "    parameter_options = dict(C = C_options),\n",
    "        data_splits=data_splits,\n",
    "        #X = X,\n",
    "        #y = y,\n",
    "\n",
    "        #parameters for the type of classifier\n",
    "        clf_function = linear_model.LogisticRegression,\n",
    "        clf_parameters = dict(\n",
    "            penalty = \"l1\",\n",
    "             solver=\"saga\",\n",
    "             max_iter=10000, ),\n",
    "\n",
    "        #arguments for loss function\n",
    "        loss_function = sklu.logistic_log_loss,\n",
    "\n",
    "        #arguments for the determination of the optimal parameter\n",
    "        standard_error_buffer = True,\n",
    "        plot_loss = True,\n",
    "\n",
    "\n",
    "        #arguments for return\n",
    "        return_data_splits = True,\n",
    "\n",
    "        verbose = True,\n",
    "    )"
   ]
  },
  {
   "cell_type": "code",
   "execution_count": 12,
   "metadata": {},
   "outputs": [
    {
     "name": "stdout",
     "output_type": "stream",
     "text": [
      "Hand Logistic Test Prediction error = 0.0\n"
     ]
    }
   ],
   "source": [
    "print(f\"Hand Logistic Test Prediction error = {sklu.MSE(clf=clf,X=X_test,y_true=y_test)}\")"
   ]
  },
  {
   "cell_type": "markdown",
   "metadata": {},
   "source": [
    "# Logistic Cross Validation Error using sklearn"
   ]
  },
  {
   "cell_type": "code",
   "execution_count": 13,
   "metadata": {},
   "outputs": [
    {
     "name": "stdout",
     "output_type": "stream",
     "text": [
      "Sklearn optimal C = [2.7825594]\n",
      "sklearn_opt_log_loss_val= 0.0018862314975650583\n",
      "sklearn_opt_log_loss_test= 0.0010175805550721667\n",
      "\n",
      "sklearn test error = 0.0\n"
     ]
    }
   ],
   "source": [
    "clf = linear_model.LogisticRegressionCV(penalty = \"l1\",\n",
    "                                     solver=\"saga\",\n",
    "                                     max_iter=10000,)\n",
    "clf.fit(X_train_val,y_train_val)\n",
    "print(f\"Sklearn optimal C = {clf.C_}\")\n",
    "sklearn_opt_log_loss_val = sklu.logistic_log_loss(clf,X=X_train_val,y_true=y_train_val)\n",
    "sklearn_opt_log_loss_test = sklu.logistic_log_loss(clf,X=X_test,y_true=y_test)\n",
    "print(f\"sklearn_opt_log_loss_val= {sklearn_opt_log_loss_val}\")\n",
    "print(f\"sklearn_opt_log_loss_test= {sklearn_opt_log_loss_test}\\n\")\n",
    "print(f\"sklearn test error = {sklu.MSE(clf=clf,X=X_test,y_true=y_test)}\")\n"
   ]
  },
  {
   "cell_type": "markdown",
   "metadata": {},
   "source": [
    "# ---- Part 2: Linear SVMs ------------"
   ]
  },
  {
   "cell_type": "code",
   "execution_count": 14,
   "metadata": {},
   "outputs": [
    {
     "data": {
      "application/vnd.jupyter.widget-view+json": {
       "model_id": "ea8bdc6574494b46a244f3dd5a3a72a8",
       "version_major": 2,
       "version_minor": 0
      },
      "text/plain": [
       "  0%|          | 0/25 [00:00<?, ?it/s]"
      ]
     },
     "metadata": {},
     "output_type": "display_data"
    },
    {
     "name": "stdout",
     "output_type": "stream",
     "text": [
      "mean_opt= 0.05172593150974107 std_err_opt = 0.008474043950652377 logistic_log_loss cutoff = 0.06019997546039345\n",
      "optimal_C = 0.0021544346900318843\n"
     ]
    },
    {
     "data": {
      "image/png": "[encoded data removed]",
      "text/plain": [
       "<Figure size 432x288 with 1 Axes>"
      ]
     },
     "metadata": {
      "needs_background": "light"
     },
     "output_type": "display_data"
    },
    {
     "name": "stdout",
     "output_type": "stream",
     "text": [
      "\n",
      " Cross Validation Statistics\n",
      "SVC(C=0.0021544346900318843, kernel='linear', probability=True) Hand optimal C = 0.0021544346900318843\n",
      "hand_opt_loss_val= 0.027687525236347387\n",
      "hand_opt_loss_test= 0.021992183187101107\n",
      "\n"
     ]
    }
   ],
   "source": [
    "clf,data_splits = sklu.CV_optimal_param_1D(\n",
    "    parameter_options = dict(C = np.array([10.**(k) for k in np.linspace(-5,2,25)])),\n",
    "    \n",
    "    data_splits=data_splits,\n",
    "    #X = X,\n",
    "    #y = y,\n",
    "\n",
    "    #parameters for the type of classifier\n",
    "    clf_function = SVC,\n",
    "    clf_parameters = dict(\n",
    "        kernel = \"linear\",\n",
    "        probability=True),\n",
    "\n",
    "    #arguments for loss function\n",
    "    loss_function = sklu.logistic_log_loss,#sklu.MSE,\n",
    "\n",
    "    #arguments for the determination of the optimal parameter\n",
    "    standard_error_buffer = True,\n",
    "    plot_loss = True,\n",
    "\n",
    "\n",
    "    #arguments for return\n",
    "    return_data_splits = True,\n",
    "\n",
    "    verbose = True,\n",
    "    )"
   ]
  },
  {
   "cell_type": "code",
   "execution_count": 15,
   "metadata": {},
   "outputs": [
    {
     "data": {
      "text/plain": [
       "0.0"
      ]
     },
     "execution_count": 15,
     "metadata": {},
     "output_type": "execute_result"
    }
   ],
   "source": [
    "sklu.MSE(clf=clf,X=X_test,y_true=y_test)"
   ]
  },
  {
   "cell_type": "markdown",
   "metadata": {},
   "source": [
    "# SVM linear kernel did not have a build in cross validation Function so could not compare!"
   ]
  }
 ],
 "metadata": {
  "kernelspec": {
   "display_name": "Python 3",
   "language": "python",
   "name": "python3"
  },
  "language_info": {
   "codemirror_mode": {
    "name": "ipython",
    "version": 3
   },
   "file_extension": ".py",
   "mimetype": "text/x-python",
   "name": "python",
   "nbconvert_exporter": "python",
   "pygments_lexer": "ipython3",
   "version": "3.6.9"
  }
 },
 "nbformat": 4,
 "nbformat_minor": 4
}
