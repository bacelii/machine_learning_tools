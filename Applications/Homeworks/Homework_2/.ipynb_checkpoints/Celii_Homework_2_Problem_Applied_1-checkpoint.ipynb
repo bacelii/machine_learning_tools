{
 "cells": [
  {
   "cell_type": "code",
   "execution_count": 1,
   "metadata": {},
   "outputs": [
    {
     "data": {
      "text/plain": [
       "'\\nWork for Applied Problem 1: \\n\\nCross-Validation.  For this problem, you can consider binary classification of\\nthe digits 3 and 8.  Code up K-fold cross-validation (from scratch) and use your \\nfunction to tune hyper-parameters for sparse logistic regression and linear SVMs. \\nPlot the cross-validation error curve along with the training and test error.  \\nCompare which hyperparameters your cross-validation procedure selects to those\\nfrom builtin  functions.   Reflect  on  your  results.   (Hint:  You  may  consider\\nusing  the  logistic  log-likelihood  or binomial deviance loss instead of the \\nmiss-classification error for this problem.)\\n'"
      ]
     },
     "execution_count": 1,
     "metadata": {},
     "output_type": "execute_result"
    }
   ],
   "source": [
    "\"\"\"\n",
    "Work for Applied Problem 1: \n",
    "\n",
    "Cross-Validation.  For this problem, you can consider binary classification of\n",
    "the digits 3 and 8.  Code up K-fold cross-validation (from scratch) and use your \n",
    "function to tune hyper-parameters for sparse logistic regression and linear SVMs. \n",
    "Plot the cross-validation error curve along with the training and test error.  \n",
    "Compare which hyperparameters your cross-validation procedure selects to those\n",
    "from builtin  functions.   Reflect  on  your  results.   (Hint:  You  may  consider\n",
    "using  the  logistic  log-likelihood  or binomial deviance loss instead of the \n",
    "miss-classification error for this problem.)\n",
    "\"\"\"\n"
   ]
  },
  {
   "cell_type": "code",
   "execution_count": 2,
   "metadata": {},
   "outputs": [],
   "source": [
    "%load_ext autoreload\n",
    "%autoreload 2"
   ]
  },
  {
   "cell_type": "code",
   "execution_count": 3,
   "metadata": {},
   "outputs": [],
   "source": [
    "from os import sys\n",
    "sys.path.append(\"../../../machine_learning_tools/\")"
   ]
  },
  {
   "cell_type": "code",
   "execution_count": 4,
   "metadata": {},
   "outputs": [],
   "source": [
    "import sklearn_utils as sklu\n",
    "import sklearn_models as sklm"
   ]
  },
  {
   "cell_type": "code",
   "execution_count": 37,
   "metadata": {},
   "outputs": [],
   "source": [
    "from sklearn.datasets import load_digits\n",
    "import numpy as np\n",
    "import matplotlib.pyplot as plt\n",
    "import pandas as pd"
   ]
  },
  {
   "cell_type": "markdown",
   "metadata": {},
   "source": [
    "# Importing the Data"
   ]
  },
  {
   "cell_type": "code",
   "execution_count": 57,
   "metadata": {
    "scrolled": true
   },
   "outputs": [
    {
     "data": {
      "image/png": "[encoded data removed]",
      "text/plain": [
       "<Figure size 720x720 with 10 Axes>"
      ]
     },
     "metadata": {
      "needs_background": "light"
     },
     "output_type": "display_data"
    }
   ],
   "source": [
    "#Load data\n",
    "n_classes = 10\n",
    "digits = load_digits(n_class=n_classes)\n",
    "X = digits.images\n",
    "y = digits.target\n",
    "n_total = X.shape[0]\n",
    "\n",
    "#Shuffle the data\n",
    "ind = np.random.permutation(n_total)\n",
    "X = X[ind,:,:]\n",
    "y = y[ind]\n",
    "\n",
    "#filtering for only the 3 and 8 digits\n",
    "three_eight_maks = (y == 3) | (y == 8)\n",
    "X = X[three_eight_maks]\n",
    "y = y[three_eight_maks]\n",
    "\n",
    "#Plot\n",
    "n_images = 10\n",
    "plt.figure(figsize=[n_images,n_images])\n",
    "for i in range(n_images):\n",
    "    plt.subplot(1,n_images,i+1)\n",
    "    plt.imshow(X[i])\n",
    "    plt.axis('off')\n",
    "    plt.title(str(y[i]))\n",
    "plt.show()"
   ]
  },
  {
   "cell_type": "code",
   "execution_count": 58,
   "metadata": {},
   "outputs": [
    {
     "data": {
      "text/plain": [
       "0      1\n",
       "1      0\n",
       "2      1\n",
       "3      0\n",
       "4      0\n",
       "      ..\n",
       "352    0\n",
       "353    1\n",
       "354    1\n",
       "355    0\n",
       "356    0\n",
       "Length: 357, dtype: int64"
      ]
     },
     "execution_count": 58,
     "metadata": {},
     "output_type": "execute_result"
    }
   ],
   "source": [
    "#reshaping data into dataframe\n",
    "X_flat = X.reshape(len(X),-1)\n",
    "X = pd.DataFrame.from_records(X_flat)\n",
    "y_ones = np.ones(len(X)).astype(\"int\")\n",
    "y_ones[y == 3] = 0\n",
    "y = pd.Series(y_ones)\n",
    "y"
   ]
  },
  {
   "cell_type": "markdown",
   "metadata": {},
   "source": [
    "# The Models that will be used"
   ]
  },
  {
   "cell_type": "code",
   "execution_count": 49,
   "metadata": {},
   "outputs": [
    {
     "data": {
      "text/plain": [
       "SVC(kernel='linear')"
      ]
     },
     "execution_count": 49,
     "metadata": {},
     "output_type": "execute_result"
    }
   ],
   "source": [
    "# sparse logistic regression\n",
    "from sklearn import linear_model\n",
    "linear_model.LogisticRegression(penalty = \"L1\")\n",
    "\n",
    "\"\"\"\n",
    "For logistic regression the C is the only hyper parameters\n",
    "C: inverse of regularization strength, smaller values are more regularized\n",
    "\"\"\"\n",
    "\n",
    "#linear svm\n",
    "from sklearn.svm import SVC\n",
    "SVC(kernel = \"linear\")\n",
    "\n",
    "\"\"\"\n",
    "Only parameter to optimize for is C, regularization \n",
    "(L2 norm pernalty)\n",
    "\"\"\""
   ]
  },
  {
   "cell_type": "code",
   "execution_count": 67,
   "metadata": {},
   "outputs": [
    {
     "data": {
      "text/plain": [
       "LogisticRegression(C=1, max_iter=10000, penalty='l1', solver='saga')"
      ]
     },
     "execution_count": 67,
     "metadata": {},
     "output_type": "execute_result"
    }
   ],
   "source": [
    "clf = linear_model.LogisticRegression(penalty = \"l1\",\n",
    "                                     solver=\"saga\",\n",
    "                                     max_iter=10000,\n",
    "                                     C = 1)\n",
    "clf.fit(X,y)"
   ]
  },
  {
   "cell_type": "code",
   "execution_count": 68,
   "metadata": {},
   "outputs": [
    {
     "data": {
      "text/plain": [
       "1.0"
      ]
     },
     "execution_count": 68,
     "metadata": {},
     "output_type": "execute_result"
    }
   ],
   "source": [
    "import visualizations_ml as vml\n",
    "clf.score(X,y)"
   ]
  },
  {
   "cell_type": "code",
   "execution_count": 69,
   "metadata": {},
   "outputs": [
    {
     "data": {
      "text/plain": [
       "LogisticRegressionCV(max_iter=10000, penalty='l1', solver='saga')"
      ]
     },
     "execution_count": 69,
     "metadata": {},
     "output_type": "execute_result"
    }
   ],
   "source": [
    "clf = linear_model.LogisticRegressionCV(penalty = \"l1\",\n",
    "                                     solver=\"saga\",\n",
    "                                     max_iter=10000)\n",
    "clf.fit(X,y)"
   ]
  },
  {
   "cell_type": "markdown",
   "metadata": {},
   "source": [
    "# Implementing K-fold Cross Validation"
   ]
  },
  {
   "cell_type": "code",
   "execution_count": 45,
   "metadata": {},
   "outputs": [
    {
     "name": "stdout",
     "output_type": "stream",
     "text": [
      "For Train/Val/Test split of None/0.2/0.2 = 213/72/72\n"
     ]
    }
   ],
   "source": [
    "n_splits = 5\n",
    "\n",
    "(X_train,\n",
    " X_val,\n",
    " X_test,\n",
    " y_train,\n",
    " y_val,\n",
    " y_test) = sklu.train_val_test_split(\n",
    "    X,\n",
    "    y,\n",
    "    test_size = 0.2,\n",
    "    val_size = 0.2,\n",
    "    verbose = True)\n",
    "\n",
    "X_train_val = pd.concat([X_train,X_val])\n",
    "y_train_val = pd.concat([y_train,y_val])\n",
    "\n",
    "fold_dfs = sklu.k_fold_df_split(\n",
    "    X_train_val,\n",
    "    y_train_val,\n",
    "    n_splits = n_splits)\n",
    "\n",
    "\n",
    "for fold_idx,fold_data in fold_dfs.items():\n",
    "#     # create and train all of the models\n",
    "#     df = fold_data[\"X_train\"],\n",
    "#             y  = fold_data[\"y_train\"],\n",
    "    \n",
    "    \n",
    "#     mse = sklu.MSE(fold_data[\"y_test\"],\n",
    "#                      model=best_model,\n",
    "#                     X=fold_data[\"X_test\"])\n",
    "    \n",
    "    "
   ]
  },
  {
   "cell_type": "code",
   "execution_count": null,
   "metadata": {},
   "outputs": [],
   "source": [
    "rfe_optimal_k,ret_df = sklu.optimal_parameter_from_mse_kfold_df(\n",
    "rfe_df,\n",
    "parameter_name = \"k\",\n",
    "columns_prefix = \"mse_fold\",\n",
    "higher_param_higher_complexity = True,\n",
    "standard_error_buffer = True,\n",
    "verbose = False,\n",
    "return_df = True\n",
    "                             )"
   ]
  }
 ],
 "metadata": {
  "kernelspec": {
   "display_name": "Python 3",
   "language": "python",
   "name": "python3"
  },
  "language_info": {
   "codemirror_mode": {
    "name": "ipython",
    "version": 3
   },
   "file_extension": ".py",
   "mimetype": "text/x-python",
   "name": "python",
   "nbconvert_exporter": "python",
   "pygments_lexer": "ipython3",
   "version": "3.6.9"
  }
 },
 "nbformat": 4,
 "nbformat_minor": 4
}
