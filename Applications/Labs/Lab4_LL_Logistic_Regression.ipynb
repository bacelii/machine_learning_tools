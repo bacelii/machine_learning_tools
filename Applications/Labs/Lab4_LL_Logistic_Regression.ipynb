{
 "cells": [
  {
   "cell_type": "code",
   "execution_count": 17,
   "metadata": {},
   "outputs": [],
   "source": [
    "from sklearn.datasets import load_digits\n",
    "from sklearn.linear_model import LogisticRegression\n",
    "import matplotlib.pyplot as plt\n",
    "import numpy as np\n",
    "import warnings"
   ]
  },
  {
   "cell_type": "markdown",
   "metadata": {},
   "source": [
    "# Loading image data"
   ]
  },
  {
   "cell_type": "code",
   "execution_count": null,
   "metadata": {},
   "outputs": [],
   "source": []
  },
  {
   "cell_type": "code",
   "execution_count": null,
   "metadata": {},
   "outputs": [],
   "source": []
  },
  {
   "cell_type": "code",
   "execution_count": 20,
   "metadata": {},
   "outputs": [
    {
     "data": {
      "image/png": "[encoded data removed]",
      "text/plain": [
       "<Figure size 720x720 with 10 Axes>"
      ]
     },
     "metadata": {
      "needs_background": "light"
     },
     "output_type": "display_data"
    }
   ],
   "source": [
    "#Load data\n",
    "n_classes = 10\n",
    "digits = load_digits(n_class=n_classes)\n",
    "X = digits.images\n",
    "y = digits.target\n",
    "n_total = X.shape[0]\n",
    "\n",
    "#Shuffle\n",
    "ind = np.random.permutation(n_total)\n",
    "X = X[ind,:,:]\n",
    "y = y[ind]\n",
    "\n",
    "#Split into train and test data\n",
    "n_test = int(n_total*.2)\n",
    "X_test = X[:n_test]\n",
    "y_test = y[:n_test]\n",
    "X = X[n_test:]\n",
    "y = y[n_test:]\n",
    "n = X.shape[0]\n",
    "\n",
    "#Plot\n",
    "n_images = 10\n",
    "plt.figure(figsize=[n_images,n_images])\n",
    "for i in range(n_images):\n",
    "    plt.subplot(1,n_images,i+1)\n",
    "    plt.imshow(X[i])\n",
    "    plt.axis('off')\n",
    "    plt.title(str(y[i]))\n",
    "plt.show()"
   ]
  },
  {
   "cell_type": "markdown",
   "metadata": {},
   "source": [
    "# Image data shape issues"
   ]
  },
  {
   "cell_type": "code",
   "execution_count": 23,
   "metadata": {
    "scrolled": false
   },
   "outputs": [],
   "source": [
    "# clf = LogisticRegression().fit(X, y)"
   ]
  },
  {
   "cell_type": "code",
   "execution_count": 22,
   "metadata": {},
   "outputs": [
    {
     "data": {
      "text/plain": [
       "(1438, 8, 8)"
      ]
     },
     "execution_count": 22,
     "metadata": {},
     "output_type": "execute_result"
    }
   ],
   "source": [
    "X.shape"
   ]
  },
  {
   "cell_type": "code",
   "execution_count": 5,
   "metadata": {},
   "outputs": [
    {
     "data": {
      "text/plain": [
       "(1438, 64)"
      ]
     },
     "execution_count": 5,
     "metadata": {},
     "output_type": "execute_result"
    }
   ],
   "source": [
    "np.reshape(X,[n,-1]).shape"
   ]
  },
  {
   "cell_type": "code",
   "execution_count": 25,
   "metadata": {},
   "outputs": [],
   "source": [
    "X = np.reshape(X,[n,-1])\n",
    "X_test = np.reshape(X_test,[n_test,-1])"
   ]
  },
  {
   "cell_type": "code",
   "execution_count": null,
   "metadata": {},
   "outputs": [],
   "source": []
  },
  {
   "cell_type": "markdown",
   "metadata": {},
   "source": [
    "# Fitting a logistic regression model"
   ]
  },
  {
   "cell_type": "markdown",
   "metadata": {},
   "source": [
    "## total number of itereations reached...."
   ]
  },
  {
   "cell_type": "code",
   "execution_count": 26,
   "metadata": {
    "scrolled": true
   },
   "outputs": [
    {
     "name": "stderr",
     "output_type": "stream",
     "text": [
      "/usr/local/lib/python3.8/dist-packages/sklearn/linear_model/_logistic.py:763: ConvergenceWarning: lbfgs failed to converge (status=1):\n",
      "STOP: TOTAL NO. of ITERATIONS REACHED LIMIT.\n",
      "\n",
      "Increase the number of iterations (max_iter) or scale the data as shown in:\n",
      "    https://scikit-learn.org/stable/modules/preprocessing.html\n",
      "Please also refer to the documentation for alternative solver options:\n",
      "    https://scikit-learn.org/stable/modules/linear_model.html#logistic-regression\n",
      "  n_iter_i = _check_optimize_result(\n"
     ]
    }
   ],
   "source": [
    "clf = LogisticRegression().fit(X, y)"
   ]
  },
  {
   "cell_type": "code",
   "execution_count": 27,
   "metadata": {},
   "outputs": [],
   "source": [
    "clf = LogisticRegression(max_iter=10000).fit(X, y)"
   ]
  },
  {
   "cell_type": "code",
   "execution_count": 28,
   "metadata": {},
   "outputs": [
    {
     "name": "stdout",
     "output_type": "stream",
     "text": [
      "Iterations to convergence = 4024\n"
     ]
    }
   ],
   "source": [
    "print('Iterations to convergence =', clf.n_iter_[0])"
   ]
  },
  {
   "cell_type": "code",
   "execution_count": 29,
   "metadata": {},
   "outputs": [
    {
     "name": "stdout",
     "output_type": "stream",
     "text": [
      "Predicted values       = [5 4 2 0 9 7 0 9 6 0 8 2 1 9 4 6 8 3 3 9]\n",
      "Actual values          = [5 4 2 0 9 7 0 9 6 0 8 2 1 9 4 6 8 3 3 9]\n",
      "Mean training accuracy = 100.0 %\n"
     ]
    }
   ],
   "source": [
    "n_predict = 20\n",
    "print('Predicted values       =', clf.predict(X[:n_predict, :]))\n",
    "print('Actual values          =', y[:n_predict])\n",
    "print('Mean training accuracy =', clf.score(X, y)*100, '%')"
   ]
  },
  {
   "cell_type": "code",
   "execution_count": 30,
   "metadata": {},
   "outputs": [
    {
     "name": "stdout",
     "output_type": "stream",
     "text": [
      "Predicted values       = [1 7 9 9 3 3 6 6 1 9 3 6 7 7 9 2 9 2 2 8]\n",
      "Actual values          = [1 7 9 9 3 3 6 6 1 9 3 6 7 7 9 2 9 2 2 8]\n",
      "Mean test accuracy     = 96.10027855153204 %\n"
     ]
    }
   ],
   "source": [
    "n_predict = 20\n",
    "print('Predicted values       =', clf.predict(X_test[:n_predict, :]))\n",
    "print('Actual values          =', y_test[:n_predict])\n",
    "print('Mean test accuracy     =', clf.score(X_test, y_test)*100, '%')"
   ]
  },
  {
   "cell_type": "code",
   "execution_count": 31,
   "metadata": {
    "scrolled": false
   },
   "outputs": [
    {
     "name": "stdout",
     "output_type": "stream",
     "text": [
      "Iterations          = 1\n",
      "Mean accuracy train = 78.6509040333797 %\n",
      "\n",
      "Iterations          = 2\n",
      "Mean accuracy train = 89.4297635605007 %\n",
      "\n",
      "Iterations          = 4\n",
      "Mean accuracy train = 91.86369958275382 %\n",
      "\n",
      "Iterations          = 8\n",
      "Mean accuracy train = 95.6884561891516 %\n",
      "\n",
      "Iterations          = 16\n",
      "Mean accuracy train = 98.53963838664812 %\n",
      "\n",
      "Iterations          = 32\n",
      "Mean accuracy train = 99.93045897079277 %\n",
      "\n",
      "Iterations          = 64\n",
      "Mean accuracy train = 100.0 %\n",
      "\n",
      "Iterations          = 128\n",
      "Mean accuracy train = 100.0 %\n",
      "\n",
      "Iterations          = 256\n",
      "Mean accuracy train = 100.0 %\n",
      "\n",
      "Iterations          = 512\n",
      "Mean accuracy train = 100.0 %\n",
      "\n",
      "Iterations          = 1024\n",
      "Mean accuracy train = 100.0 %\n",
      "\n",
      "Iterations          = 2048\n",
      "Mean accuracy train = 100.0 %\n",
      "\n"
     ]
    }
   ],
   "source": [
    "#Ignore warnings otherwise output will blow up\n",
    "with warnings.catch_warnings():\n",
    "    warnings.simplefilter(\"ignore\")\n",
    "    \n",
    "    #Check accuracy for different values of max_iter\n",
    "    iter_vals = [2**s for s in range(12)]\n",
    "    for i in iter_vals:\n",
    "        clf = LogisticRegression(max_iter=i).fit(X, y)\n",
    "        print('Iterations          =', i)\n",
    "        print('Mean accuracy train =', clf.score(X, y)*100, '%')\n",
    "        print('')"
   ]
  },
  {
   "cell_type": "markdown",
   "metadata": {},
   "source": [
    "Is doing fewer iterations better?? When is it better?"
   ]
  },
  {
   "cell_type": "markdown",
   "metadata": {},
   "source": [
    "## Prediction probabilities"
   ]
  },
  {
   "cell_type": "code",
   "execution_count": 36,
   "metadata": {
    "scrolled": false
   },
   "outputs": [
    {
     "data": {
      "image/png": "[encoded data removed]",
      "text/plain": [
       "<Figure size 288x720 with 5 Axes>"
      ]
     },
     "metadata": {
      "needs_background": "light"
     },
     "output_type": "display_data"
    }
   ],
   "source": [
    "#Train new model\n",
    "with warnings.catch_warnings():\n",
    "    warnings.simplefilter(\"ignore\")\n",
    "    clf = LogisticRegression(max_iter=1, C=1).fit(X, y)\n",
    "\n",
    "#See prediction values\n",
    "n_predictions = 5\n",
    "plt.figure(figsize=[4,2*n_predictions])\n",
    "predictions = clf.predict(X_test[:n_predictions, :])\n",
    "pred_prob = clf.predict_proba(X_test[:n_predictions, :])*100\n",
    "for i in range(n_predictions):\n",
    "    plt.subplot(n_predictions,1,i+1)\n",
    "    plt.bar(np.unique(y),pred_prob[i,:])\n",
    "    plt.ylabel( str(predictions[i]) + '  ' + str(y_test[i]) )\n",
    "plt.show()"
   ]
  },
  {
   "cell_type": "markdown",
   "metadata": {},
   "source": [
    "# Regularization"
   ]
  },
  {
   "cell_type": "code",
   "execution_count": 13,
   "metadata": {},
   "outputs": [
    {
     "data": {
      "image/png": "[encoded data removed]",
      "text/plain": [
       "<Figure size 432x288 with 1 Axes>"
      ]
     },
     "metadata": {
      "needs_background": "light"
     },
     "output_type": "display_data"
    }
   ],
   "source": [
    "#Inputs\n",
    "penalty = ['l1','l2','elasticnet','none'][0]\n",
    "c_vals = [1.0/(2.0**s) for s in range(-4,12)]\n",
    "verbose = False\n",
    "\n",
    "#Ignore warnings otherwise output will blow up\n",
    "with warnings.catch_warnings():\n",
    "    warnings.simplefilter(\"ignore\")\n",
    "    \n",
    "    #Check accuracy for different values of max_iter\n",
    "    acc_train = []\n",
    "    acc_test = []\n",
    "    for c in c_vals:\n",
    "        clf = LogisticRegression(C=c, max_iter=1000, penalty=penalty, l1_ratio=0.1, solver='saga').fit(X, y)\n",
    "        acc_train.append(clf.score(X, y)*100)\n",
    "        acc_test.append(clf.score(X_test, y_test)*100)\n",
    "        if verbose:\n",
    "            print('C                   =', c)\n",
    "            print('Mean accuracy train =', acc_train[-1], '%')\n",
    "            print('Mean accuracy test  =', acc_test[-1], '%')\n",
    "            print('')\n",
    "        \n",
    "plt.semilogx(c_vals, acc_train)\n",
    "plt.semilogx(c_vals, acc_test)\n",
    "plt.legend(['Train','Test'])\n",
    "plt.xlabel('C')\n",
    "plt.ylabel('Mean accuracy')\n",
    "plt.show()"
   ]
  },
  {
   "cell_type": "code",
   "execution_count": 14,
   "metadata": {},
   "outputs": [
    {
     "data": {
      "image/png": "[encoded data removed]",
      "text/plain": [
       "<Figure size 432x288 with 1 Axes>"
      ]
     },
     "metadata": {
      "needs_background": "light"
     },
     "output_type": "display_data"
    }
   ],
   "source": [
    "#Inputs\n",
    "penalty = ['l1','l2','elasticnet','none'][1]\n",
    "c_vals = [1.0/(2.0**s) for s in range(-4,12)]\n",
    "verbose = False\n",
    "\n",
    "#Ignore warnings otherwise output will blow up\n",
    "with warnings.catch_warnings():\n",
    "    warnings.simplefilter(\"ignore\")\n",
    "    \n",
    "    #Check accuracy for different values of max_iter\n",
    "    acc_train = []\n",
    "    acc_test = []\n",
    "    for c in c_vals:\n",
    "        clf = LogisticRegression(C=c, max_iter=1000, penalty=penalty, l1_ratio=0.1, solver='saga').fit(X, y)\n",
    "        acc_train.append(clf.score(X, y)*100)\n",
    "        acc_test.append(clf.score(X_test, y_test)*100)\n",
    "        if verbose:\n",
    "            print('C                   =', c)\n",
    "            print('Mean accuracy train =', acc_train[-1], '%')\n",
    "            print('Mean accuracy test  =', acc_test[-1], '%')\n",
    "            print('')\n",
    "        \n",
    "plt.semilogx(c_vals, acc_train)\n",
    "plt.semilogx(c_vals, acc_test)\n",
    "plt.legend(['Train','Test'])\n",
    "plt.xlabel('C')\n",
    "plt.ylabel('Mean accuracy')\n",
    "plt.show()"
   ]
  },
  {
   "cell_type": "code",
   "execution_count": 15,
   "metadata": {},
   "outputs": [
    {
     "data": {
      "image/png": "[encoded data removed]",
      "text/plain": [
       "<Figure size 432x288 with 1 Axes>"
      ]
     },
     "metadata": {
      "needs_background": "light"
     },
     "output_type": "display_data"
    }
   ],
   "source": [
    "#Inputs\n",
    "penalty = ['l1','l2','elasticnet','none'][2]\n",
    "c_vals = [1.0/(2.0**s) for s in range(-4,12)]\n",
    "verbose = False\n",
    "\n",
    "#Ignore warnings otherwise output will blow up\n",
    "with warnings.catch_warnings():\n",
    "    warnings.simplefilter(\"ignore\")\n",
    "    \n",
    "    #Check accuracy for different values of max_iter\n",
    "    acc_train = []\n",
    "    acc_test = []\n",
    "    for c in c_vals:\n",
    "        clf = LogisticRegression(C=c, max_iter=1000, penalty=penalty, l1_ratio=0.1, solver='saga').fit(X, y)\n",
    "        acc_train.append(clf.score(X, y)*100)\n",
    "        acc_test.append(clf.score(X_test, y_test)*100)\n",
    "        if verbose:\n",
    "            print('C                   =', c)\n",
    "            print('Mean accuracy train =', acc_train[-1], '%')\n",
    "            print('Mean accuracy test  =', acc_test[-1], '%')\n",
    "            print('')\n",
    "        \n",
    "plt.semilogx(c_vals, acc_train)\n",
    "plt.semilogx(c_vals, acc_test)\n",
    "plt.legend(['Train','Test'])\n",
    "plt.xlabel('C')\n",
    "plt.ylabel('Mean accuracy')\n",
    "plt.show()"
   ]
  },
  {
   "cell_type": "code",
   "execution_count": 16,
   "metadata": {},
   "outputs": [
    {
     "data": {
      "image/png": "[encoded data removed]",
      "text/plain": [
       "<Figure size 432x288 with 1 Axes>"
      ]
     },
     "metadata": {
      "needs_background": "light"
     },
     "output_type": "display_data"
    }
   ],
   "source": [
    "#Inputs\n",
    "penalty = ['l1','l2','elasticnet','none'][3]\n",
    "c_vals = [1.0/(2.0**s) for s in range(-4,12)]\n",
    "verbose = False\n",
    "\n",
    "#Ignore warnings otherwise output will blow up\n",
    "with warnings.catch_warnings():\n",
    "    warnings.simplefilter(\"ignore\")\n",
    "    \n",
    "    #Check accuracy for different values of max_iter\n",
    "    acc_train = []\n",
    "    acc_test = []\n",
    "    for c in c_vals:\n",
    "        clf = LogisticRegression(C=c, max_iter=1000, penalty=penalty, l1_ratio=0.1, solver='saga').fit(X, y)\n",
    "        acc_train.append(clf.score(X, y)*100)\n",
    "        acc_test.append(clf.score(X_test, y_test)*100)\n",
    "        if verbose:\n",
    "            print('C                   =', c)\n",
    "            print('Mean accuracy train =', acc_train[-1], '%')\n",
    "            print('Mean accuracy test  =', acc_test[-1], '%')\n",
    "            print('')\n",
    "        \n",
    "plt.semilogx(c_vals, acc_train)\n",
    "plt.semilogx(c_vals, acc_test)\n",
    "plt.legend(['Train','Test'])\n",
    "plt.xlabel('C')\n",
    "plt.ylabel('Mean accuracy')\n",
    "plt.show()"
   ]
  }
 ],
 "metadata": {
  "kernelspec": {
   "display_name": "Python 3",
   "language": "python",
   "name": "python3"
  },
  "language_info": {
   "codemirror_mode": {
    "name": "ipython",
    "version": 3
   },
   "file_extension": ".py",
   "mimetype": "text/x-python",
   "name": "python",
   "nbconvert_exporter": "python",
   "pygments_lexer": "ipython3",
   "version": "3.6.9"
  }
 },
 "nbformat": 4,
 "nbformat_minor": 5
}
