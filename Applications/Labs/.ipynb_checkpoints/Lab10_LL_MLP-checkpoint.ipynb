{
 "cells": [
  {
   "cell_type": "markdown",
   "id": "9c88690f",
   "metadata": {},
   "source": [
    "# Fully connected neural networks (MLP)"
   ]
  },
  {
   "cell_type": "markdown",
   "id": "083b20ab",
   "metadata": {},
   "source": [
    "## Architecture"
   ]
  },
  {
   "cell_type": "code",
   "execution_count": 1,
   "id": "48260d13",
   "metadata": {},
   "outputs": [],
   "source": [
    "import torch\n",
    "import torchvision\n",
    "import torchvision.transforms as transforms\n",
    "import matplotlib.pyplot as plt\n",
    "import numpy as np\n",
    "import torch.optim as optim\n",
    "import torch.nn as nn\n",
    "import torch.nn.functional as F\n",
    "\n",
    "#For GPU stuff\n",
    "import os\n",
    "os.environ[\"CUDA_DEVICE_ORDER\"] = \"PCI_BUS_ID\"\n",
    "os.environ[\"CUDA_VISIBLE_DEVICES\"] = \"7\""
   ]
  },
  {
   "cell_type": "code",
   "execution_count": 2,
   "id": "701396c9",
   "metadata": {},
   "outputs": [],
   "source": [
    "class MLP(nn.Module):\n",
    "    '''\n",
    "    Multilayer Perceptron.\n",
    "    '''\n",
    "    def __init__(self, n_hidden_layers=1, use_batchnorm=False, use_xavier=False):\n",
    "        super().__init__()\n",
    "        dims = np.linspace(32 * 32 * 3, 10, n_hidden_layers + 2, dtype=int)\n",
    "        \n",
    "        #Hidden layers\n",
    "        modules = [nn.Flatten()]\n",
    "        for i in range(n_hidden_layers):\n",
    "            modules.append(nn.Linear(dims[i], dims[i+1]))\n",
    "            if use_batchnorm:\n",
    "                modules.append(nn.BatchNorm1d(dims[i+1]))\n",
    "            modules.append(nn.ReLU())\n",
    "            \n",
    "        #Last layer\n",
    "        modules.append(nn.Linear(dims[-2], dims[-1]))\n",
    "        modules.append(torch.nn.Softmax())\n",
    "        \n",
    "        #Concatenate\n",
    "        self.layers = nn.Sequential(*modules)\n",
    "        \n",
    "        #Initialize weights\n",
    "        if use_xavier:\n",
    "            self.layers.apply(self.init_weights)\n",
    "        \n",
    "    def forward(self, x):\n",
    "        '''Forward pass'''\n",
    "        return self.layers(x)\n",
    "    \n",
    "    def init_weights(self, m):\n",
    "        if isinstance(m, nn.Linear):\n",
    "            torch.nn.init.xavier_normal_(m.weight)\n",
    "            m.bias.data.fill_(0.01)"
   ]
  },
  {
   "cell_type": "markdown",
   "id": "1682e9cd",
   "metadata": {},
   "source": [
    "### Linear model"
   ]
  },
  {
   "cell_type": "code",
   "execution_count": 3,
   "id": "43b166a7",
   "metadata": {},
   "outputs": [
    {
     "data": {
      "text/plain": [
       "MLP(\n",
       "  (layers): Sequential(\n",
       "    (0): Flatten(start_dim=1, end_dim=-1)\n",
       "    (1): Linear(in_features=3072, out_features=10, bias=True)\n",
       "    (2): Softmax(dim=None)\n",
       "  )\n",
       ")"
      ]
     },
     "execution_count": 3,
     "metadata": {},
     "output_type": "execute_result"
    }
   ],
   "source": [
    "MLP(0)"
   ]
  },
  {
   "cell_type": "markdown",
   "id": "5cf2d434",
   "metadata": {},
   "source": [
    "## 1 Hidden layer"
   ]
  },
  {
   "cell_type": "code",
   "execution_count": 4,
   "id": "c32d470c",
   "metadata": {},
   "outputs": [
    {
     "data": {
      "text/plain": [
       "MLP(\n",
       "  (layers): Sequential(\n",
       "    (0): Flatten(start_dim=1, end_dim=-1)\n",
       "    (1): Linear(in_features=3072, out_features=1541, bias=True)\n",
       "    (2): ReLU()\n",
       "    (3): Linear(in_features=1541, out_features=10, bias=True)\n",
       "    (4): Softmax(dim=None)\n",
       "  )\n",
       ")"
      ]
     },
     "execution_count": 4,
     "metadata": {},
     "output_type": "execute_result"
    }
   ],
   "source": [
    "MLP(1)"
   ]
  },
  {
   "cell_type": "markdown",
   "id": "3b25a00a",
   "metadata": {},
   "source": [
    "### 10 hidden layers"
   ]
  },
  {
   "cell_type": "code",
   "execution_count": 5,
   "id": "b4304467",
   "metadata": {},
   "outputs": [
    {
     "data": {
      "text/plain": [
       "MLP(\n",
       "  (layers): Sequential(\n",
       "    (0): Flatten(start_dim=1, end_dim=-1)\n",
       "    (1): Linear(in_features=3072, out_features=2793, bias=True)\n",
       "    (2): ReLU()\n",
       "    (3): Linear(in_features=2793, out_features=2515, bias=True)\n",
       "    (4): ReLU()\n",
       "    (5): Linear(in_features=2515, out_features=2236, bias=True)\n",
       "    (6): ReLU()\n",
       "    (7): Linear(in_features=2236, out_features=1958, bias=True)\n",
       "    (8): ReLU()\n",
       "    (9): Linear(in_features=1958, out_features=1680, bias=True)\n",
       "    (10): ReLU()\n",
       "    (11): Linear(in_features=1680, out_features=1401, bias=True)\n",
       "    (12): ReLU()\n",
       "    (13): Linear(in_features=1401, out_features=1123, bias=True)\n",
       "    (14): ReLU()\n",
       "    (15): Linear(in_features=1123, out_features=845, bias=True)\n",
       "    (16): ReLU()\n",
       "    (17): Linear(in_features=845, out_features=566, bias=True)\n",
       "    (18): ReLU()\n",
       "    (19): Linear(in_features=566, out_features=288, bias=True)\n",
       "    (20): ReLU()\n",
       "    (21): Linear(in_features=288, out_features=10, bias=True)\n",
       "    (22): Softmax(dim=None)\n",
       "  )\n",
       ")"
      ]
     },
     "execution_count": 5,
     "metadata": {},
     "output_type": "execute_result"
    }
   ],
   "source": [
    "MLP(10)"
   ]
  },
  {
   "cell_type": "markdown",
   "id": "388ac7c7",
   "metadata": {},
   "source": [
    "# 10 hidden layers with batchnorm"
   ]
  },
  {
   "cell_type": "code",
   "execution_count": 6,
   "id": "04e9a299",
   "metadata": {},
   "outputs": [
    {
     "data": {
      "text/plain": [
       "MLP(\n",
       "  (layers): Sequential(\n",
       "    (0): Flatten(start_dim=1, end_dim=-1)\n",
       "    (1): Linear(in_features=3072, out_features=2793, bias=True)\n",
       "    (2): BatchNorm1d(2793, eps=1e-05, momentum=0.1, affine=True, track_running_stats=True)\n",
       "    (3): ReLU()\n",
       "    (4): Linear(in_features=2793, out_features=2515, bias=True)\n",
       "    (5): BatchNorm1d(2515, eps=1e-05, momentum=0.1, affine=True, track_running_stats=True)\n",
       "    (6): ReLU()\n",
       "    (7): Linear(in_features=2515, out_features=2236, bias=True)\n",
       "    (8): BatchNorm1d(2236, eps=1e-05, momentum=0.1, affine=True, track_running_stats=True)\n",
       "    (9): ReLU()\n",
       "    (10): Linear(in_features=2236, out_features=1958, bias=True)\n",
       "    (11): BatchNorm1d(1958, eps=1e-05, momentum=0.1, affine=True, track_running_stats=True)\n",
       "    (12): ReLU()\n",
       "    (13): Linear(in_features=1958, out_features=1680, bias=True)\n",
       "    (14): BatchNorm1d(1680, eps=1e-05, momentum=0.1, affine=True, track_running_stats=True)\n",
       "    (15): ReLU()\n",
       "    (16): Linear(in_features=1680, out_features=1401, bias=True)\n",
       "    (17): BatchNorm1d(1401, eps=1e-05, momentum=0.1, affine=True, track_running_stats=True)\n",
       "    (18): ReLU()\n",
       "    (19): Linear(in_features=1401, out_features=1123, bias=True)\n",
       "    (20): BatchNorm1d(1123, eps=1e-05, momentum=0.1, affine=True, track_running_stats=True)\n",
       "    (21): ReLU()\n",
       "    (22): Linear(in_features=1123, out_features=845, bias=True)\n",
       "    (23): BatchNorm1d(845, eps=1e-05, momentum=0.1, affine=True, track_running_stats=True)\n",
       "    (24): ReLU()\n",
       "    (25): Linear(in_features=845, out_features=566, bias=True)\n",
       "    (26): BatchNorm1d(566, eps=1e-05, momentum=0.1, affine=True, track_running_stats=True)\n",
       "    (27): ReLU()\n",
       "    (28): Linear(in_features=566, out_features=288, bias=True)\n",
       "    (29): BatchNorm1d(288, eps=1e-05, momentum=0.1, affine=True, track_running_stats=True)\n",
       "    (30): ReLU()\n",
       "    (31): Linear(in_features=288, out_features=10, bias=True)\n",
       "    (32): Softmax(dim=None)\n",
       "  )\n",
       ")"
      ]
     },
     "execution_count": 6,
     "metadata": {},
     "output_type": "execute_result"
    }
   ],
   "source": [
    "MLP(10,True)"
   ]
  },
  {
   "cell_type": "markdown",
   "id": "9893b8ca",
   "metadata": {},
   "source": [
    "## Training"
   ]
  },
  {
   "cell_type": "code",
   "execution_count": 7,
   "id": "9fa35f7e",
   "metadata": {},
   "outputs": [],
   "source": [
    "#High level inputs\n",
    "use_gpu         = True\n",
    "seed            = 0\n",
    "\n",
    "#Training inputs\n",
    "batch_size      = 32\n",
    "n_epochs        = 1\n",
    "step_size       = 0.01\n",
    "momentum        = 0.9\n",
    "\n",
    "#Network architecture inputs\n",
    "n_hidden_layers = 0\n",
    "use_batchnorm   = False\n",
    "use_xavier      = False\n",
    "net             = MLP(n_hidden_layers, use_batchnorm, use_xavier)\n",
    "\n",
    "#Visualization inputs\n",
    "show_loss_every = 100"
   ]
  },
  {
   "cell_type": "code",
   "execution_count": 8,
   "id": "bf113280",
   "metadata": {},
   "outputs": [
    {
     "data": {
      "text/plain": [
       "<torch._C.Generator at 0x7f82e090f7f0>"
      ]
     },
     "execution_count": 8,
     "metadata": {},
     "output_type": "execute_result"
    }
   ],
   "source": [
    "#Set the seed\n",
    "np.random.seed(seed)\n",
    "torch.manual_seed(seed)"
   ]
  },
  {
   "cell_type": "code",
   "execution_count": 9,
   "id": "c71c68f4",
   "metadata": {},
   "outputs": [
    {
     "name": "stdout",
     "output_type": "stream",
     "text": [
      "Files already downloaded and verified\n",
      "Files already downloaded and verified\n"
     ]
    }
   ],
   "source": [
    "def load_data(batch_size, root='./data', num_workers=2):\n",
    "    #Load in the data\n",
    "    transform = transforms.Compose(\n",
    "        [transforms.ToTensor(),\n",
    "         transforms.Normalize((0.5, 0.5, 0.5), (0.5, 0.5, 0.5))])\n",
    "\n",
    "    #Training data\n",
    "    trainset = torchvision.datasets.CIFAR10(root=root, train=True,\n",
    "                                            download=True, transform=transform)\n",
    "    trainloader = torch.utils.data.DataLoader(trainset, batch_size=batch_size,\n",
    "                                              shuffle=True, num_workers=num_workers)\n",
    "\n",
    "    #Testing data\n",
    "    testset = torchvision.datasets.CIFAR10(root=root, train=False,\n",
    "                                           download=True, transform=transform)\n",
    "    testloader = torch.utils.data.DataLoader(testset, batch_size=batch_size,\n",
    "                                             shuffle=False, num_workers=num_workers)\n",
    "    #Classes\n",
    "    classes = ('plane', 'car', 'bird', 'cat',\n",
    "               'deer', 'dog', 'frog', 'horse', 'ship', 'truck')\n",
    "    return trainloader, testloader, classes\n",
    "\n",
    "trainloader, testloader, classes = load_data(batch_size)"
   ]
  },
  {
   "cell_type": "code",
   "execution_count": 10,
   "id": "f2b40371",
   "metadata": {},
   "outputs": [
    {
     "data": {
      "image/png": "[encoded data removed]",
      "text/plain": [
       "<Figure size 432x288 with 1 Axes>"
      ]
     },
     "metadata": {
      "needs_background": "light"
     },
     "output_type": "display_data"
    },
    {
     "name": "stdout",
     "output_type": "stream",
     "text": [
      "plane\n",
      "car\n",
      "bird\n",
      "cat\n",
      "deer\n",
      "dog\n",
      "frog\n",
      "horse\n",
      "ship\n",
      "truck\n"
     ]
    }
   ],
   "source": [
    "#Display some images\n",
    "\n",
    "# function to show an image\n",
    "def imshow(img):\n",
    "    img = img / 2 + 0.5     # unnormalize\n",
    "    npimg = img.numpy()\n",
    "    plt.imshow(np.transpose(npimg, (1, 2, 0)))\n",
    "    plt.show()\n",
    "\n",
    "# get some random training images\n",
    "dataiter = iter(trainloader)\n",
    "images, labels = dataiter.next()\n",
    "\n",
    "# show images\n",
    "imshow(torchvision.utils.make_grid(images))\n",
    "\n",
    "# print labels\n",
    "for a in classes:\n",
    "    print(a)"
   ]
  },
  {
   "cell_type": "code",
   "execution_count": null,
   "id": "d08901a6",
   "metadata": {},
   "outputs": [],
   "source": []
  },
  {
   "cell_type": "code",
   "execution_count": 11,
   "id": "a9517593",
   "metadata": {
    "scrolled": false
   },
   "outputs": [],
   "source": [
    "def train(net, n_epochs, trainloader, use_gpu, step_size, momentum, show_loss_every):\n",
    "    if use_gpu:\n",
    "        net = net.cuda()\n",
    "\n",
    "    criterion = nn.CrossEntropyLoss()\n",
    "    optimizer = optim.SGD(net.parameters(), lr=step_size, momentum=momentum)\n",
    "\n",
    "    for epoch in range(n_epochs):  # loop over the dataset multiple times\n",
    "\n",
    "        running_loss = 0.0\n",
    "        for i, data in enumerate(trainloader, 0):\n",
    "            # get the inputs; data is a list of [inputs, labels]\n",
    "            inputs, labels = data\n",
    "            if use_gpu:\n",
    "                inputs = inputs.cuda()\n",
    "                labels = labels.cuda()\n",
    "\n",
    "            # zero the parameter gradients\n",
    "            optimizer.zero_grad()\n",
    "\n",
    "            # forward + backward + optimize\n",
    "            outputs = net(inputs)\n",
    "            loss = criterion(outputs, labels)\n",
    "            loss.backward()  #Actually calculate gradient\n",
    "            optimizer.step() #Update the weights\n",
    "\n",
    "            # print statistics\n",
    "            running_loss += loss.item()\n",
    "            if (i+1) % show_loss_every == 0:    # print every show_loss_every mini-batches\n",
    "                print('[%d, %5d] loss: %.3f' %\n",
    "                      (epoch + 1, i + 1, running_loss / show_loss_every))\n",
    "                running_loss = 0.0\n",
    "                \n",
    "    return net"
   ]
  },
  {
   "cell_type": "code",
   "execution_count": 12,
   "id": "da9bb691",
   "metadata": {},
   "outputs": [],
   "source": [
    "#Calculate test error\n",
    "def test(net, testloader, use_gpu):\n",
    "    net.eval()\n",
    "\n",
    "    correct = 0\n",
    "    total = 0\n",
    "    # since we're not training, we don't need to calculate the gradients for our outputs\n",
    "    with torch.no_grad():\n",
    "        for data in testloader:\n",
    "            #Load data\n",
    "            images, labels = data\n",
    "            if use_gpu:\n",
    "                images = images.cuda()\n",
    "                labels = labels.cuda()\n",
    "\n",
    "            # calculate outputs by running images through the network\n",
    "            outputs = net(images)\n",
    "\n",
    "            # the class with the highest energy is what we choose as prediction\n",
    "            _, predicted = torch.max(outputs.data, 1)\n",
    "            total += labels.size(0)\n",
    "            correct += (predicted == labels).sum().item()\n",
    "\n",
    "    print('Accuracy of the network on the 10000 test images: %d %%' % (\n",
    "        100 * correct / total))\n",
    "    print('Accuracy of random guessing:                      %d %%' % (\n",
    "        10))\n",
    "    return\n"
   ]
  },
  {
   "cell_type": "code",
   "execution_count": 57,
   "id": "686e9166",
   "metadata": {},
   "outputs": [
    {
     "name": "stdout",
     "output_type": "stream",
     "text": [
      "[1,   100] loss: 2.206\n",
      "[1,   200] loss: 2.144\n",
      "[1,   300] loss: 2.104\n",
      "[1,   400] loss: 2.114\n",
      "[1,   500] loss: 2.108\n",
      "[1,   600] loss: 2.089\n",
      "[1,   700] loss: 2.088\n",
      "[1,   800] loss: 2.091\n",
      "[1,   900] loss: 2.081\n",
      "[1,  1000] loss: 2.080\n",
      "[1,  1100] loss: 2.070\n",
      "[1,  1200] loss: 2.071\n",
      "[1,  1300] loss: 2.078\n",
      "[1,  1400] loss: 2.073\n",
      "[1,  1500] loss: 2.064\n",
      "Accuracy of the network on the 10000 test images: 39 %\n",
      "Accuracy of random guessing:                      10 %\n"
     ]
    }
   ],
   "source": [
    "net = train(net, n_epochs, trainloader, use_gpu, step_size, momentum, show_loss_every)\n",
    "test(net, testloader, use_gpu)"
   ]
  },
  {
   "cell_type": "markdown",
   "id": "7292537c",
   "metadata": {},
   "source": [
    "## Results as you increase layers"
   ]
  },
  {
   "cell_type": "markdown",
   "id": "e56d6fee",
   "metadata": {},
   "source": [
    "#### 1 hidden layer"
   ]
  },
  {
   "cell_type": "code",
   "execution_count": 13,
   "id": "343a47a0",
   "metadata": {},
   "outputs": [
    {
     "name": "stderr",
     "output_type": "stream",
     "text": [
      "/usr/local/lib/python3.8/dist-packages/torch/nn/modules/container.py:139: UserWarning: Implicit dimension choice for softmax has been deprecated. Change the call to include dim=X as an argument.\n",
      "  input = module(input)\n"
     ]
    },
    {
     "name": "stdout",
     "output_type": "stream",
     "text": [
      "[1,   100] loss: 2.265\n",
      "[1,   200] loss: 2.214\n",
      "[1,   300] loss: 2.155\n",
      "[1,   400] loss: 2.137\n",
      "[1,   500] loss: 2.115\n",
      "[1,   600] loss: 2.112\n",
      "[1,   700] loss: 2.093\n",
      "[1,   800] loss: 2.093\n",
      "[1,   900] loss: 2.087\n",
      "[1,  1000] loss: 2.069\n",
      "[1,  1100] loss: 2.077\n",
      "[1,  1200] loss: 2.074\n",
      "[1,  1300] loss: 2.056\n",
      "[1,  1400] loss: 2.068\n",
      "[1,  1500] loss: 2.044\n",
      "Accuracy of the network on the 10000 test images: 40 %\n",
      "Accuracy of random guessing:                      10 %\n"
     ]
    }
   ],
   "source": [
    "#Network architecture inputs\n",
    "n_hidden_layers = 1\n",
    "use_batchnorm   = False\n",
    "use_xavier      = False\n",
    "net             = MLP(n_hidden_layers, use_batchnorm, use_xavier)\n",
    "\n",
    "net = train(net, n_epochs, trainloader, use_gpu, step_size, momentum, show_loss_every)\n",
    "test(net, testloader, use_gpu)"
   ]
  },
  {
   "cell_type": "markdown",
   "id": "20cff0ff",
   "metadata": {},
   "source": [
    "#### 5 hidden layers"
   ]
  },
  {
   "cell_type": "code",
   "execution_count": 59,
   "id": "3ba6a677",
   "metadata": {},
   "outputs": [
    {
     "name": "stdout",
     "output_type": "stream",
     "text": [
      "[1,   100] loss: 2.303\n",
      "[1,   200] loss: 2.302\n",
      "[1,   300] loss: 2.302\n",
      "[1,   400] loss: 2.302\n",
      "[1,   500] loss: 2.302\n",
      "[1,   600] loss: 2.302\n",
      "[1,   700] loss: 2.302\n",
      "[1,   800] loss: 2.302\n",
      "[1,   900] loss: 2.301\n",
      "[1,  1000] loss: 2.301\n",
      "[1,  1100] loss: 2.301\n",
      "[1,  1200] loss: 2.300\n",
      "[1,  1300] loss: 2.298\n",
      "[1,  1400] loss: 2.294\n",
      "[1,  1500] loss: 2.282\n",
      "Accuracy of the network on the 10000 test images: 19 %\n",
      "Accuracy of random guessing:                      10 %\n"
     ]
    }
   ],
   "source": [
    "#Network architecture inputs\n",
    "n_hidden_layers = 5\n",
    "use_batchnorm   = False\n",
    "use_xavier      = False\n",
    "net             = MLP(n_hidden_layers, use_batchnorm, use_xavier)\n",
    "\n",
    "net = train(net, n_epochs, trainloader, use_gpu, step_size, momentum, show_loss_every)\n",
    "test(net, testloader, use_gpu)"
   ]
  },
  {
   "cell_type": "markdown",
   "id": "6b236705",
   "metadata": {},
   "source": [
    "#### 10 hidden layers"
   ]
  },
  {
   "cell_type": "code",
   "execution_count": 60,
   "id": "3def8be2",
   "metadata": {},
   "outputs": [
    {
     "name": "stdout",
     "output_type": "stream",
     "text": [
      "[1,   100] loss: 2.303\n",
      "[1,   200] loss: 2.303\n",
      "[1,   300] loss: 2.303\n",
      "[1,   400] loss: 2.303\n",
      "[1,   500] loss: 2.303\n",
      "[1,   600] loss: 2.303\n",
      "[1,   700] loss: 2.303\n",
      "[1,   800] loss: 2.303\n",
      "[1,   900] loss: 2.303\n",
      "[1,  1000] loss: 2.303\n",
      "[1,  1100] loss: 2.303\n",
      "[1,  1200] loss: 2.303\n",
      "[1,  1300] loss: 2.302\n",
      "[1,  1400] loss: 2.303\n",
      "[1,  1500] loss: 2.303\n",
      "Accuracy of the network on the 10000 test images: 10 %\n",
      "Accuracy of random guessing:                      10 %\n"
     ]
    }
   ],
   "source": [
    "#Network architecture inputs\n",
    "n_hidden_layers = 10\n",
    "use_batchnorm   = False\n",
    "use_xavier      = False\n",
    "net             = MLP(n_hidden_layers, use_batchnorm, use_xavier)\n",
    "\n",
    "net = train(net, n_epochs, trainloader, use_gpu, step_size, momentum, show_loss_every)\n",
    "test(net, testloader, use_gpu)"
   ]
  },
  {
   "cell_type": "markdown",
   "id": "6970fb76",
   "metadata": {},
   "source": [
    "#### What is going on?????? Isn't deeper better?????"
   ]
  },
  {
   "cell_type": "code",
   "execution_count": null,
   "id": "223ea393",
   "metadata": {},
   "outputs": [],
   "source": []
  },
  {
   "cell_type": "code",
   "execution_count": null,
   "id": "4a5e001e",
   "metadata": {},
   "outputs": [],
   "source": []
  },
  {
   "cell_type": "code",
   "execution_count": null,
   "id": "c968418f",
   "metadata": {},
   "outputs": [],
   "source": []
  },
  {
   "cell_type": "code",
   "execution_count": null,
   "id": "3f4a7c30",
   "metadata": {},
   "outputs": [],
   "source": []
  },
  {
   "cell_type": "code",
   "execution_count": null,
   "id": "987a947d",
   "metadata": {},
   "outputs": [],
   "source": []
  },
  {
   "cell_type": "code",
   "execution_count": null,
   "id": "6a1aecac",
   "metadata": {},
   "outputs": [],
   "source": []
  },
  {
   "cell_type": "code",
   "execution_count": null,
   "id": "b641990f",
   "metadata": {},
   "outputs": [],
   "source": []
  },
  {
   "cell_type": "code",
   "execution_count": null,
   "id": "aca90583",
   "metadata": {},
   "outputs": [],
   "source": []
  },
  {
   "cell_type": "code",
   "execution_count": null,
   "id": "baf704b3",
   "metadata": {},
   "outputs": [],
   "source": []
  },
  {
   "cell_type": "markdown",
   "id": "d5054cd3",
   "metadata": {},
   "source": [
    "#### Batch norm helps... A LOT"
   ]
  },
  {
   "cell_type": "code",
   "execution_count": 13,
   "id": "366d1a20",
   "metadata": {},
   "outputs": [
    {
     "name": "stderr",
     "output_type": "stream",
     "text": [
      "/usr/local/lib/python3.8/dist-packages/torch/nn/modules/container.py:139: UserWarning: Implicit dimension choice for softmax has been deprecated. Change the call to include dim=X as an argument.\n",
      "  input = module(input)\n"
     ]
    },
    {
     "name": "stdout",
     "output_type": "stream",
     "text": [
      "[1,   100] loss: 2.235\n",
      "[1,   200] loss: 2.146\n",
      "[1,   300] loss: 2.149\n",
      "[1,   400] loss: 2.135\n",
      "[1,   500] loss: 2.115\n",
      "[1,   600] loss: 2.132\n",
      "[1,   700] loss: 2.125\n",
      "[1,   800] loss: 2.112\n",
      "[1,   900] loss: 2.117\n",
      "[1,  1000] loss: 2.096\n",
      "[1,  1100] loss: 2.102\n",
      "[1,  1200] loss: 2.104\n",
      "[1,  1300] loss: 2.121\n",
      "[1,  1400] loss: 2.097\n",
      "[1,  1500] loss: 2.110\n",
      "Accuracy of the network on the 10000 test images: 36 %\n",
      "Accuracy of random guessing:                      10 %\n"
     ]
    }
   ],
   "source": [
    "#Network architecture inputs\n",
    "n_hidden_layers = 10\n",
    "use_batchnorm   = True\n",
    "use_xavier      = False\n",
    "net             = MLP(n_hidden_layers, use_batchnorm, use_xavier)\n",
    "\n",
    "net = train(net, n_epochs, trainloader, use_gpu, step_size, momentum, show_loss_every)\n",
    "test(net, testloader, use_gpu)"
   ]
  },
  {
   "cell_type": "markdown",
   "id": "31508bea",
   "metadata": {},
   "source": [
    "#### Using a good initialization also helps"
   ]
  },
  {
   "cell_type": "code",
   "execution_count": 14,
   "id": "4fd6f4e7",
   "metadata": {},
   "outputs": [
    {
     "name": "stdout",
     "output_type": "stream",
     "text": [
      "[1,   100] loss: 2.301\n",
      "[1,   200] loss: 2.287\n",
      "[1,   300] loss: 2.234\n",
      "[1,   400] loss: 2.196\n",
      "[1,   500] loss: 2.169\n",
      "[1,   600] loss: 2.161\n",
      "[1,   700] loss: 2.160\n",
      "[1,   800] loss: 2.139\n",
      "[1,   900] loss: 2.142\n",
      "[1,  1000] loss: 2.124\n",
      "[1,  1100] loss: 2.127\n",
      "[1,  1200] loss: 2.116\n",
      "[1,  1300] loss: 2.127\n",
      "[1,  1400] loss: 2.127\n",
      "[1,  1500] loss: 2.085\n",
      "Accuracy of the network on the 10000 test images: 34 %\n",
      "Accuracy of random guessing:                      10 %\n"
     ]
    }
   ],
   "source": [
    "#Network architecture inputs\n",
    "n_hidden_layers = 10\n",
    "use_batchnorm   = False\n",
    "use_xavier      = True\n",
    "net             = MLP(n_hidden_layers, use_batchnorm, use_xavier)\n",
    "\n",
    "net = train(net, n_epochs, trainloader, use_gpu, step_size, momentum, show_loss_every)\n",
    "test(net, testloader, use_gpu)"
   ]
  },
  {
   "cell_type": "markdown",
   "id": "ca383392",
   "metadata": {},
   "source": [
    "#### We can also train for a long time and do better, obviously"
   ]
  },
  {
   "cell_type": "code",
   "execution_count": 9,
   "id": "c0fb30d1",
   "metadata": {
    "scrolled": false
   },
   "outputs": [
    {
     "name": "stderr",
     "output_type": "stream",
     "text": [
      "/usr/local/lib/python3.8/dist-packages/torch/nn/modules/container.py:139: UserWarning: Implicit dimension choice for softmax has been deprecated. Change the call to include dim=X as an argument.\n",
      "  input = module(input)\n"
     ]
    },
    {
     "name": "stdout",
     "output_type": "stream",
     "text": [
      "[1,   100] loss: 2.293\n",
      "[1,   200] loss: 2.246\n",
      "[1,   300] loss: 2.208\n",
      "[1,   400] loss: 2.177\n",
      "[1,   500] loss: 2.157\n",
      "[1,   600] loss: 2.154\n",
      "[1,   700] loss: 2.135\n",
      "[1,   800] loss: 2.114\n",
      "[1,   900] loss: 2.110\n",
      "[1,  1000] loss: 2.109\n",
      "[1,  1100] loss: 2.109\n",
      "[1,  1200] loss: 2.098\n",
      "[1,  1300] loss: 2.094\n",
      "[1,  1400] loss: 2.082\n",
      "[1,  1500] loss: 2.089\n",
      "[2,   100] loss: 2.061\n",
      "[2,   200] loss: 2.055\n",
      "[2,   300] loss: 2.051\n",
      "[2,   400] loss: 2.050\n",
      "[2,   500] loss: 2.058\n",
      "[2,   600] loss: 2.050\n",
      "[2,   700] loss: 2.050\n",
      "[2,   800] loss: 2.049\n",
      "[2,   900] loss: 2.039\n",
      "[2,  1000] loss: 2.025\n",
      "[2,  1100] loss: 2.044\n",
      "[2,  1200] loss: 2.028\n",
      "[2,  1300] loss: 2.036\n",
      "[2,  1400] loss: 2.028\n",
      "[2,  1500] loss: 2.028\n",
      "[3,   100] loss: 2.021\n",
      "[3,   200] loss: 1.997\n",
      "[3,   300] loss: 1.995\n",
      "[3,   400] loss: 2.006\n",
      "[3,   500] loss: 1.998\n",
      "[3,   600] loss: 1.999\n",
      "[3,   700] loss: 2.017\n",
      "[3,   800] loss: 2.006\n",
      "[3,   900] loss: 1.991\n",
      "[3,  1000] loss: 1.998\n",
      "[3,  1100] loss: 1.996\n",
      "[3,  1200] loss: 2.005\n",
      "[3,  1300] loss: 1.993\n",
      "[3,  1400] loss: 1.992\n",
      "[3,  1500] loss: 1.998\n",
      "[4,   100] loss: 1.965\n",
      "[4,   200] loss: 1.975\n",
      "[4,   300] loss: 1.966\n",
      "[4,   400] loss: 1.965\n",
      "[4,   500] loss: 1.968\n",
      "[4,   600] loss: 1.966\n",
      "[4,   700] loss: 1.986\n",
      "[4,   800] loss: 1.986\n",
      "[4,   900] loss: 1.966\n",
      "[4,  1000] loss: 1.977\n",
      "[4,  1100] loss: 1.969\n",
      "[4,  1200] loss: 1.976\n",
      "[4,  1300] loss: 1.973\n",
      "[4,  1400] loss: 1.975\n",
      "[4,  1500] loss: 1.977\n",
      "[5,   100] loss: 1.945\n",
      "[5,   200] loss: 1.953\n",
      "[5,   300] loss: 1.946\n",
      "[5,   400] loss: 1.955\n",
      "[5,   500] loss: 1.945\n",
      "[5,   600] loss: 1.940\n",
      "[5,   700] loss: 1.933\n",
      "[5,   800] loss: 1.932\n",
      "[5,   900] loss: 1.958\n",
      "[5,  1000] loss: 1.951\n",
      "[5,  1100] loss: 1.953\n",
      "[5,  1200] loss: 1.955\n",
      "[5,  1300] loss: 1.951\n",
      "[5,  1400] loss: 1.954\n",
      "[5,  1500] loss: 1.952\n",
      "[6,   100] loss: 1.913\n",
      "[6,   200] loss: 1.926\n",
      "[6,   300] loss: 1.915\n",
      "[6,   400] loss: 1.929\n",
      "[6,   500] loss: 1.933\n",
      "[6,   600] loss: 1.931\n",
      "[6,   700] loss: 1.924\n",
      "[6,   800] loss: 1.929\n",
      "[6,   900] loss: 1.922\n",
      "[6,  1000] loss: 1.930\n",
      "[6,  1100] loss: 1.934\n",
      "[6,  1200] loss: 1.927\n",
      "[6,  1300] loss: 1.933\n",
      "[6,  1400] loss: 1.929\n",
      "[6,  1500] loss: 1.937\n",
      "[7,   100] loss: 1.905\n",
      "[7,   200] loss: 1.896\n",
      "[7,   300] loss: 1.902\n",
      "[7,   400] loss: 1.897\n",
      "[7,   500] loss: 1.903\n",
      "[7,   600] loss: 1.913\n",
      "[7,   700] loss: 1.907\n",
      "[7,   800] loss: 1.913\n",
      "[7,   900] loss: 1.916\n",
      "[7,  1000] loss: 1.919\n",
      "[7,  1100] loss: 1.905\n",
      "[7,  1200] loss: 1.916\n",
      "[7,  1300] loss: 1.912\n",
      "[7,  1400] loss: 1.908\n",
      "[7,  1500] loss: 1.910\n",
      "[8,   100] loss: 1.898\n",
      "[8,   200] loss: 1.895\n",
      "[8,   300] loss: 1.882\n",
      "[8,   400] loss: 1.891\n",
      "[8,   500] loss: 1.890\n",
      "[8,   600] loss: 1.894\n",
      "[8,   700] loss: 1.887\n",
      "[8,   800] loss: 1.906\n",
      "[8,   900] loss: 1.903\n",
      "[8,  1000] loss: 1.893\n",
      "[8,  1100] loss: 1.903\n",
      "[8,  1200] loss: 1.900\n",
      "[8,  1300] loss: 1.898\n",
      "[8,  1400] loss: 1.895\n",
      "[8,  1500] loss: 1.898\n",
      "[9,   100] loss: 1.860\n",
      "[9,   200] loss: 1.875\n",
      "[9,   300] loss: 1.874\n",
      "[9,   400] loss: 1.887\n",
      "[9,   500] loss: 1.889\n",
      "[9,   600] loss: 1.878\n",
      "[9,   700] loss: 1.864\n",
      "[9,   800] loss: 1.882\n",
      "[9,   900] loss: 1.887\n",
      "[9,  1000] loss: 1.884\n",
      "[9,  1100] loss: 1.881\n",
      "[9,  1200] loss: 1.878\n",
      "[9,  1300] loss: 1.896\n",
      "[9,  1400] loss: 1.900\n",
      "[9,  1500] loss: 1.885\n",
      "[10,   100] loss: 1.861\n",
      "[10,   200] loss: 1.868\n",
      "[10,   300] loss: 1.866\n",
      "[10,   400] loss: 1.878\n",
      "[10,   500] loss: 1.882\n",
      "[10,   600] loss: 1.859\n",
      "[10,   700] loss: 1.867\n",
      "[10,   800] loss: 1.877\n",
      "[10,   900] loss: 1.857\n",
      "[10,  1000] loss: 1.856\n",
      "[10,  1100] loss: 1.882\n",
      "[10,  1200] loss: 1.871\n",
      "[10,  1300] loss: 1.867\n",
      "[10,  1400] loss: 1.883\n",
      "[10,  1500] loss: 1.871\n",
      "Accuracy of the network on the 10000 test images: 51 %\n",
      "Accuracy of random guessing:                      10 %\n"
     ]
    }
   ],
   "source": [
    "#Training inputs\n",
    "n_epochs        = 10\n",
    "step_size       = 0.001\n",
    "\n",
    "#Network architecture inputs\n",
    "n_hidden_layers = 10\n",
    "use_batchnorm   = True\n",
    "use_xavier      = True\n",
    "net             = MLP(n_hidden_layers, use_batchnorm, use_xavier)\n",
    "\n",
    "net = train(net, n_epochs, trainloader, use_gpu, step_size, momentum, show_loss_every)\n",
    "test(net, testloader, use_gpu)"
   ]
  },
  {
   "cell_type": "markdown",
   "id": "41320555",
   "metadata": {},
   "source": [
    "#### Why aren't we doing any better?"
   ]
  },
  {
   "cell_type": "code",
   "execution_count": null,
   "id": "b0a4f34a",
   "metadata": {},
   "outputs": [],
   "source": []
  },
  {
   "cell_type": "code",
   "execution_count": null,
   "id": "9ae01b42",
   "metadata": {},
   "outputs": [],
   "source": []
  },
  {
   "cell_type": "code",
   "execution_count": null,
   "id": "c32c2b28",
   "metadata": {},
   "outputs": [],
   "source": []
  },
  {
   "cell_type": "code",
   "execution_count": null,
   "id": "d91b54a2",
   "metadata": {},
   "outputs": [],
   "source": []
  },
  {
   "cell_type": "code",
   "execution_count": null,
   "id": "ce69de8f",
   "metadata": {},
   "outputs": [],
   "source": []
  },
  {
   "cell_type": "code",
   "execution_count": null,
   "id": "9b6a09a3",
   "metadata": {},
   "outputs": [],
   "source": []
  },
  {
   "cell_type": "code",
   "execution_count": null,
   "id": "4e658b7d",
   "metadata": {},
   "outputs": [],
   "source": []
  },
  {
   "cell_type": "code",
   "execution_count": null,
   "id": "d3036854",
   "metadata": {},
   "outputs": [],
   "source": []
  },
  {
   "cell_type": "code",
   "execution_count": null,
   "id": "cf1e2743",
   "metadata": {},
   "outputs": [],
   "source": []
  },
  {
   "cell_type": "code",
   "execution_count": null,
   "id": "7c5f2427",
   "metadata": {},
   "outputs": [],
   "source": []
  },
  {
   "cell_type": "code",
   "execution_count": null,
   "id": "4babad4e",
   "metadata": {},
   "outputs": [],
   "source": []
  },
  {
   "cell_type": "code",
   "execution_count": null,
   "id": "09c03dc0",
   "metadata": {},
   "outputs": [],
   "source": []
  },
  {
   "cell_type": "code",
   "execution_count": null,
   "id": "467090d0",
   "metadata": {},
   "outputs": [],
   "source": []
  },
  {
   "cell_type": "code",
   "execution_count": null,
   "id": "d0178251",
   "metadata": {},
   "outputs": [],
   "source": []
  },
  {
   "cell_type": "code",
   "execution_count": null,
   "id": "f2df98f8",
   "metadata": {},
   "outputs": [],
   "source": []
  },
  {
   "cell_type": "code",
   "execution_count": null,
   "id": "1f26edca",
   "metadata": {},
   "outputs": [],
   "source": []
  },
  {
   "cell_type": "code",
   "execution_count": null,
   "id": "3e0e8dd0",
   "metadata": {},
   "outputs": [],
   "source": []
  },
  {
   "cell_type": "markdown",
   "id": "bd497fdc",
   "metadata": {},
   "source": [
    "# WE WILL FIND OUT NEXT WEEK IN: LAB 11 CONVOLUTIONAL NEURAL NETWORKS!!!"
   ]
  },
  {
   "cell_type": "code",
   "execution_count": null,
   "id": "1931c3ce",
   "metadata": {},
   "outputs": [],
   "source": []
  }
 ],
 "metadata": {
  "kernelspec": {
   "display_name": "Python 3",
   "language": "python",
   "name": "python3"
  },
  "language_info": {
   "codemirror_mode": {
    "name": "ipython",
    "version": 3
   },
   "file_extension": ".py",
   "mimetype": "text/x-python",
   "name": "python",
   "nbconvert_exporter": "python",
   "pygments_lexer": "ipython3",
   "version": "3.8.5"
  }
 },
 "nbformat": 4,
 "nbformat_minor": 5
}
